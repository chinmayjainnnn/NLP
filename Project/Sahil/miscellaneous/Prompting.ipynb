{
 "cells": [
  {
   "cell_type": "code",
   "execution_count": 6,
   "metadata": {},
   "outputs": [],
   "source": [
    "import torch\n",
    "import torch.nn as nn\n",
    "from torch.nn.parallel import DataParallel\n",
    "\n",
    "import os\n",
    "from transformers import AutoTokenizer, AutoConfig, AutoModelForCausalLM\n",
    "\n",
    "# os.environ[\"CUDA_VISIBLE_DEVICES\"] = \"0\"    # Free GPU\n",
    "# os.environ['CUDA_LAUNCH_BLOCKING'] = \"1\"\n",
    "\n",
    "device = torch.device(\"cuda\" if torch.cuda.is_available() else \"cpu\")\n",
    "# device = torch.device(\"cpu\")"
   ]
  },
  {
   "cell_type": "code",
   "execution_count": 7,
   "metadata": {},
   "outputs": [
    {
     "data": {
      "application/vnd.jupyter.widget-view+json": {
       "model_id": "f5f31451472949809ea63241bee7e80a",
       "version_major": 2,
       "version_minor": 0
      },
      "text/plain": [
       "Loading checkpoint shards:   0%|          | 0/2 [00:00<?, ?it/s]"
      ]
     },
     "metadata": {},
     "output_type": "display_data"
    }
   ],
   "source": [
    "model = AutoModelForCausalLM.from_pretrained(\n",
    "    \"meta-llama/Llama-2-7b-chat-hf\",\n",
    "    cache_dir=\"/data5/home/sahilm/NLP_Project/Llama_2_7b_chat_hf\"\n",
    ")\n",
    "\n",
    "tokenizer = AutoTokenizer.from_pretrained(\"meta-llama/Llama-2-7b-chat-hf\", \n",
    "                                          cache_dir=\"/data5/home/sahilm/NLP_Project/Llama_2_7b_chat_hf\"\n",
    "                                         )\n",
    "\n",
    "# Commented out the cache_dir argument. Please use appropriate directory wherever model needs to be saved \n",
    "# or remove the argument to download model at default directory"
   ]
  },
  {
   "cell_type": "code",
   "execution_count": 9,
   "metadata": {},
   "outputs": [
    {
     "name": "stdout",
     "output_type": "stream",
     "text": [
      "Moj\n"
     ]
    },
    {
     "data": {
      "text/plain": [
       "DataParallel(\n",
       "  (module): DataParallel(\n",
       "    (module): LlamaForCausalLM(\n",
       "      (model): LlamaModel(\n",
       "        (embed_tokens): Embedding(32000, 4096)\n",
       "        (layers): ModuleList(\n",
       "          (0-31): 32 x LlamaDecoderLayer(\n",
       "            (self_attn): LlamaSdpaAttention(\n",
       "              (q_proj): Linear(in_features=4096, out_features=4096, bias=False)\n",
       "              (k_proj): Linear(in_features=4096, out_features=4096, bias=False)\n",
       "              (v_proj): Linear(in_features=4096, out_features=4096, bias=False)\n",
       "              (o_proj): Linear(in_features=4096, out_features=4096, bias=False)\n",
       "              (rotary_emb): LlamaRotaryEmbedding()\n",
       "            )\n",
       "            (mlp): LlamaMLP(\n",
       "              (gate_proj): Linear(in_features=4096, out_features=11008, bias=False)\n",
       "              (up_proj): Linear(in_features=4096, out_features=11008, bias=False)\n",
       "              (down_proj): Linear(in_features=11008, out_features=4096, bias=False)\n",
       "              (act_fn): SiLU()\n",
       "            )\n",
       "            (input_layernorm): LlamaRMSNorm()\n",
       "            (post_attention_layernorm): LlamaRMSNorm()\n",
       "          )\n",
       "        )\n",
       "        (norm): LlamaRMSNorm()\n",
       "      )\n",
       "      (lm_head): Linear(in_features=4096, out_features=32000, bias=False)\n",
       "    )\n",
       "  )\n",
       ")"
      ]
     },
     "execution_count": 9,
     "metadata": {},
     "output_type": "execute_result"
    }
   ],
   "source": [
    "if torch.cuda.device_count() > 1:\n",
    "    model = DataParallel(model)\n",
    "    print(\"Moj\")\n",
    "    \n",
    "device = torch.device(\"cuda\" if torch.cuda.is_available() else \"cpu\")\n",
    "model.to(device)"
   ]
  },
  {
   "cell_type": "code",
   "execution_count": 4,
   "metadata": {},
   "outputs": [],
   "source": [
    "# inputs = tokenizer(\"I am Bill Gates\", return_tensors=\"pt\").to(device)"
   ]
  },
  {
   "cell_type": "code",
   "execution_count": 5,
   "metadata": {},
   "outputs": [],
   "source": [
    "# inputs"
   ]
  },
  {
   "cell_type": "code",
   "execution_count": 6,
   "metadata": {},
   "outputs": [],
   "source": [
    "# outputs = model.generate(**inputs, max_new_tokens=10)"
   ]
  },
  {
   "cell_type": "code",
   "execution_count": 7,
   "metadata": {},
   "outputs": [],
   "source": [
    "# outputs"
   ]
  },
  {
   "cell_type": "code",
   "execution_count": 8,
   "metadata": {},
   "outputs": [],
   "source": [
    "# response = tokenizer.decode(outputs[0], skip_special_tokens=True)"
   ]
  },
  {
   "cell_type": "code",
   "execution_count": 9,
   "metadata": {},
   "outputs": [],
   "source": [
    "# print(response)"
   ]
  },
  {
   "cell_type": "code",
   "execution_count": 25,
   "metadata": {},
   "outputs": [],
   "source": [
    "model_without_parallel = model.module.module\n",
    "def get_llama2_reponse(prompt):\n",
    "    inputs = tokenizer(prompt, return_tensors=\"pt\").to(device)\n",
    "    # outputs = model.generate(**inputs, max_new_tokens=max_new_tokens, temperature= 0.00001)\n",
    "    outputs = model_without_parallel.generate(**inputs, temperature = 1e-8)\n",
    "    response = tokenizer.decode(outputs[0], skip_special_tokens=True)\n",
    "    return response"
   ]
  },
  {
   "cell_type": "code",
   "execution_count": 26,
   "metadata": {},
   "outputs": [],
   "source": [
    "import re\n",
    "def find_sentence_between_last_triple_backticks(text):\n",
    "    matches = re.findall(r'```([^`]*)```', text)\n",
    "    if matches:\n",
    "        return matches[-1]\n",
    "    else:\n",
    "        return None"
   ]
  },
  {
   "cell_type": "code",
   "execution_count": 21,
   "metadata": {},
   "outputs": [],
   "source": [
    "# prompt = \"Q:what is the capital of India? A:\"\n",
    "# get_llama2_reponse(prompt)"
   ]
  },
  {
   "cell_type": "code",
   "execution_count": 27,
   "metadata": {},
   "outputs": [
    {
     "name": "stdout",
     "output_type": "stream",
     "text": [
      " यह एक दुखद कहानी है, लेकिन आपको पीले सर्दि के साथ सुनना क्या करें मैं आपको बताऊंगा.\n"
     ]
    }
   ],
   "source": [
    "text = \"It is a sad story, but if you will try to restrain your tears I will tell you about it\"\n",
    "template = f\"\"\"Translate the following text to Hindi: \\nText: {text} \\nOutput: \"\"\"    \n",
    "output = get_llama2_reponse(template)\n",
    "# print(output)\n",
    "# output1 = output.split(\"```\")\n",
    "sentences_after_output = re.findall(r'Output:(.*)', output)\n",
    "print(sentences_after_output[0])\n",
    "# print(find_sentence_between_last_triple_backticks(output))"
   ]
  },
  {
   "cell_type": "code",
   "execution_count": 60,
   "metadata": {},
   "outputs": [
    {
     "name": "stdout",
     "output_type": "stream",
     "text": [
      "Translate the following text to Hindi:\n",
      "Text: It is a sad story, but if you will try to restrain your tears I will tell you about it\n",
      "Output: यह एक दुखद कहानी है, लेकिन आपको पीले सर्दि के साथ सुनना क्या करें मैं आपको बताऊंगा\n",
      "\n",
      "Note: The translation is in Hindi, but the English translation of the text is also provided for reference.\n"
     ]
    }
   ],
   "source": [
    "print(output)"
   ]
  },
  {
   "cell_type": "code",
   "execution_count": 11,
   "metadata": {},
   "outputs": [],
   "source": [
    "# output1 = output.split(\"```\")"
   ]
  },
  {
   "cell_type": "code",
   "execution_count": 61,
   "metadata": {},
   "outputs": [
    {
     "name": "stdout",
     "output_type": "stream",
     "text": [
      "  Il est une histoire triste, mais si vous essayerez de retenir vos larmes, je vais vous en dire plus sur elle\n"
     ]
    }
   ],
   "source": [
    "text = \"It is a sad story, but if you will try to restrain your tears I will tell you about it\"\n",
    "template = f\"\"\"Translate the following text to French:\n",
    "Text: {text}\n",
    "Output: \"\"\"    \n",
    "output = get_llama2_reponse(template)\n",
    "# print(output)\n",
    "# output1 = output.split(\"```\")\n",
    "sentences_after_output = re.findall(r'Output:(.*)', output)\n",
    "print(sentences_after_output[0])\n",
    "# print(find_sentence_between_last_triple_backticks(output))"
   ]
  },
  {
   "cell_type": "code",
   "execution_count": 62,
   "metadata": {},
   "outputs": [
    {
     "name": "stdout",
     "output_type": "stream",
     "text": [
      "Translate the following text to French:\n",
      "Text: It is a sad story, but if you will try to restrain your tears I will tell you about it\n",
      "Output:  Il est une histoire triste, mais si vous essayerez de retenir vos larmes, je vais vous en dire plus sur elle\n",
      "\n",
      "Please let me know if you need anything else.\n"
     ]
    }
   ],
   "source": [
    "print(output)"
   ]
  },
  {
   "cell_type": "code",
   "execution_count": 63,
   "metadata": {},
   "outputs": [
    {
     "name": "stdout",
     "output_type": "stream",
     "text": [
      "  Il est une histoire triste, mais si vous essayerez de retenir vos larmes, je vais vous en dire plus sur elle\n"
     ]
    }
   ],
   "source": [
    "sentences_after_output = re.findall(r'Output:(.*)', output)\n",
    "print(sentences_after_output[0])"
   ]
  },
  {
   "cell_type": "code",
   "execution_count": 64,
   "metadata": {},
   "outputs": [
    {
     "name": "stdout",
     "output_type": "stream",
     "text": [
      " 「這個麂麟問題」\n"
     ]
    }
   ],
   "source": [
    "text = \"What you do about Chiru?\"\n",
    "template = f\"\"\"Translate the following text to Chinese:\n",
    "Text: ```{text}``` \n",
    "Output: \"\"\"    \n",
    "output = get_llama2_reponse(template)\n",
    "# print(output)\n",
    "# output1 = output.split(\"```\")\n",
    "sentences_after_output = re.findall(r'Output:(.*)', output)\n",
    "print(sentences_after_output[0])\n",
    "# print(find_sentence_between_last_triple_backticks(output))"
   ]
  },
  {
   "cell_type": "code",
   "execution_count": 65,
   "metadata": {},
   "outputs": [
    {
     "name": "stdout",
     "output_type": "stream",
     "text": [
      "Translate the following text to Chinese:\n",
      "Text: ```What you do about Chiru?``` \n",
      "Output: 「這個麂麟問題」\n",
      "\n",
      "Note: Chiru is a fictional creature in the Tibetan Plateau, and the text is written in a playful and imaginative way. The word \"麂麟\" (Chiru) is a homophone for \"這個\" (this) in Chinese, which is why the translation is slightly different from the original text.\n"
     ]
    }
   ],
   "source": [
    "print(output)"
   ]
  },
  {
   "cell_type": "code",
   "execution_count": 66,
   "metadata": {},
   "outputs": [
    {
     "name": "stdout",
     "output_type": "stream",
     "text": [
      "0.3083012995502152\n"
     ]
    }
   ],
   "source": [
    "import nltk\n",
    "\n",
    "hypothesis = \"यह एक दुखद कहानी है, लेकिन अगर आपको पीले से निशाने की ओर संतुर्ण करना चाहते हैं, तो मैं आपको उसे कहाँ कहाँ बताऊंगा\".split()\n",
    "reference = \"यह एक दुखद कहानी है, लेकिन अगर आप अपने आंसुओं को रोकने की कोशिश करेंगे तो मैं आपको इसके बारे में बताऊंगा\".split()\n",
    "#there may be several references\n",
    "BLEUscore = nltk.translate.bleu_score.sentence_bleu([reference], hypothesis)\n",
    "print(BLEUscore)\n"
   ]
  },
  {
   "cell_type": "code",
   "execution_count": null,
   "metadata": {},
   "outputs": [],
   "source": [
    "while True:\n",
    "    pass"
   ]
  },
  {
   "cell_type": "code",
   "execution_count": null,
   "metadata": {},
   "outputs": [],
   "source": []
  },
  {
   "cell_type": "code",
   "execution_count": 1,
   "metadata": {},
   "outputs": [],
   "source": [
    "import torch\n",
    "import torch.nn as nn\n",
    "import os\n",
    "from transformers import AutoTokenizer, AutoConfig, AutoModelForCausalLM\n",
    "\n",
    "os.environ[\"CUDA_VISIBLE_DEVICES\"] = \"5\"    # Free GPU\n",
    "os.environ['CUDA_LAUNCH_BLOCKING'] = \"1\"\n",
    "\n",
    "device = torch.device(\"cuda\" if torch.cuda.is_available() else \"cpu\")\n",
    "# device = torch.device(\"cpu\")"
   ]
  },
  {
   "cell_type": "code",
   "execution_count": 2,
   "metadata": {},
   "outputs": [
    {
     "data": {
      "application/vnd.jupyter.widget-view+json": {
       "model_id": "52ce088c3c9a4013b6184cffb31955f8",
       "version_major": 2,
       "version_minor": 0
      },
      "text/plain": [
       "Loading checkpoint shards:   0%|          | 0/2 [00:00<?, ?it/s]"
      ]
     },
     "metadata": {},
     "output_type": "display_data"
    }
   ],
   "source": [
    "from langchain import HuggingFacePipeline\n",
    "from transformers import AutoTokenizer\n",
    "import transformers\n",
    "import torch\n",
    "from langchain.prompts import PromptTemplate\n",
    "from langchain.chains import LLMChain\n",
    "\n",
    "device = torch.device(\"cuda\" if torch.cuda.is_available() else \"cpu\")\n",
    "\n",
    "model = AutoModelForCausalLM.from_pretrained(\n",
    "    \"meta-llama/Llama-2-7b-chat-hf\",\n",
    "    cache_dir=\"/data5/home/sahilm/NLP_Project/Llama_2_7b_chat_hf\"\n",
    "    ).to(device)  \n",
    "    \n",
    "tokenizer = AutoTokenizer.from_pretrained(  \"meta-llama/Llama-2-7b-chat-hf\", \n",
    "                                            cache_dir=\"/data5/home/sahilm/NLP_Project/Llama_2_7b_chat_hf\"\n",
    "                                        )\n",
    "pipeline = transformers.pipeline(\n",
    "    \"text-generation\", \n",
    "    model=model,\n",
    "    tokenizer=tokenizer,\n",
    "    torch_dtype=torch.bfloat16,\n",
    "    trust_remote_code=True,\n",
    "    # device_map=\"auto\",\n",
    "    device=0 if device.type == \"cuda\" else -1,\n",
    "    max_length=1000,\n",
    "    eos_token_id=tokenizer.eos_token_id)\n"
   ]
  },
  {
   "cell_type": "code",
   "execution_count": 3,
   "metadata": {},
   "outputs": [
    {
     "data": {
      "text/plain": [
       "device(type='cuda')"
      ]
     },
     "execution_count": 3,
     "metadata": {},
     "output_type": "execute_result"
    }
   ],
   "source": [
    "device"
   ]
  },
  {
   "cell_type": "code",
   "execution_count": 19,
   "metadata": {},
   "outputs": [],
   "source": [
    "llm = HuggingFacePipeline(pipeline=pipeline,model_kwargs={'temprature' : 0})\n",
    "# llm = HuggingFacePipeline(pipeline=pipeline,model_kwargs = {})"
   ]
  },
  {
   "cell_type": "code",
   "execution_count": 20,
   "metadata": {},
   "outputs": [],
   "source": [
    "text = \"I want to play cricket or football\"\n",
    "template = \"\"\"  ```{text}``` translate the given sentence to Hindi, and only return the content translated. no explanation. \"\"\"    "
   ]
  },
  {
   "cell_type": "code",
   "execution_count": 21,
   "metadata": {},
   "outputs": [
    {
     "name": "stdout",
     "output_type": "stream",
     "text": [
      "input_variables=['text'] template='  ```{text}``` translate the given sentence to Hindi, and only return the content translated. no explanation. '\n"
     ]
    }
   ],
   "source": [
    "# prompt = PromptTemplate(template=template, input_variables=[\"text\"])\n",
    "prompt = PromptTemplate(template=template, input_variables=[\"text\"])\n",
    "print(prompt)"
   ]
  },
  {
   "cell_type": "code",
   "execution_count": 22,
   "metadata": {},
   "outputs": [],
   "source": [
    "llm_chain = LLMChain(prompt=prompt, llm=llm)"
   ]
  },
  {
   "cell_type": "code",
   "execution_count": 23,
   "metadata": {},
   "outputs": [
    {
     "name": "stdout",
     "output_type": "stream",
     "text": [
      "\n",
      "\n",
      "```\n",
      "I want to play cricket or football\n",
      "```\n",
      "Translation in Hindi:\n",
      "\n",
      "मैं क्रिकेट या फुटबॉल खेलना चाहता हूँ\n",
      "\n",
      "Note: The translation is in Hindi, and it is the most common and widely spoken language in India.\n"
     ]
    }
   ],
   "source": [
    "print(llm_chain.run(text))"
   ]
  },
  {
   "cell_type": "code",
   "execution_count": 24,
   "metadata": {},
   "outputs": [],
   "source": [
    "# # Example usage:\n",
    "# input_text = \"Hello, how are you? Translate it to Hindi Only give Translated Text\"\n",
    "# translated_text = pipeline(input_text)\n",
    "# print(translated_text)"
   ]
  },
  {
   "cell_type": "code",
   "execution_count": null,
   "metadata": {},
   "outputs": [],
   "source": []
  }
 ],
 "metadata": {
  "kernelspec": {
   "display_name": "Python 3",
   "language": "python",
   "name": "python3"
  },
  "language_info": {
   "codemirror_mode": {
    "name": "ipython",
    "version": 3
   },
   "file_extension": ".py",
   "mimetype": "text/x-python",
   "name": "python",
   "nbconvert_exporter": "python",
   "pygments_lexer": "ipython3",
   "version": "3.11.5"
  }
 },
 "nbformat": 4,
 "nbformat_minor": 2
}
