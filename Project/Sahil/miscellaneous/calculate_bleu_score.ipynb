{
 "cells": [
  {
   "cell_type": "code",
   "execution_count": 1,
   "metadata": {},
   "outputs": [],
   "source": [
    "def extract_Hindi_and_Output_score(file_path):\n",
    "    hindi = []\n",
    "    out = []\n",
    "    with open(file_path, 'r') as file:\n",
    "        for line in file:\n",
    "            if \"HINDI: \" in line:\n",
    "                try:\n",
    "                    bleu_score = (line.split(\"HINDI: \")[1].strip())\n",
    "                    hindi.append(bleu_score)\n",
    "                except ValueError:\n",
    "                    # If there's an issue converting to float, skip this line\n",
    "                    continue\n",
    "            if \"OUTPUT: \" in line:\n",
    "                try:\n",
    "                    bleu_score = (line.split(\"OUTPUT: \")[1].strip())\n",
    "                    out.append(bleu_score)\n",
    "                except ValueError:\n",
    "                    # If there's an issue converting to float, skip this line\n",
    "                    continue\n",
    "    return hindi,out\n"
   ]
  },
  {
   "cell_type": "code",
   "execution_count": 2,
   "metadata": {},
   "outputs": [],
   "source": [
    "file_path = \"/data5/home/sahilm/NLP_Project/zero_shot_Hindi_output.txt\"\n",
    "hindi,output = extract_Hindi_and_Output_score(file_path)"
   ]
  },
  {
   "cell_type": "code",
   "execution_count": 3,
   "metadata": {},
   "outputs": [
    {
     "name": "stdout",
     "output_type": "stream",
     "text": [
      "432\n",
      "431\n"
     ]
    }
   ],
   "source": [
    "print(len(hindi))\n",
    "print(len(output))"
   ]
  },
  {
   "cell_type": "code",
   "execution_count": 4,
   "metadata": {},
   "outputs": [],
   "source": [
    "hindi = hindi[:len(hindi)-1]"
   ]
  },
  {
   "cell_type": "code",
   "execution_count": 5,
   "metadata": {},
   "outputs": [
    {
     "name": "stdout",
     "output_type": "stream",
     "text": [
      "431\n",
      "431\n"
     ]
    }
   ],
   "source": [
    "print(len(hindi))\n",
    "print(len(output))"
   ]
  },
  {
   "cell_type": "code",
   "execution_count": 6,
   "metadata": {},
   "outputs": [
    {
     "name": "stdout",
     "output_type": "stream",
     "text": [
      "['जिसके जवाब में पाक ने अच्छी शुरुआत की थी.', 'यूरोपीय संघ के महत्वपूर्ण संस्थानों में यूरोपियन कमीशन, यूरोपीय संसद, यूरोपीय संघ परिषद, यूरोपीय न्यायलय एवं यूरोपियन सेंट्रल बैंक इत्यादि शामिल हैं।', 'कांग्रेस नेता तमिलनाडु से शिवगंगा लोकसभा क्षेत्र का प्रतिनिधित्व करते हैं.', 'संबंधन प्रयास के बारे में उपयोक्ता को प्रांप्ट करें', 'वित्त मंत्री ने घोषणा कि जमा बीमा और ऋण गारंटी निगम (डीआईसीजीसी) को जमा राशि बीमा का दायरा, जो इस समय 1 लाख रुपये है उसे बढ़ाकर प्रति जमाकर्ता 5 लाख रुपये करने की अनुमति प्रदान कर दी गई है।']\n"
     ]
    }
   ],
   "source": [
    "print(hindi[:5])"
   ]
  },
  {
   "cell_type": "code",
   "execution_count": 7,
   "metadata": {},
   "outputs": [
    {
     "name": "stdout",
     "output_type": "stream",
     "text": [
      "['पाकिस्तान ने स्थापना की.', 'एरोपेन यूनियन ने सात महत्वाकांक निर्देशक शासन के साथ अधिकार का आधार बनाया है: ईरपेल पार्लीमेंट, ईरोपेन कॉउन्सिल, कॉउन्सिल ऑफ ईरोपेन यूनियन, ईरोपेन कमीशन, कोर्ट ऑफ जस्टिसी ऑफ ईरोपेन यूनियन, ईरोपेन', 'कांग्रेस नेता सिवागंगा लोक सभा सेгमेंट के लिए तमिलनाडु से खड़ा है।', 'जunction उपलब्धि की सुझाव दें', 'देखा है, मंत्री ने कहा कि डेपोजिट इंसरेंसी और कредит गारंतनी कॉर्पोरेशन (DICGC) को उठाना है डेपोजिट इंसरेंसी कोरोखा के साथ और क्रेडिट गारंतनी क्रमांक को बढावा देना.']\n"
     ]
    }
   ],
   "source": [
    "print(output[:5])"
   ]
  },
  {
   "cell_type": "code",
   "execution_count": 8,
   "metadata": {},
   "outputs": [],
   "source": [
    "from nltk.translate.bleu_score import sentence_bleu, SmoothingFunction\n",
    "from nltk.tokenize import word_tokenize\n",
    "\n",
    "def calculate_bleu_score(reference, candidate):\n",
    "    # Tokenize reference and candidate strings\n",
    "    reference_tokens = word_tokenize(reference.lower())\n",
    "    candidate_tokens = word_tokenize(candidate.lower())\n",
    "    # print(reference_tokens)\n",
    "    # print([reference_tokens])\n",
    "    # print(candidate_tokens)\n",
    "    # Calculate BLEU score\n",
    "    bleu_score = sentence_bleu([reference_tokens], candidate_tokens,weights=(1/4,1/4,1/4,1/4),smoothing_function=SmoothingFunction().method1)\n",
    "    \n",
    "    return bleu_score"
   ]
  },
  {
   "cell_type": "code",
   "execution_count": 9,
   "metadata": {},
   "outputs": [
    {
     "name": "stdout",
     "output_type": "stream",
     "text": [
      "0.035614562735037415\n"
     ]
    }
   ],
   "source": [
    "total_score = 0\n",
    "for i in range(len(output)):\n",
    "    total_score += calculate_bleu_score(hindi[i],output[i])\n",
    "\n",
    "print(total_score/len(output))"
   ]
  },
  {
   "cell_type": "code",
   "execution_count": 54,
   "metadata": {},
   "outputs": [
    {
     "name": "stdout",
     "output_type": "stream",
     "text": [
      "['score', 'counts', 'totals', 'precisions', 'bp', 'sys_len', 'ref_len']\n"
     ]
    }
   ],
   "source": [
    "import evaluate\n",
    "predictions = [\"i am sahil l\"]\n",
    "references = [[\"i am sahil l\"]]\n",
    "metric = evaluate.load(\"sacrebleu\")\n",
    "# result = metric.compute(predictions=[\"I am Sahil\"], references=[[\"I am Sahil\"]])\n",
    "result = metric.compute(predictions=predictions, references=references)\n",
    "print(list(results.keys()))\n",
    "\n",
    "bleu = result[\"score\"]"
   ]
  },
  {
   "cell_type": "code",
   "execution_count": 55,
   "metadata": {},
   "outputs": [
    {
     "data": {
      "text/plain": [
       "100.00000000000004"
      ]
     },
     "execution_count": 55,
     "metadata": {},
     "output_type": "execute_result"
    }
   ],
   "source": [
    "bleu"
   ]
  },
  {
   "cell_type": "code",
   "execution_count": 66,
   "metadata": {},
   "outputs": [],
   "source": [
    "import evaluate\n",
    "metric = evaluate.load(\"sacrebleu\")\n",
    "def calculate_bleu_score(reference, candidate):\n",
    "    # Tokenize reference and candidate strings\n",
    "    predictions = [candidate]\n",
    "    reference = [[reference]]\n",
    "    result = metric.compute(predictions=predictions, references=reference)\n",
    "    return result['score']"
   ]
  },
  {
   "cell_type": "code",
   "execution_count": 67,
   "metadata": {},
   "outputs": [
    {
     "data": {
      "text/plain": [
       "100.00000000000004"
      ]
     },
     "execution_count": 67,
     "metadata": {},
     "output_type": "execute_result"
    }
   ],
   "source": [
    "calculate_bleu_score(\"मैं क्रिकेट खेलना चाहता हूं\" , \"मैं क्रिकेट खेलना चाहता हूं\")"
   ]
  },
  {
   "cell_type": "code",
   "execution_count": 70,
   "metadata": {},
   "outputs": [
    {
     "name": "stdout",
     "output_type": "stream",
     "text": [
      "5.632116622882402\n"
     ]
    }
   ],
   "source": [
    "total_score = 0\n",
    "for i in range(len(output)):\n",
    "    total_score += calculate_bleu_score(hindi[i],output[i])\n",
    "\n",
    "print(total_score/len(output))"
   ]
  }
 ],
 "metadata": {
  "kernelspec": {
   "display_name": "base",
   "language": "python",
   "name": "python3"
  },
  "language_info": {
   "codemirror_mode": {
    "name": "ipython",
    "version": 3
   },
   "file_extension": ".py",
   "mimetype": "text/x-python",
   "name": "python",
   "nbconvert_exporter": "python",
   "pygments_lexer": "ipython3",
   "version": "3.11.5"
  }
 },
 "nbformat": 4,
 "nbformat_minor": 2
}
