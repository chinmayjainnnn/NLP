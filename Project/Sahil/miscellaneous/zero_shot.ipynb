{
 "cells": [
  {
   "cell_type": "code",
   "execution_count": 11,
   "metadata": {},
   "outputs": [],
   "source": [
    "import torch\n",
    "import torch.nn as nn\n",
    "from torch.nn.parallel import DataParallel\n",
    "\n",
    "import os\n",
    "import re\n",
    "from transformers import AutoTokenizer, AutoConfig, AutoModelForCausalLM\n",
    "\n",
    "# os.environ[\"CUDA_VISIBLE_DEVICES\"] = \"0\"    # Free GPU\n",
    "# os.environ['CUDA_LAUNCH_BLOCKING'] = \"1\"\n",
    "\n",
    "device = torch.device(\"cuda\" if torch.cuda.is_available() else \"cpu\")\n",
    "# device = torch.device(\"cpu\")"
   ]
  },
  {
   "cell_type": "code",
   "execution_count": 2,
   "metadata": {},
   "outputs": [
    {
     "data": {
      "application/vnd.jupyter.widget-view+json": {
       "model_id": "167c3d2604984070a6ff63abf08cbf08",
       "version_major": 2,
       "version_minor": 0
      },
      "text/plain": [
       "Loading checkpoint shards:   0%|          | 0/2 [00:00<?, ?it/s]"
      ]
     },
     "metadata": {},
     "output_type": "display_data"
    }
   ],
   "source": [
    "model = AutoModelForCausalLM.from_pretrained(\n",
    "    \"meta-llama/Llama-2-7b-chat-hf\",\n",
    "    cache_dir=\"/data5/home/sahilm/NLP_Project/Llama_2_7b_chat_hf\"\n",
    "    )\n",
    "\n",
    "tokenizer = AutoTokenizer.from_pretrained(\"meta-llama/Llama-2-7b-chat-hf\", \n",
    "                                          cache_dir=\"/data5/home/sahilm/NLP_Project/Llama_2_7b_chat_hf\"\n",
    "                                         )"
   ]
  },
  {
   "cell_type": "code",
   "execution_count": 3,
   "metadata": {},
   "outputs": [
    {
     "name": "stdout",
     "output_type": "stream",
     "text": [
      "Moj\n"
     ]
    },
    {
     "data": {
      "text/plain": [
       "DataParallel(\n",
       "  (module): LlamaForCausalLM(\n",
       "    (model): LlamaModel(\n",
       "      (embed_tokens): Embedding(32000, 4096)\n",
       "      (layers): ModuleList(\n",
       "        (0-31): 32 x LlamaDecoderLayer(\n",
       "          (self_attn): LlamaSdpaAttention(\n",
       "            (q_proj): Linear(in_features=4096, out_features=4096, bias=False)\n",
       "            (k_proj): Linear(in_features=4096, out_features=4096, bias=False)\n",
       "            (v_proj): Linear(in_features=4096, out_features=4096, bias=False)\n",
       "            (o_proj): Linear(in_features=4096, out_features=4096, bias=False)\n",
       "            (rotary_emb): LlamaRotaryEmbedding()\n",
       "          )\n",
       "          (mlp): LlamaMLP(\n",
       "            (gate_proj): Linear(in_features=4096, out_features=11008, bias=False)\n",
       "            (up_proj): Linear(in_features=4096, out_features=11008, bias=False)\n",
       "            (down_proj): Linear(in_features=11008, out_features=4096, bias=False)\n",
       "            (act_fn): SiLU()\n",
       "          )\n",
       "          (input_layernorm): LlamaRMSNorm()\n",
       "          (post_attention_layernorm): LlamaRMSNorm()\n",
       "        )\n",
       "      )\n",
       "      (norm): LlamaRMSNorm()\n",
       "    )\n",
       "    (lm_head): Linear(in_features=4096, out_features=32000, bias=False)\n",
       "  )\n",
       ")"
      ]
     },
     "execution_count": 3,
     "metadata": {},
     "output_type": "execute_result"
    }
   ],
   "source": [
    "if torch.cuda.device_count() > 1:\n",
    "    model = DataParallel(model)\n",
    "    print(\"Moj\")\n",
    "    \n",
    "device = torch.device(\"cuda\" if torch.cuda.is_available() else \"cpu\")\n",
    "model.to(device)"
   ]
  },
  {
   "cell_type": "code",
   "execution_count": 5,
   "metadata": {},
   "outputs": [],
   "source": [
    "model_without_parallel = model.module\n",
    "def get_llama2_reponse(prompt):\n",
    "    inputs = tokenizer(prompt, return_tensors=\"pt\").to(device)\n",
    "    # outputs = model.generate(**inputs, max_new_tokens=max_new_tokens, temperature= 0.00001)\n",
    "    outputs = model_without_parallel.generate(**inputs, temperature = 1e-4)\n",
    "    response = tokenizer.decode(outputs[0], skip_special_tokens=True)\n",
    "    return response"
   ]
  },
  {
   "cell_type": "code",
   "execution_count": 6,
   "metadata": {},
   "outputs": [],
   "source": [
    "def find_sentence_between_last_triple_backticks(text):\n",
    "    matches = re.findall(r'```([^`]*)```', text)\n",
    "    if matches:\n",
    "        return matches[-1]\n",
    "    else:\n",
    "        return None"
   ]
  },
  {
   "cell_type": "code",
   "execution_count": 9,
   "metadata": {},
   "outputs": [
    {
     "name": "stdout",
     "output_type": "stream",
     "text": [
      "BLEU Score: 1.0\n"
     ]
    }
   ],
   "source": [
    "from nltk.translate.bleu_score import sentence_bleu\n",
    "from nltk.tokenize import word_tokenize\n",
    "\n",
    "def calculate_bleu_score(reference, candidate):\n",
    "    # Tokenize reference and candidate strings\n",
    "    reference_tokens = word_tokenize(reference.lower())\n",
    "    candidate_tokens = word_tokenize(candidate.lower())\n",
    "\n",
    "    # Calculate BLEU score\n",
    "    bleu_score = sentence_bleu([reference_tokens], candidate_tokens)\n",
    "    \n",
    "    return bleu_score\n",
    "\n",
    "# Example usage:\n",
    "reference = \"this is a reference sent ence\"\n",
    "candidate = \"this is a reference sent ence\"\n",
    "score = calculate_bleu_score(reference, candidate)\n",
    "print(\"BLEU Score:\", score)\n"
   ]
  },
  {
   "cell_type": "code",
   "execution_count": null,
   "metadata": {},
   "outputs": [],
   "source": [
    "# Open both files\n",
    "with open(\"/data5/home/sahilm/NLP_Project/Dataset/IndicNECorp1.0/English-Mizo/parallel/en-lus-test-en.txt\", \"r\") as file1, open(\"/data5/home/sahilm/NLP_Project/Dataset/IndicNECorp1.0/English-Mizo/parallel/en-lus-test-lus.txt\", \"r\") as file2:\n",
    "    # Iterate over lines from both files simultaneously\n",
    "    cnt = 0\n",
    "    for line1, line2 in zip(file1, file2):\n",
    "        cnt+=1\n",
    "        # Process the lines (e.g., print them)\n",
    "        # print(\"Line from file1:\", line1.strip())\n",
    "        # print(\"Line from file2:\", line2.strip())\n",
    "        text = line1.strip()[:20]\n",
    "        template = f\"\"\"Translate the following text to Hindi:\\nText: {text}\\nOutput: \"\"\"    \n",
    "        # print(template)\n",
    "        # print(text)\n",
    "        output = get_llama2_reponse(template)\n",
    "        # print(output)\n",
    "        # output1 = output.split(\"```\")\n",
    "\n",
    "        sentences_after_output = re.findall(r'Output:(.*)', output)\n",
    "        print(sentences_after_output[0].strip())\n",
    "\n",
    "        if cnt==10:\n",
    "            break\n",
    "        # print(find_sentence_between_last_triple_backticks(output))\n",
    "\n"
   ]
  },
  {
   "cell_type": "code",
   "execution_count": null,
   "metadata": {},
   "outputs": [],
   "source": []
  }
 ],
 "metadata": {
  "kernelspec": {
   "display_name": "base",
   "language": "python",
   "name": "python3"
  },
  "language_info": {
   "codemirror_mode": {
    "name": "ipython",
    "version": 3
   },
   "file_extension": ".py",
   "mimetype": "text/x-python",
   "name": "python",
   "nbconvert_exporter": "python",
   "pygments_lexer": "ipython3",
   "version": "3.11.5"
  }
 },
 "nbformat": 4,
 "nbformat_minor": 2
}
