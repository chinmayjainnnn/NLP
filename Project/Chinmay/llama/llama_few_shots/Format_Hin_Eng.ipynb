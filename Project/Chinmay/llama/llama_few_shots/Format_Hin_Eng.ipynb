{
 "cells": [
  {
   "cell_type": "code",
   "execution_count": 1,
   "metadata": {},
   "outputs": [],
   "source": [
    "lines=[]\n",
    "with open(\"/raid/home/chinmayjain/NLP_project/llama/chinmay/results/Prompt_1/hi_en_7b_hf.txt\", 'r') as f:\n",
    "    for line in f:\n",
    "        lines.append(line.strip())"
   ]
  },
  {
   "cell_type": "code",
   "execution_count": 2,
   "metadata": {},
   "outputs": [
    {
     "data": {
      "text/plain": [
       "13325"
      ]
     },
     "execution_count": 2,
     "metadata": {},
     "output_type": "execute_result"
    }
   ],
   "source": [
    "len(lines)"
   ]
  },
  {
   "cell_type": "code",
   "execution_count": 3,
   "metadata": {},
   "outputs": [],
   "source": [
    "data=[]\n",
    "temp=True\n",
    "with open(\"/raid/home/chinmayjain/NLP_project/llama/chinmay/results/Prompt_1/cleaned_hi_en_7b_hf.txt\", 'w') as f:\n",
    "    for line in lines:\n",
    "        if temp and line.startswith(\"[English]:\"):\n",
    "            data.append(line+ '\\n')\n",
    "            temp=False\n",
    "        elif line.startswith(\"[Actual English]:\"):\n",
    "            data.append(line+ '\\n')\n",
    "            temp=True\n",
    "        elif line.startswith(\"==================================================\"):\n",
    "            data.append(line+ '\\n')\n",
    "    \n",
    "    f.writelines(data)\n",
    "\n",
    "            "
   ]
  },
  {
   "cell_type": "code",
   "execution_count": 4,
   "metadata": {},
   "outputs": [
    {
     "data": {
      "text/plain": [
       "1560"
      ]
     },
     "execution_count": 4,
     "metadata": {},
     "output_type": "execute_result"
    }
   ],
   "source": [
    "len(data)"
   ]
  },
  {
   "cell_type": "code",
   "execution_count": null,
   "metadata": {},
   "outputs": [],
   "source": []
  },
  {
   "cell_type": "code",
   "execution_count": null,
   "metadata": {},
   "outputs": [],
   "source": []
  }
 ],
 "metadata": {
  "kernelspec": {
   "display_name": "Python 3",
   "language": "python",
   "name": "python3"
  },
  "language_info": {
   "codemirror_mode": {
    "name": "ipython",
    "version": 3
   },
   "file_extension": ".py",
   "mimetype": "text/x-python",
   "name": "python",
   "nbconvert_exporter": "python",
   "pygments_lexer": "ipython3",
   "version": "3.8.10"
  }
 },
 "nbformat": 4,
 "nbformat_minor": 2
}
