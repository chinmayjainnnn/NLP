{
 "cells": [
  {
   "cell_type": "code",
   "execution_count": 23,
   "metadata": {},
   "outputs": [],
   "source": [
    "lines=[]\n",
    "with open(\"/raid/home/sriramd/chinmay/results/eng_to_hin_llama_7b_hf.txt\", 'r') as f:\n",
    "    for line in f:\n",
    "        lines.append(line.strip())"
   ]
  },
  {
   "cell_type": "code",
   "execution_count": 24,
   "metadata": {},
   "outputs": [
    {
     "data": {
      "text/plain": [
       "10710"
      ]
     },
     "execution_count": 24,
     "metadata": {},
     "output_type": "execute_result"
    }
   ],
   "source": [
    "len(lines)"
   ]
  },
  {
   "cell_type": "code",
   "execution_count": 25,
   "metadata": {},
   "outputs": [],
   "source": [
    "data=[]\n",
    "temp=True\n",
    "with open(\"/raid/home/sriramd/chinmay/results/cleaned/cleaned_0shots.txt\", 'w') as f:\n",
    "    for line in lines:\n",
    "        if temp and line.startswith(\"[Hindi]:\"):\n",
    "            data.append(line+ '\\n')\n",
    "            temp=False\n",
    "        elif line.startswith(\"[Actual Hindi]:\"):\n",
    "            data.append(line+ '\\n')\n",
    "            temp=True\n",
    "        elif line.startswith(\"==================================================\"):\n",
    "            data.append(line+ '\\n')\n",
    "    \n",
    "    f.writelines(data)\n",
    "\n",
    "            "
   ]
  },
  {
   "cell_type": "code",
   "execution_count": 26,
   "metadata": {},
   "outputs": [
    {
     "data": {
      "text/plain": [
       "1560"
      ]
     },
     "execution_count": 26,
     "metadata": {},
     "output_type": "execute_result"
    }
   ],
   "source": [
    "len(data)"
   ]
  }
 ],
 "metadata": {
  "kernelspec": {
   "display_name": "Python 3",
   "language": "python",
   "name": "python3"
  },
  "language_info": {
   "codemirror_mode": {
    "name": "ipython",
    "version": 3
   },
   "file_extension": ".py",
   "mimetype": "text/x-python",
   "name": "python",
   "nbconvert_exporter": "python",
   "pygments_lexer": "ipython3",
   "version": "3.8.10"
  }
 },
 "nbformat": 4,
 "nbformat_minor": 2
}
