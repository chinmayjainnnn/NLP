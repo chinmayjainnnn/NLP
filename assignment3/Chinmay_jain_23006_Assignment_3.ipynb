{
  "cells": [
    {
      "cell_type": "markdown",
      "metadata": {
        "id": "TZ39Vxvm7S0a"
      },
      "source": [
        "# Assignment 3: Sequence-to-Sequence Modeling (TA: Kinshuk Vasisht)\n",
        "\n",
        "In this assignment, you will perform the task of translating Indian Names to Hindi, a sequence-to-sequence modeling task, using character-level conditional language models.\n",
        "\n",
        "As before, please make a copy of this notebook (locally or on Colab). Ensure you adhere to the guidelines and submission instructions (mentioned below) for attempting and submitting the assignment."
      ]
    },
    {
      "cell_type": "markdown",
      "metadata": {
        "id": "uysmp8X-7S0i"
      },
      "source": [
        "### Guidelines for Attempting the Assignment"
      ]
    },
    {
      "cell_type": "markdown",
      "metadata": {
        "id": "E_vklna37S0j"
      },
      "source": [
        "1. Write your logic in the cells which have the comment `# ADD YOUR CODE HERE`, between the `# BEGIN CODE` and `# END CODE` comments. These cells are also demarcated by the special start (`## ==== BEGIN EVALUATION PORTION`) and end (`## ==== END EVALUATION PORTION`) comments. Do **NOT** remove any of these comments from the designated cells, otherwise your assigment may not be evaluated correctly.\n",
        "\n",
        "2. All imports that should be necessary are already provided as part of the notebook. Should you require additional imports, add them in the cells to be graded, but outside the `# BEGIN CODE` and `# END CODE` block. For example, if you need to import a package called `mypackage`, add it as follows in a graded cell:\n",
        "\n",
        "``` python\n",
        "## ==== BEGIN EVALUATION PORTION\n",
        "\n",
        "import mypackage # <===\n",
        "\n",
        "def function_to_be_implemented(*args, **kwargs):\n",
        "\n",
        "    ...\n",
        "\n",
        "    # ADD YOUR CODE HERE\n",
        "    # BEGIN CODE\n",
        "\n",
        "    # END CODE\n",
        "\n",
        "    ...\n",
        "\n",
        "## ==== END EVALUATION PORTION\n",
        "\n",
        "```\n",
        "\n",
        "3. Only write your code in the cells designated for auto-evaluation. If you encounter any errors in the supporting cells during execution, contact the respective TAs.\n",
        "\n",
        "4. **Important**: Use of AI-assistive technologies such as ChatGPT or GitHub CoPilot is not permitted for this assignment. Ensure that all attempts are solely your own. Not following this rule can incur heavy penalty, including getting NO GRADE for this assignment, which will affect your grade significantly."
      ]
    },
    {
      "cell_type": "markdown",
      "metadata": {
        "id": "sK3moP9d7S0l"
      },
      "source": [
        "### Submission Instructions"
      ]
    },
    {
      "cell_type": "markdown",
      "metadata": {
        "id": "g1Y-T9hT7S0m"
      },
      "source": [
        "1. Ensure your code follows all guidelines mentioned above before submission.\n",
        "\n",
        "2. Try to avoid any unnecessary print statements across the code. We will evaluate specific output lines which begin with the phrase `EVALUATION`. Ensure you do not modify these print statements howsoever, as they are used for auto-evaluation.\n",
        "\n",
        "3. When you have completely attempted the assignment, export the current notebook as a `.py` file, with the following name: `SAPName_SRNo_assignment3.py`, where `SAPName` would be your name as per SAP record, and `SRNo` will be the last 5 digits of your IISc SR number. For example, IISc student with SAP name Twyla Linda (SR no - 04-03-00-10-22-20-1-15329) would use `Twyla_Linda_15329_assignment3.py`.\n",
        "\n",
        "4. Once you have executed the code, certain additional files will be created. Once you are done executing all associated cells, ensure the folder structure looks as follows:\n",
        "\n",
        "``` python\n",
        "└─── SAPName_SRNo\n",
        "     ├─── SAPName_SRNo_assignment3.py\n",
        "     ├─── src-tokenizer\n",
        "     │    └─── tokenizer.pkl\n",
        "     ├─── tgt-tokenizer\n",
        "     │    └─── tokenizer.pkl\n",
        "     ├─── rnn.enc-dec\n",
        "     │    ├─── model.pt\n",
        "     │    ├─── loss.json\n",
        "     │    ├─── outputs.csv\n",
        "     │    └─── metadata.json\n",
        "     └─── rnn.enc-dec.attn\n",
        "          ├─── model.pt\n",
        "          ├─── loss.json\n",
        "          ├─── outputs.csv\n",
        "          └─── metadata.json\n",
        "```\n",
        "\n",
        "5. Once you have validated the folder structure as above, add the exported `.py` file to the folder and submit the folder as a ZIP archive."
      ]
    },
    {
      "cell_type": "markdown",
      "metadata": {
        "id": "JWNGKx3C7S0n"
      },
      "source": [
        "In the cell below, replace `SAPName` with your name as per SAP record, and `SRNo` with the last 5 digits of your IISc SR number. For example, IISc student with SAP name Twyla Linda (SR no - 04-03-00-10-22-20-1-15329) would use:\n",
        "\n",
        "```python\n",
        "STUDENT_SAP_NAME  = \"Twyla Linda\"\n",
        "STUDENT_SR_NUMBER = \"15329\"\n",
        "```"
      ]
    },
    {
      "cell_type": "code",
      "execution_count": 1,
      "metadata": {
        "id": "juYQICX47S0p"
      },
      "outputs": [],
      "source": [
        "STUDENT_SAP_NAME  = \"Chinmay Jain\"\n",
        "STUDENT_SR_NUMBER = \"23006\""
      ]
    },
    {
      "cell_type": "markdown",
      "metadata": {
        "id": "9JmPFqkT7S0r"
      },
      "source": [
        "**Important Notes**:\n",
        "\n",
        "- Some of the tasks in this assignment are compute intensive, and are better performed on an accelerator device (GPU, etc.). Unless you have one locally, prefer using a GPU instance on Colab for execution.\n",
        "- Due to resource restrictions on Colab, training some models may not finish in time. In such a case, ensure you store checkpoints to a persistent directory so that you may resume training once your resource limits are restored."
      ]
    },
    {
      "cell_type": "markdown",
      "metadata": {
        "id": "TbZjfBWF7S0t"
      },
      "source": [
        "## Outline"
      ]
    },
    {
      "cell_type": "markdown",
      "metadata": {
        "id": "lQVZHQIJ7S0t"
      },
      "source": [
        "Through the last assignment, you have seen that neural language models are able to successfully capture patterns across Indian names. In this assignment, you will extend upon that idea to learn conditional language models for the task of transliteration: converting Indian names in the English alphabet to Hindi."
      ]
    },
    {
      "cell_type": "markdown",
      "metadata": {
        "id": "ElSrTdBy7S0u"
      },
      "source": [
        "### Marks Distribution\n",
        "\n",
        "- Tokenization: 20 marks\n",
        "- Agnostic Task-Specific Training: 5 marks\n",
        "- Seq-2-Seq via RNN: 40 marks\n",
        "- Seq-2-Seq via RNN with Attention: 35 marks\n",
        "- Evaluation\n",
        "- (**Bonus**) Decoding Strategies: 20 marks"
      ]
    },
    {
      "cell_type": "markdown",
      "metadata": {
        "id": "oeose21P7S0v"
      },
      "source": [
        "## Setup"
      ]
    },
    {
      "cell_type": "markdown",
      "metadata": {
        "id": "w1ApHWVd7S0v"
      },
      "source": [
        "The following cells perform the basic setup such as importing the necessary packages."
      ]
    },
    {
      "cell_type": "code",
      "execution_count": 2,
      "metadata": {
        "id": "m1rW15no7S0w"
      },
      "outputs": [
        {
          "name": "stdout",
          "output_type": "stream",
          "text": [
            "Requirement already satisfied: tqdm in /raid/home/chinmayjain/miniconda3/lib/python3.12/site-packages (4.65.0)\n",
            "Requirement already satisfied: nltk in /raid/home/chinmayjain/miniconda3/lib/python3.12/site-packages (3.8.1)\n",
            "Requirement already satisfied: matplotlib in /raid/home/chinmayjain/miniconda3/lib/python3.12/site-packages (3.8.3)\n",
            "Requirement already satisfied: numpy in /raid/home/chinmayjain/miniconda3/lib/python3.12/site-packages (1.26.4)\n",
            "Requirement already satisfied: pandas in /raid/home/chinmayjain/miniconda3/lib/python3.12/site-packages (2.2.1)\n",
            "Requirement already satisfied: click in /raid/home/chinmayjain/miniconda3/lib/python3.12/site-packages (from nltk) (8.1.7)\n",
            "Requirement already satisfied: joblib in /raid/home/chinmayjain/miniconda3/lib/python3.12/site-packages (from nltk) (1.3.2)\n",
            "Requirement already satisfied: regex>=2021.8.3 in /raid/home/chinmayjain/miniconda3/lib/python3.12/site-packages (from nltk) (2023.12.25)\n",
            "Requirement already satisfied: contourpy>=1.0.1 in /raid/home/chinmayjain/miniconda3/lib/python3.12/site-packages (from matplotlib) (1.2.0)\n",
            "Requirement already satisfied: cycler>=0.10 in /raid/home/chinmayjain/miniconda3/lib/python3.12/site-packages (from matplotlib) (0.12.1)\n",
            "Requirement already satisfied: fonttools>=4.22.0 in /raid/home/chinmayjain/miniconda3/lib/python3.12/site-packages (from matplotlib) (4.49.0)\n",
            "Requirement already satisfied: kiwisolver>=1.3.1 in /raid/home/chinmayjain/miniconda3/lib/python3.12/site-packages (from matplotlib) (1.4.5)\n",
            "Requirement already satisfied: packaging>=20.0 in /raid/home/chinmayjain/miniconda3/lib/python3.12/site-packages (from matplotlib) (23.1)\n",
            "Requirement already satisfied: pillow>=8 in /raid/home/chinmayjain/miniconda3/lib/python3.12/site-packages (from matplotlib) (10.2.0)\n",
            "Requirement already satisfied: pyparsing>=2.3.1 in /raid/home/chinmayjain/miniconda3/lib/python3.12/site-packages (from matplotlib) (3.1.2)\n",
            "Requirement already satisfied: python-dateutil>=2.7 in /raid/home/chinmayjain/miniconda3/lib/python3.12/site-packages (from matplotlib) (2.9.0)\n",
            "Requirement already satisfied: pytz>=2020.1 in /raid/home/chinmayjain/miniconda3/lib/python3.12/site-packages (from pandas) (2024.1)\n",
            "Requirement already satisfied: tzdata>=2022.7 in /raid/home/chinmayjain/miniconda3/lib/python3.12/site-packages (from pandas) (2024.1)\n",
            "Requirement already satisfied: six>=1.5 in /raid/home/chinmayjain/miniconda3/lib/python3.12/site-packages (from python-dateutil>=2.7->matplotlib) (1.16.0)\n",
            "Note: you may need to restart the kernel to use updated packages.\n"
          ]
        }
      ],
      "source": [
        "# Installs packages, if using locally. Feel free to add other missing packages as required.\n",
        "\n",
        "%pip install tqdm nltk matplotlib numpy pandas"
      ]
    },
    {
      "cell_type": "code",
      "execution_count": 3,
      "metadata": {
        "id": "NijuBljo7S0w"
      },
      "outputs": [],
      "source": [
        "# Built-in imports, no installations required.\n",
        "\n",
        "import os\n",
        "import gc\n",
        "import json\n",
        "import math\n",
        "import pickle\n",
        "import subprocess\n",
        "import collections\n",
        "import unicodedata\n",
        "import re"
      ]
    },
    {
      "cell_type": "code",
      "execution_count": 4,
      "metadata": {
        "id": "Z2liLT4Y7S0x"
      },
      "outputs": [
        {
          "name": "stderr",
          "output_type": "stream",
          "text": [
            "/raid/home/chinmayjain/miniconda3/lib/python3.12/site-packages/tqdm/auto.py:21: TqdmWarning: IProgress not found. Please update jupyter and ipywidgets. See https://ipywidgets.readthedocs.io/en/stable/user_install.html\n",
            "  from .autonotebook import tqdm as notebook_tqdm\n"
          ]
        }
      ],
      "source": [
        "# 3rd-party package imports, may require installation if not on a platform such as Colab.\n",
        "\n",
        "import numpy\n",
        "import torch\n",
        "import pandas as pd\n",
        "import tqdm.auto as tqdm\n",
        "\n",
        "import matplotlib\n",
        "from matplotlib import pyplot\n",
        "from nltk.translate import bleu_score\n",
        "from torch.utils.data import TensorDataset, DataLoader"
      ]
    },
    {
      "cell_type": "code",
      "execution_count": 5,
      "metadata": {
        "id": "m3XUKaQ37S0x"
      },
      "outputs": [],
      "source": [
        "# Please do not change anything in the following cell\n",
        "\n",
        "# Find and load fonts that can display Hindi characters, for Matplotlib\n",
        "result = subprocess.run([ 'fc-list', ':lang=hi', 'family' ], capture_output=True)\n",
        "found_hindi_fonts = result.stdout.decode('utf-8').strip().split('\\n')\n",
        "\n",
        "matplotlib.rcParams['font.sans-serif'] = [\n",
        "    \"Source Han Sans TW\", \"sans-serif\", \"Arial Unicode MS\",\n",
        "    *found_hindi_fonts\n",
        "]"
      ]
    },
    {
      "cell_type": "code",
      "execution_count": 6,
      "metadata": {
        "id": "x2X96lFz7S0y"
      },
      "outputs": [],
      "source": [
        "# Please do not change anything in the following cell\n",
        "\n",
        "DIRECTORY_NAME = f\"{STUDENT_SAP_NAME.replace(' ', '_')}_{STUDENT_SR_NUMBER}\"\n",
        "\n",
        "os.makedirs(DIRECTORY_NAME, exist_ok=True)"
      ]
    },
    {
      "cell_type": "code",
      "execution_count": 7,
      "metadata": {
        "id": "bw94_afp7S0y"
      },
      "outputs": [],
      "source": [
        "def sync_vram():\n",
        "    \"\"\" Synchronizes the VRAM across the GPUs, reclaiming unused memory. \"\"\"\n",
        "    gc.collect()\n",
        "    torch.cuda.empty_cache()\n",
        "    torch.cuda.synchronize()"
      ]
    },
    {
      "cell_type": "markdown",
      "metadata": {
        "id": "CEg1ZOP17S0y"
      },
      "source": [
        "## Data Preparation"
      ]
    },
    {
      "cell_type": "markdown",
      "metadata": {
        "id": "m_lcFfUf7S0y"
      },
      "source": [
        "We'll load the data for the task, which comprises of a parallel corpus of Indian Names and their Hindi equivalents."
      ]
    },
    {
      "cell_type": "code",
      "execution_count": 8,
      "metadata": {
        "id": "gFbB8qWx7S0z"
      },
      "outputs": [
        {
          "name": "stdout",
          "output_type": "stream",
          "text": [
            "--2024-03-25 16:17:03--  https://docs.google.com/spreadsheets/d/1JpK9nOuZ2ctMrjNL-C0ghUQ4TesTrMER1-dTD_torAA/gviz/tq?tqx=out:csv&sheet=data.train.csv\n",
            "Resolving docs.google.com (docs.google.com)... 142.251.42.14, 2404:6800:4007:82b::200e\n",
            "Connecting to docs.google.com (docs.google.com)|142.251.42.14|:443... connected.\n",
            "HTTP request sent, awaiting response... 200 OK\n",
            "Length: unspecified [text/csv]\n",
            "Saving to: ‘data.train.csv’\n",
            "\n",
            "data.train.csv          [ <=>                ] 126.35K  --.-KB/s    in 0.1s    \n",
            "\n",
            "2024-03-25 16:17:04 (1.21 MB/s) - ‘data.train.csv’ saved [129381]\n",
            "\n",
            "--2024-03-25 16:17:05--  https://docs.google.com/spreadsheets/d/1cKC0WpWpIQJkaqnFb7Ou7d0syFDsj6eEW7bM7GH3u2k/gviz/tq?tqx=out:csv&sheet=data.valid.csv\n",
            "Resolving docs.google.com (docs.google.com)... 142.251.42.14, 2404:6800:4007:82b::200e\n",
            "Connecting to docs.google.com (docs.google.com)|142.251.42.14|:443... connected.\n",
            "HTTP request sent, awaiting response... 200 OK\n",
            "Length: unspecified [text/csv]\n",
            "Saving to: ‘data.valid.csv’\n",
            "\n",
            "data.valid.csv          [ <=>                ]  11.29K  --.-KB/s    in 0.009s  \n",
            "\n",
            "2024-03-25 16:17:05 (1.25 MB/s) - ‘data.valid.csv’ saved [11560]\n",
            "\n"
          ]
        }
      ],
      "source": [
        "# Make sure your code is not dependent on any of the file names as below.\n",
        "\n",
        "# Download the training and validation datasets\n",
        "!wget -O data.train.csv \"https://docs.google.com/spreadsheets/d/1JpK9nOuZ2ctMrjNL-C0ghUQ4TesTrMER1-dTD_torAA/gviz/tq?tqx=out:csv&sheet=data.train.csv\"\n",
        "!wget -O data.valid.csv \"https://docs.google.com/spreadsheets/d/1cKC0WpWpIQJkaqnFb7Ou7d0syFDsj6eEW7bM7GH3u2k/gviz/tq?tqx=out:csv&sheet=data.valid.csv\""
      ]
    },
    {
      "cell_type": "code",
      "execution_count": 9,
      "metadata": {
        "id": "1L8ZDlFm7S0z"
      },
      "outputs": [
        {
          "name": "stdout",
          "output_type": "stream",
          "text": [
            "Length of training data: 4484\n",
            "Length of validation data: 400\n"
          ]
        }
      ],
      "source": [
        "# Please do not change anything in the following cell\n",
        "\n",
        "def read_dataframe(ds_type):\n",
        "    \"\"\" Loads a dataframe based on the given partition type.\n",
        "\n",
        "    Args:\n",
        "        ds_type (str): Dataset type: train (train) or validation (valid)\n",
        "\n",
        "    Returns:\n",
        "        pd.DataFrame: Pandas Dataframe for the specified partition.\n",
        "    \"\"\"\n",
        "\n",
        "    df = pd.read_csv(f\"data.{ds_type}.csv\", header=0)\n",
        "    df = df[~df.isna()]\n",
        "    df['Name'] = df['Name'].astype(str)\n",
        "    df['Translation'] = df['Translation'].astype(str)\n",
        "    return df\n",
        "\n",
        "# Load the training and validation datasets\n",
        "train_data      = read_dataframe(\"train\")\n",
        "validation_data = read_dataframe(\"valid\")\n",
        "\n",
        "print(f\"Length of training data: {len(train_data)}\\nLength of validation data: {len(validation_data)}\")"
      ]
    },
    {
      "cell_type": "markdown",
      "metadata": {
        "id": "LE8sRvHo7S00"
      },
      "source": [
        "Here are some examples from the training dataset. Note that the dataset may be noisy so some examples may not be perfect:"
      ]
    },
    {
      "cell_type": "code",
      "execution_count": 10,
      "metadata": {
        "id": "kZH2EVyE7S00"
      },
      "outputs": [
        {
          "data": {
            "text/html": [
              "<div>\n",
              "<style scoped>\n",
              "    .dataframe tbody tr th:only-of-type {\n",
              "        vertical-align: middle;\n",
              "    }\n",
              "\n",
              "    .dataframe tbody tr th {\n",
              "        vertical-align: top;\n",
              "    }\n",
              "\n",
              "    .dataframe thead th {\n",
              "        text-align: right;\n",
              "    }\n",
              "</style>\n",
              "<table border=\"1\" class=\"dataframe\">\n",
              "  <thead>\n",
              "    <tr style=\"text-align: right;\">\n",
              "      <th></th>\n",
              "      <th>Name</th>\n",
              "      <th>Translation</th>\n",
              "    </tr>\n",
              "  </thead>\n",
              "  <tbody>\n",
              "    <tr>\n",
              "      <th>1245</th>\n",
              "      <td>harshdeep</td>\n",
              "      <td>हर्षदीप</td>\n",
              "    </tr>\n",
              "    <tr>\n",
              "      <th>4275</th>\n",
              "      <td>vaibahv</td>\n",
              "      <td>वैभव</td>\n",
              "    </tr>\n",
              "    <tr>\n",
              "      <th>314</th>\n",
              "      <td>archana</td>\n",
              "      <td>अर्चना</td>\n",
              "    </tr>\n",
              "    <tr>\n",
              "      <th>3314</th>\n",
              "      <td>safika</td>\n",
              "      <td>सफीका</td>\n",
              "    </tr>\n",
              "    <tr>\n",
              "      <th>1086</th>\n",
              "      <td>girja</td>\n",
              "      <td>गिरिजा</td>\n",
              "    </tr>\n",
              "  </tbody>\n",
              "</table>\n",
              "</div>"
            ],
            "text/plain": [
              "           Name Translation\n",
              "1245  harshdeep     हर्षदीप\n",
              "4275    vaibahv        वैभव\n",
              "314     archana      अर्चना\n",
              "3314     safika       सफीका\n",
              "1086      girja      गिरिजा"
            ]
          },
          "execution_count": 10,
          "metadata": {},
          "output_type": "execute_result"
        }
      ],
      "source": [
        "train_data.sample(n=5)"
      ]
    },
    {
      "cell_type": "markdown",
      "metadata": {
        "id": "D0B5XhUx7S01"
      },
      "source": [
        "## Tokenization"
      ]
    },
    {
      "cell_type": "markdown",
      "metadata": {
        "id": "wizKxo-j7S01"
      },
      "source": [
        "Now with the data, you must first prepare a tokenization strategy for feeding name pairs as a sequence to different models. For English this could be as simple as using individual characters as tokens, but Hindi has accents (मात्राएँ), a larger set of vowels (स्वर), consonants (व्यंजन), and additional composition rules (half-letters, etc.), so such a simple strategy may not be effective.\n",
        "\n",
        "In NLP literature, multiple strategies exist for automatically learning a suitable sub-word tokenization strategy from the given data. Such tokenizers exist in two types:\n",
        "- Given a set of initial tokens, learn suitable combinations which are added as new tokens until a certain vocabulary size is reached. Examples of these include [BPE Tokenization](https://arxiv.org/abs/1508.07909) and [WordPiece Tokenization, introduced by the BERT paper](https://arxiv.org/abs/1810.04805).\n",
        "- Given a large set of initial tokens, learn suitable rules to reduce the size of the vocabulary to a desired size. An example of this includes [SentencePiece Tokenization](https://arxiv.org/abs/1808.06226).\n",
        "\n",
        "Given empirical results, these are popular strategies to learn tokenization automatically from given data."
      ]
    },
    {
      "cell_type": "markdown",
      "metadata": {
        "id": "kO6vVLfS7S01"
      },
      "source": [
        "In this section, you will implement a tokenizer for the given data. There could be multiple strategies to implement tokenizers:\n",
        "- You can have a tokenizer that operates jointly over both languages or have separate tokenizers for English and Hindi.\n",
        "- Your tokenizer can learn the tokenization from data (using any one of the techniques mentioned above) or can use a fixed set of rules for decomposition.\n",
        "\n",
        "Implement the logic for any tokenizer of your choice in the class `Tokenizer` below. Make sure to adhere to the rules and constraints in the docstrings.\n",
        "\n",
        "The tokenizer will learn a mapping of tokens to ids and vice versa and use these to map strings. This mapping can be built based on merge rules (BPE, WordPiece, etc.) or hand-crafted rules, in the `Tokenizer.train()` function. Additionally the tokenizer will also handle preprocessing and postprocessing of strings during the encoding phase (string to tokens)."
      ]
    },
    {
      "cell_type": "code",
      "execution_count": 11,
      "metadata": {
        "id": "8Y3ri4PD7S02"
      },
      "outputs": [],
      "source": [
        "## ==== BEGIN EVALUATION PORTION\n",
        "\n",
        "class Tokenizer:\n",
        "    \"\"\" Represents the tokenizer for text data.\n",
        "        Provides methods to encode and decode strings (as instance or as a batch). \"\"\"\n",
        "\n",
        "    def __init__(self):\n",
        "        \"\"\" Initializes a new tokenizer.\n",
        "\n",
        "            Any variables required in intermediate operations are declared here.\n",
        "            You will also need to define things like special tokens and other things here.\n",
        "\n",
        "            All variables declared in this function will be serialized\n",
        "                and deserialized when loading and saving the Tokenizer.\n",
        "            \"\"\"\n",
        "\n",
        "        # BEGIN CODE : tokenizer.init\n",
        "        \n",
        "\n",
        "        # ADD YOUR CODE HERE\n",
        "        self.end = '<END>'\n",
        "        self.start = '<START>'\n",
        "        self.unk = '<UNK>'\n",
        "        self.padding = '<PAD>'\n",
        "        self.special_tokens = {0 : self.start,1 : self.end,2 : self.unk,3 : self.padding}\n",
        "        self.special_tokens_indexing = {self.start:0, self.end:1, self.unk:2, self.padding:3}\n",
        "        self.index2token ={}\n",
        "        self.token2index={}\n",
        "        # END CODE\n",
        "\n",
        "    @classmethod\n",
        "    def load(cls, path):\n",
        "        \"\"\" Loads a pre-trained tokenizer from the given directory.\n",
        "           This directory will have a tokenizer.pkl file that contains all the tokenizer variables.\n",
        "\n",
        "        Args:\n",
        "            path (str): Path to load the tokenizer from.\n",
        "        \"\"\"\n",
        "        tokenizer_file = os.path.join(path, \"tokenizer.pkl\")\n",
        "\n",
        "        if not os.path.exists(path) or not os.path.exists(os.path.join(path, \"tokenizer.pkl\")):\n",
        "            raise ValueError(cls.load.__name__ + \": No tokenizer found at the specified directory\")\n",
        "\n",
        "        with open(tokenizer_file, \"rb\") as ifile:\n",
        "            return pickle.load(ifile)\n",
        "\n",
        "    def save(self, path):\n",
        "        \"\"\" Saves a trained tokenizer to a given directory, inside a tokenizer.pkl file.\n",
        "\n",
        "        Args:\n",
        "            path (str): Directory to save the tokenizer in.\n",
        "        \"\"\"\n",
        "\n",
        "        os.makedirs(path, exist_ok=True)\n",
        "        with open(os.path.join(path, \"tokenizer.pkl\"), 'wb') as ofile:\n",
        "            pickle.dump(self, ofile)\n",
        "\n",
        "    def train(self, data, vocab_size):\n",
        "        \"\"\" Trains a tokenizer to learn meaningful representations from input data.\n",
        "            In the end, learns a vocabulary of a fixed size over the given data.\n",
        "            Special tokens, if any, must not be counted towards this vocabulary.\n",
        "\n",
        "        Args:\n",
        "            data (list[str]): List of input strings from a text corpus.\n",
        "            vocab_size (int): Final desired size of the vocab to be learnt.\n",
        "        \"\"\"\n",
        "\n",
        "        # BEGIN CODE : tokenizer.train\n",
        "\n",
        "        # ADD YOUR CODE HERE\n",
        "        \n",
        "        \n",
        "        data = [list(word) for word in data]\n",
        "        vocab = []\n",
        "\n",
        "        for string in data:\n",
        "            for char in string:\n",
        "                if char not in vocab:\n",
        "                    vocab.append(char)\n",
        "\n",
        "        while len(vocab) < vocab_size:\n",
        "            pairs = {}\n",
        "            for word in data:\n",
        "                for i in range(len(word)-1):\n",
        "                    pair = (word[i], word[i+1])\n",
        "                    if pair in pairs:\n",
        "                        pairs[pair] += 1\n",
        "                    else:\n",
        "                        pairs[pair] = 1\n",
        "\n",
        "\n",
        "            most_frequent_pair = max(pairs, key=pairs.get)\n",
        "            new_token = \"\".join(most_frequent_pair)\n",
        "            vocab.append(new_token)\n",
        "\n",
        "            data = [\n",
        "                [\n",
        "                    new_token if data[i][j] == most_frequent_pair[0] and data[i][j+1] == most_frequent_pair[1] else char\n",
        "                    for j, char in enumerate(word[:-1])\n",
        "                ] + [word[-1]]\n",
        "                for i, word in enumerate(data)\n",
        "            ]\n",
        "\n",
        "\n",
        "        # Assign indices to tokens in vocab\n",
        "        vocab_updated = {}\n",
        "        index = 4\n",
        "        vocab_updated = {}\n",
        "        for token in vocab:\n",
        "            vocab_updated[token] = index\n",
        "            index += 1\n",
        "        vocab_updated.update(self.special_tokens_indexing)\n",
        "        self.token2index = vocab_updated\n",
        "        self.index2token = {index: token for token, index in vocab_updated.items()} \n",
        "\n",
        "        \n",
        "        # END CODE\n",
        "\n",
        "\n",
        "    def pad(self, tokens, length):\n",
        "        \"\"\" Pads a tokenized string to a specified length, for batch processing.\n",
        "\n",
        "        Args:\n",
        "            tokens (list[int]): Encoded token string to be padded.\n",
        "            length (int): Length of tokens to pad to.\n",
        "\n",
        "        Returns:\n",
        "            list[int]: Token string padded to desired length.\n",
        "        \"\"\"\n",
        "\n",
        "        # BEGIN CODE : tokenizer.pad\n",
        "\n",
        "        # ADD YOUR CODE HERE\n",
        "        padded_tokens = tokens[:length] + [self.special_tokens_indexing[self.padding]] * (length - len(tokens))\n",
        "        return padded_tokens\n",
        "        # END CODE\n",
        "\n",
        "    def unpad(self, tokens):\n",
        "        \"\"\" Removes padding from a token string.\n",
        "\n",
        "        Args:\n",
        "            tokens (list[int]): Encoded token string with padding.\n",
        "\n",
        "        Returns:\n",
        "            list[int]: Token string with padding removed.\n",
        "        \"\"\"\n",
        "\n",
        "        # BEGIN CODE : tokenizer.unpad\n",
        "\n",
        "        # ADD YOUR CODE HERE\n",
        "        return [token for token in tokens if token != self.special_tokens_indexing[self.padding]]\n",
        "          \n",
        "        # END CODE\n",
        "\n",
        "    def get_special_tokens(self):\n",
        "        \"\"\" Returns the associated special tokens.\n",
        "\n",
        "            Returns:\n",
        "                dict[str, int]: Mapping describing the special tokens, if any.\n",
        "                    This is a mapping between a string segment (token) and its associated id (token_id).\n",
        "        \"\"\"\n",
        "\n",
        "        # BEGIN CODE : tokenizer.get_special_tokens\n",
        "\n",
        "        # ADD YOUR CODE HERE\n",
        "        return self.special_tokens_indexing\n",
        "\n",
        "        # END CODE\n",
        "\n",
        "    def get_vocabulary(self):\n",
        "        \"\"\" Returns the learnt vocabulary post the training process.\n",
        "\n",
        "            Returns:\n",
        "                dict[str, int]: Mapping describing the vocabulary and special tokens, if any.\n",
        "                    This is a mapping between a string segment (token) and its associated id (token_id).\n",
        "        \"\"\"\n",
        "\n",
        "        # BEGIN CODE : tokenizer.get_vocabulary\n",
        "\n",
        "        # ADD YOUR CODE HERE\n",
        "        return self.token2index\n",
        "        # END CODE\n",
        "\n",
        "    def encode(self, string, add_start=True, add_end=True):\n",
        "        \"\"\" Encodes a string into a list of tokens.\n",
        "\n",
        "        Args:\n",
        "            string (str): Input string to be tokenized.\n",
        "            add_start (bool): If true, adds the start of sequence token.\n",
        "            add_end (bool): If true, adds the end of sequence token.\n",
        "        Returns:\n",
        "            list[int]: List of tokens (unpadded).\n",
        "        \"\"\"\n",
        "\n",
        "        # BEGIN CODE : tokenizer.encode\n",
        "\n",
        "        # ADD YOUR CODE HERE\n",
        "        encoded_tokens = []\n",
        "        if add_start:\n",
        "            encoded_tokens.append(self.special_tokens_indexing[self.start])\n",
        "\n",
        "        start_index = 0\n",
        "        while start_index < len(string):\n",
        "            found_token = False\n",
        "            for length in range(len(string) - start_index, 0, -1):\n",
        "                token_candidate = string[start_index:start_index + length]\n",
        "                if token_candidate in self.token2index:\n",
        "                    encoded_tokens.append(self.token2index[token_candidate])\n",
        "                    start_index += length\n",
        "                    found_token = True\n",
        "                    break\n",
        "            if not found_token:\n",
        "                encoded_tokens.append(self.special_tokens_indexing[self.unk])\n",
        "                start_index += 1\n",
        "\n",
        "        if add_end:\n",
        "            encoded_tokens.append(self.special_tokens_indexing[self.end])\n",
        "\n",
        "        return encoded_tokens   \n",
        "\n",
        "        # END CODE\n",
        "\n",
        "    def decode(self, tokens, strip_special=True):\n",
        "        \"\"\" Decodes a string from a list of tokens.\n",
        "            Undoes the tokenization, returning back the input string.\n",
        "\n",
        "        Args:\n",
        "            tokens (list[int]): List of encoded tokens to be decoded. No padding is assumed.\n",
        "            strip_special (bool): Whether to remove special tokens or not.\n",
        "\n",
        "        Returns:\n",
        "            str: Decoded string.\n",
        "        \"\"\"\n",
        "\n",
        "        # BEGIN CODE : tokenizer.decode\n",
        "\n",
        "        # ADD YOUR CODE HERE\n",
        "        decoded_string = \"\"\n",
        "        for token in tokens:\n",
        "            if strip_special and token in self.special_tokens_indexing.values():\n",
        "                continue\n",
        "            if token in self.index2token:\n",
        "                decoded_string += self.index2token[token]\n",
        "\n",
        "        return decoded_string\n",
        "\n",
        "        # END CODE\n",
        "\n",
        "\n",
        "    def batch_encode(self, batch, padding=None, add_start=True, add_end=True):\n",
        "        \"\"\"Encodes multiple strings in a batch to list of tokens padded to a given size.\n",
        "\n",
        "        Args:\n",
        "            batch (list[str]): List of strings to be tokenized.\n",
        "            padding (int, optional): Optional, desired tokenized length. Outputs will be padded to fit this length.\n",
        "            add_start (bool): If true, adds the start of sequence token.\n",
        "            add_end (bool): If true, adds the end of sequence token.\n",
        "\n",
        "        Returns:\n",
        "            list[list[int]]: List of tokenized outputs, padded to the same length.\n",
        "        \"\"\"\n",
        "\n",
        "        batch_output = [ self.encode(string, add_start, add_end) for string in batch ]\n",
        "        if padding:\n",
        "            for i, tokens in enumerate(batch_output):\n",
        "                if len(tokens) < padding:\n",
        "                    batch_output[i] = self.pad(tokens, padding)\n",
        "        return batch_output\n",
        "\n",
        "    def batch_decode(self, batch, strip_special=True):\n",
        "        \"\"\" Decodes a batch of encoded tokens to normal strings.\n",
        "\n",
        "        Args:\n",
        "            batch (list[list[int]]): List of encoded token strings, optionally padded.\n",
        "            strip_special (bool): Whether to remove special tokens or not.\n",
        "\n",
        "        Returns:\n",
        "            list[str]: Decoded strings after padding is removed.\n",
        "        \"\"\"\n",
        "        return [ self.decode(self.unpad(tokens), strip_special=strip_special) for tokens in batch ]\n",
        "\n",
        "## ==== END EVALUATION PORTION"
      ]
    },
    {
      "cell_type": "markdown",
      "metadata": {
        "id": "2__Tts8p7S04"
      },
      "source": [
        "Now with the tokenizer class, initialize and train the tokenizers for processing the parallel corpus:"
      ]
    },
    {
      "cell_type": "code",
      "execution_count": 12,
      "metadata": {
        "id": "4A_U8cl_7S04"
      },
      "outputs": [],
      "source": [
        "## ==== BEGIN EVALUATION PORTION\n",
        "\n",
        "# BEGIN CODE : tokenizer.create\n",
        "\n",
        "# Initialize the tokenizers as per the desired strategy.\n",
        "# ADD YOUR CODE HERE\n",
        "src_tokenizer = Tokenizer()\n",
        "tgt_tokenizer = Tokenizer()\n",
        "\n",
        "# END CODE\n",
        "\n",
        "## ==== END EVALUATION PORTION"
      ]
    },
    {
      "cell_type": "code",
      "execution_count": 13,
      "metadata": {
        "id": "OBYyr0Es7S04"
      },
      "outputs": [],
      "source": [
        "## ==== BEGIN EVALUATION PORTION\n",
        "\n",
        "# Edit the hyperparameters below as desired.\n",
        "SRC_VOCAB_SIZE = 450\n",
        "TGT_VOCAB_SIZE = 450\n",
        "\n",
        "# BEGIN CODE : tokenizer.training\n",
        "\n",
        "# Train your tokenizer(s)\n",
        "# ADD YOUR CODE HERE\n",
        "src_tokenizer.train(train_data['Name'], SRC_VOCAB_SIZE)\n",
        "tgt_tokenizer.train(train_data['Translation'], TGT_VOCAB_SIZE)\n",
        "# END CODE\n",
        "\n",
        "## ==== END EVALUATION PORTION"
      ]
    },
    {
      "cell_type": "code",
      "execution_count": 14,
      "metadata": {
        "id": "a2vmqRKH7S05"
      },
      "outputs": [],
      "source": [
        "# Please do not change anything in the following cell\n",
        "\n",
        "# Save the trained tokenizers\n",
        "src_tokenizer.save(os.path.join(DIRECTORY_NAME, \"src_tokenizer\"))\n",
        "tgt_tokenizer.save(os.path.join(DIRECTORY_NAME, \"tgt_tokenizer\"))"
      ]
    },
    {
      "cell_type": "code",
      "execution_count": 15,
      "metadata": {
        "id": "s1O2qJYg7S06"
      },
      "outputs": [],
      "source": [
        "# Please do not change anything in the following cell\n",
        "\n",
        "def render_glyph(token):\n",
        "    \"\"\" Renders a token, handling invalid bytes in a safe, error-proof manner. \"\"\"\n",
        "\n",
        "    token = token.decode('utf-8', errors='replace') if isinstance(token, bytes) else token\n",
        "    return \"\".join([ c if unicodedata.category(c)[0] != \"C\" else f\"\\\\u{ord(c):04x}\" for c in token ])\n",
        "\n",
        "def inverse_vocabulary(tokenizer):\n",
        "    \"\"\" Generates an inverse vocabulary with rendered tokens.\n",
        "\n",
        "    Args:\n",
        "        tokenizer (Tokenizer): Tokenizer whose vocabulary must be used.\n",
        "    \"\"\"\n",
        "\n",
        "    return { id: render_glyph(token) for token, id in tokenizer.get_vocabulary().items() }\n",
        "\n",
        "def apply_inverse_vocab(tokens, inv_vocab):\n",
        "    \"\"\" Decodes using the given inverse vocabulary.\n",
        "\n",
        "    Args:\n",
        "        tokens (list[int]): Tokens to process.\n",
        "        inv_vocab (dict[int, str]): Inverse vocabulary for mapping ids to tokens.\n",
        "\n",
        "    Returns:\n",
        "        list[str]: Mapped token glyphs.\n",
        "    \"\"\"\n",
        "\n",
        "    return [ inv_vocab[id] for id in tokens ]\n"
      ]
    },
    {
      "cell_type": "markdown",
      "metadata": {
        "id": "q3VKC9YY7S06"
      },
      "source": [
        "We visualize a few outputs of the learnt tokenizers to assess their working:"
      ]
    },
    {
      "cell_type": "code",
      "execution_count": 16,
      "metadata": {
        "id": "75gjtCVW7S07"
      },
      "outputs": [
        {
          "name": "stdout",
          "output_type": "stream",
          "text": [
            "Name           : prya\n",
            "Tokens         : [0, 25, 11, 13, 4, 1]\n",
            "Tokens (glyphs): ['<START>', 'p', 'r', 'y', 'a', '<END>']\n",
            "Decoded        : prya\n",
            "\n",
            "Name           : jamal\n",
            "Tokens         : [0, 18, 4, 21, 4, 12, 1]\n",
            "Tokens (glyphs): ['<START>', 'j', 'a', 'm', 'a', 'l', '<END>']\n",
            "Decoded        : jamal\n",
            "\n",
            "Name           : jag\n",
            "Tokens         : [0, 18, 4, 17, 1]\n",
            "Tokens (glyphs): ['<START>', 'j', 'a', 'g', '<END>']\n",
            "Decoded        : jag\n",
            "\n",
            "Name           : sampat\n",
            "Tokens         : [0, 10, 4, 21, 25, 4, 16, 1]\n",
            "Tokens (glyphs): ['<START>', 's', 'a', 'm', 'p', 'a', 't', '<END>']\n",
            "Decoded        : sampat\n",
            "\n",
            "Name           : amar\n",
            "Tokens         : [0, 4, 21, 4, 11, 1]\n",
            "Tokens (glyphs): ['<START>', 'a', 'm', 'a', 'r', '<END>']\n",
            "Decoded        : amar\n",
            "\n"
          ]
        }
      ],
      "source": [
        "# Please do not change anything in the following cell\n",
        "\n",
        "src_id_to_token = inverse_vocabulary(src_tokenizer)\n",
        "\n",
        "for example in train_data['Name'].sample(n=5, random_state=20240227):\n",
        "    print(\"Name           :\", example)\n",
        "    tokens = src_tokenizer.encode(example)\n",
        "    print(\"Tokens         :\", tokens)\n",
        "    print(\"Tokens (glyphs):\", apply_inverse_vocab(tokens, src_id_to_token))\n",
        "    print(\"Decoded        :\", src_tokenizer.decode(tokens), end='\\n\\n')"
      ]
    },
    {
      "cell_type": "code",
      "execution_count": 17,
      "metadata": {
        "id": "MJT2frJu7S08"
      },
      "outputs": [
        {
          "name": "stdout",
          "output_type": "stream",
          "text": [
            "Name           : प्र्या\n",
            "Tokens         : [0, 42, 15, 13, 15, 16, 6, 1]\n",
            "Tokens (glyphs): ['<START>', 'प', '्', 'र', '्', 'य', 'ा', '<END>']\n",
            "Decoded        : प्र्या\n",
            "\n",
            "Name           : जमाल\n",
            "Tokens         : [0, 24, 28, 6, 14, 1]\n",
            "Tokens (glyphs): ['<START>', 'ज', 'म', 'ा', 'ल', '<END>']\n",
            "Decoded        : जमाल\n",
            "\n",
            "Name           : जग\n",
            "Tokens         : [0, 24, 22, 1]\n",
            "Tokens (glyphs): ['<START>', 'ज', 'ग', '<END>']\n",
            "Decoded        : जग\n",
            "\n",
            "Name           : सम्पत्ति\n",
            "Tokens         : [0, 31, 28, 15, 42, 21, 15, 21, 8, 1]\n",
            "Tokens (glyphs): ['<START>', 'स', 'म', '्', 'प', 'त', '्', 'त', 'ि', '<END>']\n",
            "Decoded        : सम्पत्ति\n",
            "\n",
            "Name           : अमर\n",
            "Tokens         : [0, 35, 28, 13, 1]\n",
            "Tokens (glyphs): ['<START>', 'अ', 'म', 'र', '<END>']\n",
            "Decoded        : अमर\n",
            "\n"
          ]
        }
      ],
      "source": [
        "# Please do not change anything in the following cell\n",
        "\n",
        "tgt_id_to_token = inverse_vocabulary(tgt_tokenizer)\n",
        "\n",
        "for example in train_data['Translation'].sample(n=5, random_state=20240227):\n",
        "    print(\"Name           :\", example)\n",
        "    tokens = tgt_tokenizer.encode(example)\n",
        "    print(\"Tokens         :\", tokens)\n",
        "    print(\"Tokens (glyphs):\", apply_inverse_vocab(tokens, tgt_id_to_token))\n",
        "    print(\"Decoded        :\", tgt_tokenizer.decode(tokens), end='\\n\\n')"
      ]
    },
    {
      "cell_type": "code",
      "execution_count": 18,
      "metadata": {
        "id": "-_fJFK8Vl5BB"
      },
      "outputs": [],
      "source": [
        "# Please do not change anything in the following cell\n",
        "\n",
        "# Run some tests to ensure your tokenizer implementation works as intended.\n",
        "\n",
        "instances = train_data['Translation'].sample(n=5, random_state=20240227).tolist()\n",
        "\n",
        "try:\n",
        "    max_length = max(map(\n",
        "        lambda x: len(tgt_tokenizer.encode(x, add_start=False, add_end=False)),\n",
        "        instances\n",
        "    ))\n",
        "\n",
        "    # Batch encode all instances with 'max' padding':\n",
        "    tokenized_instances = tgt_tokenizer.batch_encode(\n",
        "        instances, padding=max_length, add_start=False, add_end=False\n",
        "    )\n",
        "\n",
        "    # Check if length of encoded strings is consistent with the expected length.\n",
        "    assert all(len(tok_str) == max_length for tok_str in tokenized_instances)\n",
        "\n",
        "except AssertionError:\n",
        "    print((\n",
        "        \"[!] Your tokenizer does not encode strings correctly, \"\n",
        "        \"ensure you have implemented padding appropriately!\"\n",
        "    ))\n",
        "\n",
        "try:\n",
        "    max_length = max(map(\n",
        "        lambda x: len(tgt_tokenizer.encode(x, add_start=True, add_end=True)),\n",
        "        instances\n",
        "    ))\n",
        "\n",
        "    # Batch encode all instances with 'max' padding':\n",
        "    tokenized_instances = tgt_tokenizer.batch_encode(\n",
        "        instances, padding=max_length, add_start=True, add_end=True\n",
        "    )\n",
        "\n",
        "    # Check if length of encoded strings is consistent with the expected length.\n",
        "    assert all(len(tok_str) == max_length for tok_str in tokenized_instances)\n",
        "\n",
        "    # # Check if all strings start with the correct 'start' tokens.\n",
        "    assert all(tok_str[0] == tokenized_instances[0][0] for tok_str in tokenized_instances)\n",
        "\n",
        "    # # Check if all strings end with the correct 'end' tokens.\n",
        "    end_i = [ i for i, seq in enumerate(tokenized_instances) if len(tgt_tokenizer.unpad(seq)) == max_length ]\n",
        "    pad_i = [ i for i, seq in enumerate(tokenized_instances) if len(tgt_tokenizer.unpad(seq)) <  max_length ]\n",
        "\n",
        "    assert all(\n",
        "        tokenized_instances[i][-1] == tokenized_instances[end_i[0]][-1]\n",
        "        for i in end_i\n",
        "    )\n",
        "    assert all(\n",
        "        tokenized_instances[i][-1] == tokenized_instances[pad_i[0]][-1]\n",
        "        for i in pad_i\n",
        "    )\n",
        "    pad_lengths = [ tokenized_instances[i].index(tokenized_instances[end_i[0]][-1]) for i in pad_i ]\n",
        "    assert all(\n",
        "        all(tok == tokenized_instances[pad_i[0]][-1] for tok in tokenized_instances[i][plen+1:])\n",
        "        for i, plen in zip(pad_i, pad_lengths)\n",
        "    )\n",
        "\n",
        "except AssertionError:\n",
        "    print((\n",
        "        \"[!] Your tokenizer does not encode strings correctly, \"\n",
        "        \"ensure you have used start and end tokens appropriately!\"\n",
        "    ))"
      ]
    },
    {
      "cell_type": "markdown",
      "metadata": {
        "id": "dUOLUDqy7S09"
      },
      "source": [
        "We now abstract away the tokenizer into a pytorch compatible TokenizedDataset that will handle the tokenization internally:"
      ]
    },
    {
      "cell_type": "code",
      "execution_count": 19,
      "metadata": {
        "id": "0BFaB2Nr7S09"
      },
      "outputs": [],
      "source": [
        "# Please do not change anything in the following cell\n",
        "\n",
        "class TokenizerDataset(TensorDataset):\n",
        "    \"\"\" Abstraction of the tokenizer functions as a pytorch dataset. \"\"\"\n",
        "\n",
        "    def __init__(self, data, src_tokenizer, tgt_tokenizer, src_padding=None, tgt_padding=None):\n",
        "        \"\"\" Initializes the dataset.\n",
        "\n",
        "        Args:\n",
        "            data: DataFrame of input and output strings.\n",
        "            src_tokenizer (Tokenizer): Tokenizer for the source language.\n",
        "            tgt_tokenizer (Tokenizer): Tokenizer for the target language.\n",
        "            src_padding (int, optional): Padding length for the source text. Defaults to None.\n",
        "            tgt_padding (int, optional): Padding length for the target text. Defaults to None.\n",
        "        \"\"\"\n",
        "\n",
        "        self.data = data\n",
        "        self.src_tokenizer = src_tokenizer\n",
        "        self.tgt_tokenizer = tgt_tokenizer\n",
        "        self.src_padding = src_padding\n",
        "        self.tgt_padding = tgt_padding\n",
        "\n",
        "    def collate(self, batch):\n",
        "        \"\"\" Collates data instances into a batch of tokenized tensors.\n",
        "\n",
        "        Args:\n",
        "            batch (list[tuple]): List of x, y pairs.\n",
        "\n",
        "        Returns:\n",
        "            tuple[torch.Tensor|PackedSequence, torch.Tensor|PackedSequence]: pair of tokenized tensors.\n",
        "        \"\"\"\n",
        "\n",
        "        x_batch = [ data[0] for data in batch ]\n",
        "        y_batch = [ data[1] for data in batch ]\n",
        "\n",
        "        x_batch = self.src_tokenizer.batch_encode(x_batch, self.src_padding)\n",
        "        y_batch = self.tgt_tokenizer.batch_encode(y_batch, self.tgt_padding)\n",
        "\n",
        "        if self.src_padding is None:\n",
        "            x_batch = torch.nn.utils.rnn.pack_sequence([ torch.tensor(tokens) for tokens in x_batch ], False)\n",
        "        else:\n",
        "            x_batch = torch.tensor(x_batch)\n",
        "\n",
        "        if self.tgt_padding is None:\n",
        "            y_batch = torch.nn.utils.rnn.pack_sequence([ torch.tensor(tokens) for tokens in y_batch ], False)\n",
        "        else:\n",
        "            y_batch = torch.tensor(y_batch)\n",
        "        \n",
        "        return x_batch, y_batch\n",
        "\n",
        "    def __getitem__(self, index):\n",
        "        \"\"\" Returns the nth instance from the dataset.\n",
        "\n",
        "        Args:\n",
        "            index (int): Index of the instance to retrieve.\n",
        "\n",
        "        Returns:\n",
        "            tuple[str, str]: Untokenized instance pair.\n",
        "        \"\"\"\n",
        "\n",
        "        return (\n",
        "            self.data['Name'][index],\n",
        "            self.data['Translation'][index]\n",
        "        )\n",
        "\n",
        "    def __len__(self):\n",
        "        \"\"\" Returns the length of the dataset.\n",
        "\n",
        "        Returns:\n",
        "            int: Length of the dataset.\n",
        "        \"\"\"\n",
        "        return len(self.data)"
      ]
    },
    {
      "cell_type": "markdown",
      "metadata": {
        "id": "rBnISg0K7S1G"
      },
      "source": [
        "## Model-Agnostic Training"
      ]
    },
    {
      "cell_type": "markdown",
      "metadata": {
        "id": "JUF3_vkA7S1G"
      },
      "source": [
        "Next, you'll implement a Trainer to train different models, since the data and tokenizer remains the same for all models.\n",
        "\n",
        "This trainer will receive the model, a loss function, an optimizer, a training and (optionally) a validation dataset and use these to train (and validate) the model.\n",
        "\n",
        "The trainer will also take care of handling checkpoints for training, which can be used to resume training across sessions.\n",
        "\n",
        "Derived classes can also be defined to handle different architectures, as to be done in the model-specific classes below."
      ]
    },
    {
      "cell_type": "code",
      "execution_count": 20,
      "metadata": {
        "id": "Kcq8zymS7S1H"
      },
      "outputs": [],
      "source": [
        "## ==== BEGIN EVALUATION PORTION\n",
        "\n",
        "class Trainer:\n",
        "    \"\"\" Performs model training in a model-agnostic manner.\n",
        "        Requires specifying the model instance, the loss criterion to optimize,\n",
        "          the optimizer to use and the directory to save data to.\n",
        "    \"\"\"\n",
        "\n",
        "    def __init__(self, directory, model, criterion, optimizer):\n",
        "        \"\"\" Initializes the trainer.\n",
        "\n",
        "        Args:\n",
        "            directory (str): Directory to save checkpoints and the model data in.\n",
        "            model (torch.nn.Module): Torch model (must inherit `torch.nn.Module`) to train.\n",
        "            criterion (torch.nn.Function): Loss criterion, i.e., the loss function to optimize for training.\n",
        "            optimizer (torch.optim.Optimizer): Optimizer to use for training.\n",
        "        \"\"\"\n",
        "\n",
        "        self.model            = model\n",
        "        self.optimizer        = optimizer\n",
        "        self.criterion        = criterion\n",
        "        self.directory        = directory\n",
        "        self.last_checkpoint  = 0\n",
        "        self.loss_history     = { 'train': [], 'valid': [] }\n",
        "\n",
        "        os.makedirs(self.directory, exist_ok=True)\n",
        "        self.device = 'cuda:1' if torch.cuda.is_available() else 'cpu'\n",
        "        self.model = self.model.to(self.device)\n",
        "        \n",
        "\n",
        "    @staticmethod\n",
        "    def make_dataloader(dataset, shuffle_data=True, batch_size=8, collate_fn=None):\n",
        "        \"\"\" Create a dataloader for a torch Dataset.\n",
        "\n",
        "        Args:\n",
        "            dataset (torch.utils.data.Dataset): Dataset to process.\n",
        "            shuffle_data (bool, optional): If true, shuffles the data. Defaults to True.\n",
        "            batch_size (int, optional): Number of items per batch. Defaults to 8.\n",
        "            collate_fn (function, optional): Function to use for collating instances to a batch.\n",
        "\n",
        "        Returns:\n",
        "            torch.utils.data.DataLoader: Dataloader over the given data, post processing.\n",
        "        \"\"\"\n",
        "\n",
        "        # BEGIN CODE : trainer.make_dataloader\n",
        "\n",
        "        # ADD YOUR CODE HERE\n",
        "        \n",
        "        return DataLoader(dataset, shuffle=shuffle_data, batch_size=batch_size, collate_fn=collate_fn)\n",
        "\n",
        "        # END CODE\n",
        "\n",
        "    def train_step(self, batch_x, batch_y):\n",
        "        \"\"\" Performs a step of training, on the training batch.\n",
        "\n",
        "        Args:\n",
        "            batch_x (torch.Tensor): Input batch.\n",
        "            batch_y (torch.Tensor): Output batch.\n",
        "\n",
        "        Returns:\n",
        "            float: Training loss with the current model, on this batch.\n",
        "        \"\"\"\n",
        "\n",
        "        # BEGIN CODE : trainer.train_step\n",
        "\n",
        "        # ADD YOUR CODE HERE\n",
        "\n",
        "        self.model.train()\n",
        "        batch_x = batch_x.to(self.device)\n",
        "        batch_y = batch_y.to(self.device)\n",
        "        self.optimizer.zero_grad()\n",
        "        y_pred = self.model(batch_x)\n",
        "        loss = self.criterion(y_pred, batch_y)\n",
        "        loss.backward()\n",
        "        self.optimizer.step()\n",
        "        return loss.item()\n",
        "\n",
        "        # END CODE\n",
        "\n",
        "    def eval_step(self, validation_dataloader):\n",
        "        \"\"\" Perfoms an evaluation step, on the validation dataloader.\n",
        "\n",
        "        Args:\n",
        "            validation_dataloader (torch.utils.data.DataLoader): Dataloader for the validation dataset.\n",
        "\n",
        "        Returns:\n",
        "            float: Validation loss with the current model checkpoint.\n",
        "        \"\"\"\n",
        "\n",
        "        # BEGIN CODE : trainer.eval_step\n",
        "\n",
        "        # ADD YOUR CODE HERE\n",
        "        # Set the model to evaluation mode\n",
        "        self.model.eval()\n",
        "\n",
        "        total_loss = 0.0\n",
        "        total_samples = 0\n",
        "        \n",
        "        with torch.no_grad():\n",
        "            for x_batch, y_batch in validation_dataloader:\n",
        "                x_batch = x_batch.to(self.device)\n",
        "                y_batch = y_batch.to(self.device)\n",
        "                outputs = self.model(x_batch)\n",
        "                loss = self.criterion(outputs, y_batch)\n",
        "                total_loss += loss.item() * x_batch.size(0)\n",
        "                total_samples += x_batch.size(0)\n",
        "        avg_loss = total_loss / total_samples\n",
        "        return avg_loss\n",
        "\n",
        "        # END CODE\n",
        "\n",
        "    def train(self, train_dataset, validation_dataset=None,\n",
        "              num_epochs=10, batch_size=8, shuffle=True,\n",
        "              save_steps=100, eval_steps=100, collate_fn=None):\n",
        "        \"\"\" Handles the training loop for the model.\n",
        "\n",
        "        Args:\n",
        "            train_dataset (torch.utils.data.Dataset): Dataset to train on.\n",
        "            validation_dataset (torch.utils.data.Dataset, optional): Data to validate on. Defaults to None.\n",
        "            num_epochs (int, optional): Number of epochs to train for. Defaults to 10.\n",
        "            batch_size (int, optional): Number of items to process per batch. Defaults to 8.\n",
        "            shuffle (bool, optional): Whether to shuffle the data or not. Defaults to True.\n",
        "            save_steps (int, optional): Number of steps post which a checkpoint should be saved. Defaults to 100.\n",
        "            eval_steps (int, optional): Number of steps post which the model should be evaluated. Defaults to 100.\n",
        "            collate_fn (function, optional): Function to use for collating instances to a batch.\n",
        "        \"\"\"\n",
        "\n",
        "        current_checkpoint = 0\n",
        "        self.model.to(self.device)\n",
        "        self.model.train()\n",
        "\n",
        "        with tqdm.tqdm(total = math.ceil(len(train_dataset) / batch_size) * num_epochs) as pbar:\n",
        "            for epoch in range(num_epochs):\n",
        "                train_dataloader      = self.make_dataloader(train_dataset, shuffle, batch_size, collate_fn)\n",
        "                if validation_dataset is not None:\n",
        "                    validation_dataloader = self.make_dataloader(validation_dataset, shuffle, batch_size, collate_fn)\n",
        "\n",
        "                for batch, (batch_x, batch_y) in enumerate(train_dataloader):\n",
        "                    pbar.set_description(f\"Epoch {epoch+1} / {num_epochs}\")\n",
        "\n",
        "                    # If we are resuming training, skip this iteration\n",
        "                    if current_checkpoint < self.last_checkpoint:\n",
        "                        current_checkpoint += 1\n",
        "                        pbar.update()\n",
        "                        continue\n",
        "\n",
        "                    # Do a step of training\n",
        "                    loss = self.train_step(batch_x, batch_y)\n",
        "                    self.loss_history['train'].append(loss)\n",
        "                    pbar.set_postfix({ 'batch': batch+1, 'loss': loss })\n",
        "\n",
        "                    current_checkpoint += 1\n",
        "                    pbar.update()\n",
        "\n",
        "                    # Evaluate after every eval_steps\n",
        "                    if (current_checkpoint) % eval_steps == 0:\n",
        "                        if validation_dataset is not None:\n",
        "                            val_loss = self.eval_step(validation_dataloader)\n",
        "                            self.loss_history['valid'].append(val_loss)\n",
        "                        else:\n",
        "                            val_loss = None\n",
        "\n",
        "                        print('[>]', f\"epoch #{epoch+1:{len(str(num_epochs))}},\",\n",
        "                              f\"batch #{batch+1:{len(str(len(train_dataloader)))}}:\",\n",
        "                              \"loss:\", f\"{loss:.8f}\", '|', \"val_loss:\", f\"{val_loss:.8f}\")\n",
        "\n",
        "                    # Save after every save_steps\n",
        "                    if (current_checkpoint) % save_steps == 0:\n",
        "                        self.save(current_checkpoint, { 'loss': loss, 'checkpoint': current_checkpoint })\n",
        "\n",
        "                    # free unused resources\n",
        "                    sync_vram()\n",
        "\n",
        "            self.save(current_checkpoint)\n",
        "\n",
        "    def resume(self):\n",
        "        \"\"\" Resumes training session from the most recent checkpoint. \"\"\"\n",
        "\n",
        "        if checkpoints := os.listdir(self.directory):\n",
        "            self.last_checkpoint = max(map(lambda x: int(x[11:]), filter(lambda x: 'checkpoint-' in x, checkpoints)))\n",
        "            checkpoint_dir = os.path.join(self.directory, f\"checkpoint-{self.last_checkpoint}\")\n",
        "            self.model.load_state_dict(torch.load(\n",
        "                os.path.join(checkpoint_dir, \"model.pt\"),\n",
        "                map_location=self.device\n",
        "            ))\n",
        "            self.model.to(self.device)\n",
        "            self.optimizer.load_state_dict(torch.load(\n",
        "                os.path.join(checkpoint_dir, \"optimizer.pt\"),\n",
        "                map_location=self.device\n",
        "            ))\n",
        "            with open(os.path.join(checkpoint_dir, \"loss.json\"), 'r', encoding='utf-8') as ifile:\n",
        "                self.loss_history = json.load(ifile)\n",
        "\n",
        "    def save(self, checkpoint=None, metadata=None):\n",
        "        \"\"\" Saves an associated model or a training checkpoint.\n",
        "\n",
        "            If a checkpoint is specified, saves a checkpoint specific directory with optimizer data\n",
        "                so that training can be resumed post that checkpoint.\n",
        "\n",
        "        Args:\n",
        "            checkpoint (int, optional): Checkpoint index. Defaults to None.\n",
        "            metadata (dict[str, any], optional): Additional metadata to save alongside a checkpoint. Defaults to None.\n",
        "        \"\"\"\n",
        "\n",
        "        if checkpoint is not None:\n",
        "            checkpoint_dir = os.path.join(self.directory, f\"checkpoint-{checkpoint}\")\n",
        "            os.makedirs(checkpoint_dir, exist_ok=True)\n",
        "            torch.save(self.model.state_dict(), os.path.join(checkpoint_dir, \"model.pt\"))\n",
        "            torch.save(self.optimizer.state_dict(), os.path.join(checkpoint_dir, \"optimizer.pt\"))\n",
        "            with open(os.path.join(checkpoint_dir, \"loss.json\"), \"w+\", encoding='utf-8') as ofile:\n",
        "                json.dump(self.loss_history, ofile, ensure_ascii=False, indent=2)\n",
        "            if metadata:\n",
        "                with open(os.path.join(checkpoint_dir, \"metadata.json\"), \"w+\", encoding='utf-8') as ofile:\n",
        "                    json.dump(metadata, ofile, ensure_ascii=False, indent=2)\n",
        "        else:\n",
        "            torch.save(self.model, os.path.join(self.directory, \"model.pt\"))\n",
        "            with open(os.path.join(self.directory, \"loss.json\"), \"w+\", encoding='utf-8') as ofile:\n",
        "                json.dump(self.loss_history, ofile, ensure_ascii=False, indent=2)\n",
        "            if metadata:\n",
        "                with open(os.path.join(self.directory, \"metadata.json\"), \"w+\", encoding='utf-8') as ofile:\n",
        "                    json.dump(metadata, ofile, ensure_ascii=False, indent=2)\n",
        "\n",
        "## ==== END EVALUATION PORTION"
      ]
    },
    {
      "cell_type": "markdown",
      "metadata": {
        "id": "ojRHAENJ7S1I"
      },
      "source": [
        "\n",
        "\n",
        "```\n",
        "# This is formatted as code\n",
        "```\n",
        "\n",
        "To test that the trainer works, try training a simple MLP network:"
      ]
    },
    {
      "cell_type": "code",
      "execution_count": 21,
      "metadata": {
        "id": "I8Qo2vdo7S1I"
      },
      "outputs": [],
      "source": [
        "X_train = torch.rand((500, 2))                      # (N x 2)\n",
        "X_dev   = torch.rand((20 , 2))                      # (N x 2)\n",
        "\n",
        "Y_train = (X_train[:, 0] - X_train[:, 1])[:, None]  # (N x 1)\n",
        "Y_dev   = (X_dev  [:, 0] - X_dev  [:, 1])[:, None]  # (N x 1)\n",
        "\n",
        "dummy_train_dataset = TensorDataset(X_train, Y_train)\n",
        "dummy_val_dataset   = TensorDataset(X_dev  , Y_dev  )"
      ]
    },
    {
      "cell_type": "code",
      "execution_count": 22,
      "metadata": {
        "id": "i63ykUv37S1I"
      },
      "outputs": [],
      "source": [
        "model = torch.nn.Sequential(\n",
        "    torch.nn.Linear(2, 4),\n",
        "    torch.nn.ReLU(),\n",
        "    torch.nn.Linear(4, 1)\n",
        ")\n",
        "\n",
        "loss_fn = torch.nn.MSELoss()\n",
        "optimizer = torch.optim.SGD(model.parameters(), lr=0.01)\n",
        "\n",
        "trainer = Trainer(\"mlp\", model, loss_fn, optimizer)\n",
        "\n",
        "trainer.train(dummy_train_dataset, dummy_val_dataset, batch_size=10, save_steps=300)"
      ]
    },
    {
      "cell_type": "markdown",
      "metadata": {
        "id": "-4hvE3VK7S1J"
      },
      "source": [
        "## Seq-2-Seq Modeling with RNNs"
      ]
    },
    {
      "cell_type": "markdown",
      "metadata": {
        "id": "q32giBvl7S1J"
      },
      "source": [
        "In this section, you will implement an encoder-decoder network using RNNs, to learn a conditional language model for the task of translating the names to Hindi.\n",
        "\n",
        "You can use any type of RNN for this purpose: `RNN`, `GRU`, `LSTM`, etc. Consult the pytorch documentation for additional information.\n",
        "\n",
        "Additional tips for training:\n",
        "- Use regularization: Dropout, etc.\n",
        "- Use a suitable optimizer, such as Adam.\n",
        "- Format data accordingly before passing it to the trainer, using the helper functions.\n",
        "- Do you need to pad sequences when processing inputs as a batch?"
      ]
    },
    {
      "cell_type": "code",
      "execution_count": 23,
      "metadata": {
        "id": "qgJfdMYX7S1K"
      },
      "outputs": [],
      "source": [
        "## ==== BEGIN EVALUATION PORTION\n",
        "\n",
        "class RNNEncoderDecoderLM(torch.nn.Module):\n",
        "    \"\"\" Implements an Encoder-Decoder network, using RNN units. \"\"\"\n",
        "\n",
        "    # Feel free to add additional parameters to __init__\n",
        "    def __init__(self, src_vocab_size, tgt_vocab_size, embd_dims, hidden_size, num_layers=1, dropout=0.1):\n",
        "        \"\"\" Initializes the encoder-decoder network, implemented via RNNs.\n",
        "\n",
        "        Args:\n",
        "            src_vocab_size (int): Source vocabulary size.\n",
        "            tgt_vocab_size (int): Target vocabulary size.\n",
        "            embd_dims (int): Embedding dimensions.\n",
        "            hidden_size (int): Size/Dimensions for the hidden states.\n",
        "        \"\"\"\n",
        "\n",
        "        super(RNNEncoderDecoderLM, self).__init__()\n",
        "\n",
        "        # Dummy parameter to track the model device. Do not modify.\n",
        "        self._dummy_param = torch.nn.Parameter(torch.Tensor(0), requires_grad=False)\n",
        "\n",
        "        # BEGIN CODE : enc-dec-rnn.init\n",
        "\n",
        "        # ADD YOUR CODE HERE\n",
        "        self.src_vocab_size = src_vocab_size\n",
        "        self.tgt_vocab_size = tgt_vocab_size\n",
        "        self.embd_dims = embd_dims\n",
        "        self.hidden_size = hidden_size\n",
        "        self.num_layers = num_layers\n",
        "        \n",
        "        # Define encoder\n",
        "        self.encoder_embedding = torch.nn.Embedding(src_vocab_size, embd_dims , padding_idx=3)\n",
        "        self.encoder_rnn = torch.nn.GRU(embd_dims, hidden_size, num_layers , dropout=dropout, batch_first=True)\n",
        "        # Define decoder\n",
        "        self.decoder_embedding = torch.nn.Embedding(tgt_vocab_size, embd_dims , padding_idx=3)\n",
        "        self.decoder_rnn = torch.nn.GRU(embd_dims , hidden_size, num_layers , dropout=dropout,  batch_first=True )\n",
        "        self.decoder_output_layer = torch.nn.Linear(hidden_size, tgt_vocab_size)\n",
        "        self.dropout = torch.nn.Dropout(dropout)\n",
        "\n",
        "\n",
        "    @property\n",
        "    def device(self):\n",
        "        \"\"\" Returns the device the model parameters are on. \"\"\"\n",
        "        return self._dummy_param.device\n",
        "\n",
        "    def forward(self, inputs, decoder_inputs, decoder_hidden_state=None):\n",
        "        \"\"\" Performs a forward pass over the encoder-decoder network.\n",
        "\n",
        "            Accepts inputs for the encoder, inputs for the decoder, and hidden state for\n",
        "                the decoder to continue generation after the given input.\n",
        "\n",
        "        Args:\n",
        "            inputs (torch.Tensor): tensor of shape [batch_size?, max_seq_length]\n",
        "            decoder_inputs (torch.Tensor): tensor of shape [batch_size?, 1]\n",
        "            decoder_hidden_state (any): tensor to represent decoder hidden state from time step T-1.\n",
        "\n",
        "        Returns:\n",
        "            tuple[torch.Tensor, any]: output from the decoder, and associated hidden state for the next step.\n",
        "            Decoder outputs should be log probabilities over the target vocabulary.\n",
        "        \"\"\"\n",
        "\n",
        "        # BEGIN CODE : enc-dec-rnn.forward\n",
        "\n",
        "        # ADD YOUR CODE HERE\n",
        "        # Encoder forward pass\n",
        "        encoder_embedded = self.encoder_embedding(inputs)  # Shape: [batch_size, max_seq_length, embd_dims]\n",
        "        encoder_outputs, encoder_hidden_state = self.encoder_rnn(encoder_embedded)  # Shape: [batch_size, max_seq_length, hidden_size]\n",
        "\n",
        "        # Initialize decoder hidden state with the last hidden state of the encoder\n",
        "        if decoder_hidden_state is None:\n",
        "            decoder_hidden_state = encoder_hidden_state\n",
        "\n",
        "        # Decoder forward pass\n",
        "        decoder_embedded = self.decoder_embedding(decoder_inputs)  # Shape: [batch_size, 1, embd_dims]\n",
        "        decoder_outputs, decoder_hidden_state = self.decoder_rnn(decoder_embedded, decoder_hidden_state)  # Shape: [batch_size, 1, hidden_size]\n",
        "\n",
        "        output = self.decoder_output_layer(decoder_outputs)\n",
        "        return (torch.nn.functional.log_softmax(output , dim=-1), (decoder_hidden_state , None))\n",
        "\n",
        "    def log_probability(self, seq_x, seq_y):\n",
        "        \"\"\" Compute the conditional log probability of seq_y given seq_x, i.e., log P(seq_y | seq_x).\n",
        "\n",
        "        Args:\n",
        "            seq_x (torch.tensor): Input sequence of tokens.\n",
        "            seq_y (torch.tensor): Output sequence of tokens.\n",
        "\n",
        "        Returns:\n",
        "            float: Log probability of seq_y given seq_x\n",
        "        \"\"\"\n",
        "\n",
        "        # BEGIN CODE : enc-dec-rnn.log_probability\n",
        "\n",
        "        # ADD YOUR CODE HERE\n",
        "        self.eval()\n",
        "        with torch.no_grad():\n",
        "            encoder_inputs = seq_x.unsqueeze(0)\n",
        "            decoder_inputs = seq_y.unsqueeze(0)\n",
        "            decoder_hidden_state = None\n",
        "            total_log_prob = 0\n",
        "\n",
        "            for timestep in range(1, decoder_inputs.shape[1]):\n",
        "                current_input = decoder_inputs[:, timestep - 1:timestep]\n",
        "                decoder_output, decoder_hidden_state = self(encoder_inputs, current_input, decoder_hidden_state)\n",
        "                log_prob = decoder_output[0, 0, decoder_inputs[0, timestep]]\n",
        "                total_log_prob += log_prob\n",
        "            return total_log_prob\n",
        "        # END CODE\n",
        "\n",
        "## ==== END EVALUATION PORTION"
      ]
    },
    {
      "cell_type": "markdown",
      "metadata": {
        "id": "djZmH1UT7S1K"
      },
      "source": [
        "To train the above model, implement for training and evaluation steps in the `RNNEncoderDecoderTrainer` class below:"
      ]
    },
    {
      "cell_type": "code",
      "execution_count": 24,
      "metadata": {
        "id": "plixWQjn7S1K"
      },
      "outputs": [],
      "source": [
        "## ==== BEGIN EVALUATION PORTION\n",
        "\n",
        "class RNNEncoderDecoderTrainer(Trainer):\n",
        "    \"\"\" Performs model training for RNN-based Encoder-Decoder models. \"\"\"\n",
        "\n",
        "    def __init__(self, directory, model, criterion, optimizer):\n",
        "        \"\"\" Initializes the trainer.\n",
        "\n",
        "        Args:\n",
        "            directory (str): Directory to save checkpoints and the model data in.\n",
        "            model (torch.nn.Module): Torch model to train.\n",
        "            criterion (torch.nn.Function): Loss Criterion.\n",
        "            optimizer (torch.optim.Optimizer): Optimizer to use.\n",
        "        \"\"\"\n",
        "\n",
        "        super(RNNEncoderDecoderTrainer, self).__init__(directory, model, criterion, optimizer)\n",
        "\n",
        "\n",
        "    @staticmethod\n",
        "    def make_dataloader(dataset, shuffle_data=True, batch_size=8, collate_fn=None):\n",
        "        \"\"\" Create a dataloader for a torch Dataset.\n",
        "\n",
        "        Args:\n",
        "            dataset (torch.utils.data.Dataset): Dataset to process.\n",
        "            shuffle_data (bool, optional): If true, shuffles the data. Defaults to True.\n",
        "            batch_size (int, optional): Number of items per batch. Defaults to 8.\n",
        "            collate_fn (function, optional): Function to collate instances in a batch.\n",
        "\n",
        "        Returns:\n",
        "            torch.utils.data.DataLoader: Dataloader over the given data, post processing.\n",
        "        \"\"\"\n",
        "\n",
        "        # BEGIN CODE : rnn-enc-dec-trainer.make_dataloader\n",
        "\n",
        "        # ADD YOUR CODE HERE\n",
        "        return DataLoader(dataset, shuffle=shuffle_data, batch_size=batch_size, collate_fn=collate_fn)\n",
        "\n",
        "        # END CODE\n",
        "\n",
        "    def train_step(self, x_batch, y_batch):\n",
        "        \"\"\" Performs a step of training, on the training batch.\n",
        "\n",
        "        Args:\n",
        "            x_batch (torch.Tensor): Input batch tensor, of shape [batch_size, *instance_shape].\n",
        "              For RNNs this is [batch_size, src_padding] or a torch.nn.utils.rnn.PackedSequence of varying lengths per batch (depends on padding).\n",
        "            y_batch (torch.Tensor): Output batch tensor, of shape [batch_size, *instance_shape].\n",
        "              For RNNs this is [batch_size, tgt_padding] or a torch.nn.utils.rnn.PackedSequence of varying lengths per batch (depends on padding).\n",
        "\n",
        "        Returns:\n",
        "            float: Training loss with the current model, on this batch.\n",
        "        \"\"\"\n",
        "\n",
        "        # BEGIN CODE : rnn-enc-dec-trainer.train_step\n",
        "\n",
        "        # ADD YOUR CODE HERE\n",
        "        self.model.train()\n",
        "        x_batch = x_batch.to(self.device)\n",
        "        y_batch = y_batch.to(self.device)\n",
        "        self.optimizer.zero_grad()\n",
        "        hidden_state = None\n",
        "        loss = 0\n",
        "        input = y_batch[:,0:1]\n",
        "        for i in range(y_batch.shape[1]-1):\n",
        "            if(torch.rand(1) < 0.7):\n",
        "                input = y_batch[:,i:i+1]\n",
        "            y_pred, hidden_state = self.model(x_batch, input , hidden_state)\n",
        "            if(hidden_state[1] is None):\n",
        "                hidden_state , cell_state = hidden_state\n",
        "            y_pred = y_pred.squeeze(dim = 1)\n",
        "            input = y_pred.argmax(dim=1).unsqueeze(dim=1)\n",
        "            loss += self.criterion(y_pred , y_batch[:, i+1 : i+2].squeeze(dim=1))\n",
        "\n",
        "        loss /= y_batch.shape[1]\n",
        "        loss.backward()\n",
        "        self.optimizer.step()\n",
        "        return loss.item()\n",
        "          \n",
        "    \n",
        "\n",
        "        # END CODE\n",
        "\n",
        "    def eval_step(self, validation_dataloader):\n",
        "        \"\"\" Perfoms an evaluation step, on the validation dataloader.\n",
        "\n",
        "        Args:\n",
        "            validation_dataloader (torch.utils.data.DataLoader): Dataloader for the validation dataset.\n",
        "\n",
        "        Returns:\n",
        "            float: Validation loss with the current model checkpoint.\n",
        "        \"\"\"\n",
        "\n",
        "        # BEGIN CODE : rnn-enc-dec-trainer.eval_step\n",
        "\n",
        "        # ADD YOUR CODE HERE\n",
        "        self.model.eval()\n",
        "        total_loss = 0\n",
        "\n",
        "        with torch.no_grad():\n",
        "            for x_batch, y_batch in validation_dataloader:\n",
        "                x_batch = x_batch.to(self.device)\n",
        "                y_batch = y_batch.to(self.device)\n",
        "                hidden_state = None\n",
        "                loss = 0\n",
        "                input = y_batch[:,0:1]\n",
        "                for i in range(y_batch.shape[1]-1):\n",
        "                    if(torch.rand(1) < 1):\n",
        "                        input = y_batch[:,i:i+1]\n",
        "                    y_pred, hidden_state = self.model(x_batch, input , hidden_state)\n",
        "                    if(hidden_state[1] is None):\n",
        "                        hidden_state , cell_state = hidden_state\n",
        "                    y_pred = y_pred.squeeze(dim = 1)\n",
        "                    input = y_pred.argmax(dim=1).unsqueeze(dim=1)\n",
        "                    loss_ = self.criterion(y_pred, y_batch[:, i+1:i+2].squeeze(dim=1))\n",
        "                    loss += loss_.item()\n",
        "                total_loss += (loss / y_batch.shape[1])\n",
        "                \n",
        "        return total_loss / len(validation_dataloader)\n",
        "\n",
        "        # END CODE\n",
        "\n",
        "## ==== END EVALUATION PORTION"
      ]
    },
    {
      "cell_type": "code",
      "execution_count": 25,
      "metadata": {
        "id": "AX2RQOe87S1L"
      },
      "outputs": [],
      "source": [
        "## == BEGIN EVALUATION PORTION\n",
        "\n",
        "# Edit the hyperparameters below to your desired values.\n",
        "\n",
        "# BEGIN CODE : rnn-enc-dec.params\n",
        "\n",
        "# Add parameters related to the model here.\n",
        "rnn_enc_dec_params = {\n",
        "    'src_vocab_size': SRC_VOCAB_SIZE + 4,\n",
        "    'tgt_vocab_size': TGT_VOCAB_SIZE + 4,\n",
        "    'embd_dims'     : 256,\n",
        "    'hidden_size'   : 512,\n",
        "    'dropout'       : 0.2,\n",
        "    'num_layers'    : 3\n",
        "}\n",
        "\n",
        "# Add parameters related to the dataset processing here.\n",
        "rnn_enc_dec_data_params = dict(\n",
        "    src_padding=18,\n",
        "    tgt_padding=18,\n",
        ")\n",
        "\n",
        "# Add parameters related to training here.\n",
        "rnn_enc_dec_training_params = dict(\n",
        "    num_epochs= 50,\n",
        "    batch_size= 32,\n",
        "    shuffle=True,\n",
        "    save_steps=500,\n",
        "    eval_steps=500\n",
        ")\n",
        "\n",
        "# END CODE\n",
        "\n",
        "# Do not forget to set a deterministic seed.\n",
        "torch.manual_seed(42)\n",
        "\n",
        "model = RNNEncoderDecoderLM(**rnn_enc_dec_params)\n",
        "\n",
        "# BEGIN CODE : rnn-enc-dec.train\n",
        "\n",
        "# ADD YOUR CODE HERE\n",
        "optimizer = torch.optim.Adam(model.parameters(), lr = 0.001)\n",
        "criterion = torch.nn.CrossEntropyLoss()\n",
        "\n",
        "# END CODE\n",
        "\n",
        "trainer = RNNEncoderDecoderTrainer(\n",
        "    os.path.join(DIRECTORY_NAME, \"rnn.enc-dec\"),\n",
        "    model, criterion, optimizer\n",
        ")\n",
        "\n",
        "\n",
        "\n",
        "\n",
        "## == END EVALUATION PORTION"
      ]
    },
    {
      "cell_type": "code",
      "execution_count": 26,
      "metadata": {
        "id": "ZGSIuMYP7S1L"
      },
      "outputs": [
        {
          "name": "stderr",
          "output_type": "stream",
          "text": [
            "Epoch 1 / 1: 100%|██████████| 141/141 [00:44<00:00,  3.18it/s, batch=141, loss=1.06] \n"
          ]
        }
      ],
      "source": [
        "# Please do not change anything in the following cell.\n",
        "train_dataset      = TokenizerDataset(train_data     , src_tokenizer, tgt_tokenizer, **rnn_enc_dec_data_params)\n",
        "validation_dataset = TokenizerDataset(validation_data, src_tokenizer, tgt_tokenizer, **rnn_enc_dec_data_params)\n",
        "\n",
        "rnn_enc_dec_train_data = dict(\n",
        "    train_dataset=train_dataset,\n",
        "    validation_dataset=validation_dataset,\n",
        "    collate_fn=train_dataset.collate\n",
        ")\n",
        "\n",
        "# Resume training from the last checkpoint, if interrupted midway, else begins training from scratch.\n",
        "#trainer.resume()\n",
        "\n",
        "# Train as per specified training parameters.\n",
        "trainer.train(**rnn_enc_dec_train_data, **rnn_enc_dec_training_params)"
      ]
    },
    {
      "cell_type": "code",
      "execution_count": 27,
      "metadata": {
        "id": "GtcTRlgs7S1M"
      },
      "outputs": [],
      "source": [
        "# Please do not change anything in the following cell.\n",
        "\n",
        "# Save the final model, with additional metadata.\n",
        "trainer.save(metadata={\n",
        "    'model'   : rnn_enc_dec_params,\n",
        "    'data'    : rnn_enc_dec_data_params,\n",
        "    'training': rnn_enc_dec_training_params\n",
        "})"
      ]
    },
    {
      "cell_type": "markdown",
      "metadata": {
        "id": "YUshh3Uv7S1N"
      },
      "source": [
        "To validate training, look at sample translations for different examples, and probabilities assigned to different outputs.\n",
        "\n",
        "Extensive evaluation and comparison against other approaches will be carried out later."
      ]
    },
    {
      "cell_type": "code",
      "execution_count": 28,
      "metadata": {
        "id": "USVATGO17S1O"
      },
      "outputs": [],
      "source": [
        "def rnn_greedy_generate(model, seq_x, src_tokenizer, tgt_tokenizer, max_length):\n",
        "    \"\"\" Given a source string, translate it to the target language using the trained model.\n",
        "        This function should perform greedy sampling to generate the results.\n",
        "\n",
        "    Args:\n",
        "        model (nn.Module): RNN Type Encoder-Decoder Model\n",
        "        seq_x (str): Input string to translate.\n",
        "        src_tokenizer (Tokenizer): Source language tokenizer.\n",
        "        tgt_tokenizer (Tokenizer): Target language tokenizer.\n",
        "        max_length (int): Maximum length of the target sequence to decode.\n",
        "\n",
        "    Returns:\n",
        "        str: Generated string for the given input in the target language.\n",
        "    \"\"\"\n",
        "\n",
        "    # BEGIN CODE : enc-dec-rnn.greedy_generate\n",
        "\n",
        "    # ADD YOUR CODE HERE\n",
        "    model.eval()\n",
        "    with torch.no_grad():\n",
        "        encoded_source = src_tokenizer.encode(seq_x, add_start=True, add_end=True)\n",
        "        encoded_source = torch.tensor(encoded_source).unsqueeze(0).to(model.device)\n",
        "        \n",
        "        hidden_state = None\n",
        "        decoder_input = torch.tensor([[0]], dtype=torch.long).to(model.device)  # Start token\n",
        "        \n",
        "        decoded_output = []\n",
        "        for _ in range(max_length):\n",
        "            predictions, hidden_state = model(encoded_source, decoder_input, hidden_state)\n",
        "            \n",
        "            if hidden_state[1] is None:\n",
        "                hidden_state, _ = hidden_state\n",
        "            \n",
        "            predicted_token = torch.argmax(predictions, dim=-1)\n",
        "            decoded_output.append(predicted_token[0, 0].item())\n",
        "            decoder_input = predicted_token\n",
        "    \n",
        "    return tgt_tokenizer.decode(decoded_output)\n"
      ]
    },
    {
      "cell_type": "code",
      "execution_count": 29,
      "metadata": {
        "id": "tz4Ud06A7S1O"
      },
      "outputs": [
        {
          "name": "stdout",
          "output_type": "stream",
          "text": [
            "Name                      : al0k\n",
            "Translation (Expected)    : आलोक\n",
            "Translation (Model)       : ल\n",
            "\n",
            "Name                      : sufia\n",
            "Translation (Expected)    : सूफिया\n",
            "Translation (Model)       : \n",
            "\n",
            "Name                      : firoz\n",
            "Translation (Expected)    : फिरोज़\n",
            "Translation (Model)       : \n",
            "\n",
            "Name                      : gouri\n",
            "Translation (Expected)    : गौरी\n",
            "Translation (Model)       : \n",
            "\n",
            "Name                      : chhaya\n",
            "Translation (Expected)    : छाया\n",
            "Translation (Model)       : ा\n",
            "\n"
          ]
        }
      ],
      "source": [
        "# Please do not change anything in the following cell.\n",
        "\n",
        "for _, row in train_data.sample(n=5, random_state=42).iterrows():\n",
        "    y_pred = rnn_greedy_generate(\n",
        "        model, row['Name'], src_tokenizer, tgt_tokenizer,\n",
        "        max_length = rnn_enc_dec_data_params['tgt_padding']\n",
        "    )\n",
        "\n",
        "    print(\"Name                      :\", row['Name'])\n",
        "    print(\"Translation (Expected)    :\", row['Translation'])\n",
        "    print(\"Translation (Model)       :\", y_pred)\n",
        "\n",
        "    print()"
      ]
    },
    {
      "cell_type": "code",
      "execution_count": 30,
      "metadata": {
        "id": "FvEL5aYR7S1O"
      },
      "outputs": [
        {
          "name": "stdout",
          "output_type": "stream",
          "text": [
            "Name                      : mhosin\n",
            "Translation (Expected)    : मोहसीन\n",
            "Translation (Model)       : मी\n",
            "\n",
            "Name                      : qadeem\n",
            "Translation (Expected)    : क़दीम\n",
            "Translation (Model)       : ी\n",
            "\n",
            "Name                      : ashiqu\n",
            "Translation (Expected)    : आशिक़\n",
            "Translation (Model)       : \n",
            "\n",
            "Name                      : midhana\n",
            "Translation (Expected)    : मिधना\n",
            "Translation (Model)       : मनी\n",
            "\n",
            "Name                      : divakar\n",
            "Translation (Expected)    : दिवाकर\n",
            "Translation (Model)       : क\n",
            "\n"
          ]
        }
      ],
      "source": [
        "# Please do not change anything in the following cell.\n",
        "\n",
        "for _, row in validation_data.sample(n=5, random_state=42).iterrows():\n",
        "    y_pred = rnn_greedy_generate(\n",
        "        model, row['Name'], src_tokenizer, tgt_tokenizer,\n",
        "        max_length = rnn_enc_dec_data_params['tgt_padding']\n",
        "    )\n",
        "\n",
        "    print(\"Name                      :\", row['Name'])\n",
        "    print(\"Translation (Expected)    :\", row['Translation'])\n",
        "    print(\"Translation (Model)       :\", y_pred)\n",
        "\n",
        "    print()"
      ]
    },
    {
      "cell_type": "code",
      "execution_count": 31,
      "metadata": {
        "id": "GaoL9IUrsaFU"
      },
      "outputs": [],
      "source": [
        "# Please do not change anything in the following cell.\n",
        "\n",
        "output_data = []\n",
        "for _, row in validation_data.iterrows():\n",
        "    y_pred = rnn_greedy_generate(\n",
        "        model, row['Name'], src_tokenizer, tgt_tokenizer,\n",
        "        max_length = rnn_enc_dec_data_params['tgt_padding']\n",
        "    )\n",
        "    output_data.append({ 'Name': row['Name'], 'Translation': y_pred })\n",
        "\n",
        "pd.DataFrame.from_records(output_data).to_csv(\n",
        "    os.path.join(DIRECTORY_NAME, \"rnn.enc-dec\", \"outputs.csv\"), index=False\n",
        ")"
      ]
    },
    {
      "cell_type": "code",
      "execution_count": 32,
      "metadata": {
        "id": "-XRDFy1U7S1P"
      },
      "outputs": [],
      "source": [
        "# Please do not change anything in the following cell.\n",
        "\n",
        "# Release resources\n",
        "if 'trainer' in globals():\n",
        "    del trainer\n",
        "\n",
        "if 'model' in globals():\n",
        "    del model\n",
        "\n",
        "sync_vram()"
      ]
    },
    {
      "cell_type": "markdown",
      "metadata": {
        "id": "gkAB3ivx7S1Q"
      },
      "source": [
        "## Seq-2-Seq Modeling with RNN + Attention"
      ]
    },
    {
      "cell_type": "markdown",
      "metadata": {
        "id": "YPpFw0Fn7S1Q"
      },
      "source": [
        "In this module, you'll augment the Encoder-Decoder architecture to utilize attention, by implementing an Attention module that attends over the representations / inputs from the encoder.\n",
        "\n",
        "Many approaches have been proposed in literature towards implementing attention. You are free to explore and use any implementation of your choice.\n",
        "\n",
        "Some popular approaches are desribed in the original [paper by Bahdanau et al., 2014 on NMT](https://arxiv.org/abs/1409.0473) and an [exploratory paper by Luong et al, 2015](https://arxiv.org/abs/1508.04025) which explores different effective approaches to attention, including global and local attention."
      ]
    },
    {
      "cell_type": "code",
      "execution_count": 37,
      "metadata": {
        "id": "l2wmAoC77S1R"
      },
      "outputs": [],
      "source": [
        "## ==== BEGIN EVALUATION PORTION\n",
        "\n",
        "class AttentionModule(torch.nn.Module):\n",
        "    \"\"\" Implements an attention module \"\"\"\n",
        "\n",
        "    # Feel free to add additional parameters to __init__\n",
        "    def __init__(self, input_size):\n",
        "        \"\"\" Initializes the attention module.\n",
        "            Feel free to declare any parameters as required. \"\"\"\n",
        "\n",
        "        super(AttentionModule, self).__init__()\n",
        "\n",
        "        # BEGIN CODE : attn.init\n",
        "\n",
        "        # ADD YOUR CODE HERE\n",
        "        self.W = torch.nn.Linear(2*input_size, input_size)\n",
        "        self.U = torch.nn.Linear(input_size, input_size)\n",
        "        self.V = torch.nn.Linear(input_size, 1)\n",
        "        self.activation = torch.nn.Tanh()\n",
        "\n",
        "\n",
        "\n",
        "\n",
        "        # END CODE\n",
        "\n",
        "    def forward(self, encoder_outputs, decoder_hidden_state):\n",
        "        \"\"\" Performs a forward pass over the module, computing attention scores for inputs.\n",
        "\n",
        "        Args:\n",
        "            encoder_outputs (torch.Tensor): Output representations from the encoder, of shape [batch_size?, src_seq_len, output_dim].\n",
        "            decoder_hidden_state (torch.Tensor): Hidden state from the decoder at current time step, of appropriate shape as per RNN unit (with optional batch dim).\n",
        "\n",
        "        Returns:\n",
        "            torch.Tensor: Attentions scores for given inputs, of shape [batch_size?, 1, src_seq_len]\n",
        "        \"\"\"\n",
        "\n",
        "        # BEGIN CODE : attn.forward\n",
        "\n",
        "        # ADD YOUR CODE HERE\n",
        "        \n",
        "        decoder_hidden_state = decoder_hidden_state.permute(1, 0, 2)\n",
        "        seq_len = encoder_outputs.shape[1] \n",
        "        decoder_hidden_state = decoder_hidden_state.repeat(1, seq_len , 1)\n",
        "        decoder_share = self.U(decoder_hidden_state)\n",
        "        encoders_share = self.W(encoder_outputs)\n",
        "        value = self.activation(decoder_share + encoders_share) \n",
        "        attention = self.V(value).permute(0, 2, 1)\n",
        "        score = torch.nn.functional.log_softmax(attention, dim=1)\n",
        "        return score\n",
        "    \n",
        "\n",
        "        # END CODE\n",
        "\n",
        "## ==== END EVALUATION PORTION"
      ]
    },
    {
      "cell_type": "code",
      "execution_count": 38,
      "metadata": {
        "id": "8q73WPlp7S1R"
      },
      "outputs": [],
      "source": [
        "## ==== BEGIN EVALUATION PORTION\n",
        "\n",
        "class RNNEncoderDecoderLMWithAttention(torch.nn.Module):\n",
        "    \"\"\" Implements an Encoder-Decoder network, using RNN units, augmented with attention. \"\"\"\n",
        "\n",
        "    # Feel free to add additional parameters to __init__\n",
        "    def __init__(self,src_vocab_size, tgt_vocab_size, embd_dims, hidden_size, num_layers=1, dropout=0.1):\n",
        "        \"\"\" Initializes the encoder-decoder network, implemented via RNNs.\n",
        "\n",
        "        Args:\n",
        "            src_vocab_size (int): Source vocabulary size.\n",
        "            tgt_vocab_size (int): Target vocabulary size.\n",
        "            embd_dims (int): Embedding dimensions.\n",
        "            hidden_size (int): Size/Dimensions for the hidden states.\n",
        "        \"\"\"\n",
        "\n",
        "        super(RNNEncoderDecoderLMWithAttention, self).__init__()\n",
        "\n",
        "        # Dummy parameter to track the model device. Do not modify.\n",
        "        self._dummy_param = torch.nn.Parameter(torch.Tensor(0), requires_grad=False)\n",
        "\n",
        "        # BEGIN CODE : enc-dec-rnn-attn.init\n",
        "\n",
        "        # ADD YOUR CODE HERE\n",
        "        self.src_vocab_size = src_vocab_size\n",
        "        self.tgt_vocab_size = tgt_vocab_size\n",
        "        self.embd_dims = embd_dims\n",
        "        self.hidden_size = hidden_size\n",
        "        self.num_layers = num_layers\n",
        "        self.dropout = dropout\n",
        "\n",
        "        \n",
        "        self.encoder_embedding = torch.nn.Embedding(src_vocab_size, embd_dims , padding_idx=3 ,)\n",
        "        self.encoder_rnn = torch.nn.GRU(embd_dims, hidden_size, num_layers , dropout=dropout, batch_first=True , bidirectional = True)\n",
        "        self.decoder_embedding = torch.nn.Embedding(tgt_vocab_size, embd_dims , padding_idx=3)\n",
        "        self.decoder_rnn = torch.nn.GRU(embd_dims+2*hidden_size , hidden_size, 1 ,  batch_first=True)\n",
        "        self.output = torch.nn.Linear(hidden_size, tgt_vocab_size)\n",
        "        self.attention = AttentionModule(hidden_size)\n",
        "\n",
        "\n",
        "        # END CODE\n",
        "\n",
        "    @property\n",
        "    def device(self):\n",
        "        return self._dummy_param.device\n",
        "\n",
        "    def log_probability(self, seq_x, seq_y):\n",
        "        \"\"\" Compute the conditional log probability of seq_y given seq_x, i.e., log P(seq_y | seq_x).\n",
        "\n",
        "        Args:\n",
        "            seq_x (torch.tensor): Input sequence of tokens, of shape [src_seq_len] (no batch dim)\n",
        "            seq_y (torch.tensor): Output sequence of tokens, of shape [tgt_seq_len] (no batch dim)\n",
        "\n",
        "        Returns:\n",
        "            float: Log probability of generating sequence y, given sequence x.\n",
        "        \"\"\"\n",
        "\n",
        "        # BEGIN CODE : enc-dec-rnn-attn.probability\n",
        "\n",
        "        # ADD YOUR CODE HERE\n",
        "            # ADD YOUR CODE HERE\n",
        "        self.eval()\n",
        "        with torch.no_grad():\n",
        "            x_batch = seq_x.unsqueeze(0)\n",
        "            y_batch = seq_y.unsqueeze(0)\n",
        "            hidden_state = None\n",
        "            input = y_batch[:,0:1]\n",
        "            prob = 0\n",
        "            for i in range(y_batch.shape[1]-1):\n",
        "                input = y_batch[:,i:i+1]\n",
        "                y_pred, hidden_state = self(x_batch, input , hidden_state)\n",
        "                if(hidden_state[1] is None):\n",
        "                    hidden_state , cell_state = hidden_state\n",
        "                prob += y_pred[0,0,input[0,0]]\n",
        "            return prob\n",
        "          \n",
        "        # END CODE\n",
        "\n",
        "    def attentions(self, seq_x, terminate_token, max_length):\n",
        "        \"\"\" Obtain attention over a sequence for decoding to the target language.\n",
        "\n",
        "        Args:\n",
        "            seq_x (torch.tensor): Tensor representing the source sequence, of shape [src_seq_len] (no batch dim)\n",
        "            terminate_token (int): Token to use as EOS, to stop generating outputs.\n",
        "            max_length (int): Maximum length to use to terminate the sampling.\n",
        "\n",
        "        Returns:\n",
        "            tuple[torch.tensor, torch.tensor]:\n",
        "                A tuple of two tensors: the attentions over individual output tokens ([tgt_seq_len, src_seq_len])\n",
        "                and the best output tokens ([tgt_seq_len]) per sequence step, based on greedy sampling.\n",
        "        \"\"\"\n",
        "\n",
        "        # BEGIN CODE : rnn-enc-dec-attn.attentions\n",
        "        \n",
        "        # ADD YOUR CODE HERE\n",
        "        model.eval()\n",
        "        with torch.no_grad():\n",
        "            seq_x = seq_x.unsqueeze(0).to(model.device)\n",
        "            hidden_state = None\n",
        "            decoder_input = torch.tensor([[0]] , dtype = torch.long).to(model.device)\n",
        "            output = []\n",
        "            attentions = []\n",
        "            for _ in range(max_length):\n",
        "                y_pred, hidden_state, attention = model(seq_x, decoder_input, hidden_state, output_attention=True)\n",
        "                if(hidden_state[1] is None):\n",
        "                    hidden_state , cell_state = hidden_state\n",
        "                attentions.append(attention)\n",
        "                y_pred = torch.argmax(y_pred, dim=-1)\n",
        "                output.append(y_pred[0 , 0].item())\n",
        "                decoder_input = y_pred\n",
        "                if y_pred[0, 0].item() == terminate_token:\n",
        "                    break\n",
        "            \n",
        "        return (torch.cat(attentions, dim=1).squeeze(0).cpu(), torch.tensor(output).cpu())\n",
        "        # END CODE\n",
        "\n",
        "    def forward(self, inputs, decoder_inputs=None, decoder_hidden_state=None, output_attention=False):\n",
        "        \"\"\" Performs a forward pass over the encoder-decoder network.\n",
        "\n",
        "            Accepts inputs for the encoder, inputs for the decoder, and hidden state for\n",
        "                the decoder to continue generation after the given input.\n",
        "\n",
        "        Args:\n",
        "            inputs (torch.Tensor): tensor of shape [batch_size?, src_seq_len]\n",
        "            decoder_inputs (torch.Tensor): Decoder inputs, as tensor of shape [batch_size?, 1]\n",
        "            decoder_hidden_state (any): tensor to represent decoder hidden state from time step T-1.\n",
        "            output_attention (bool): If true, this function should also return the\n",
        "                associated attention weights for the time step, of shape [batch_size?, 1, src_seq_len].\n",
        "\n",
        "        Returns:\n",
        "            tuple[torch.Tensor, any]: output from the decoder, and associated hidden state for the next step.\n",
        "\n",
        "            Decoder outputs should be log probabilities over the target vocabulary.\n",
        "\n",
        "        Example:\n",
        "        >>> model = RNNEncoderDecoderWithAttention(*args, **kwargs)\n",
        "        >>> output, hidden = model(..., output_attention=False)\n",
        "        >>> output, hidden, attn_weights = model(..., output_attention=True)\n",
        "        \"\"\"\n",
        "\n",
        "        # BEGIN CODE : enc-dec-rnn-attn.forward\n",
        "\n",
        "        # ADD YOUR CODE HERE\n",
        "       \n",
        "        encoder_side_embedding = self.encoder_embedding(inputs)\n",
        "        output_encoder , encoder_hidden = self.encoder_rnn(encoder_side_embedding)\n",
        "        if(decoder_hidden_state is None):\n",
        "            decoder_hidden_state = encoder_hidden[0].unsqueeze(0)\n",
        "        score = self.attention(output_encoder, decoder_hidden_state)\n",
        "        context = torch.bmm(score, output_encoder)\n",
        "        decoder_side_embedding = self.decoder_embedding(decoder_inputs)\n",
        "        decoder_side_embedding = torch.cat((decoder_side_embedding, context), dim=2)\n",
        "        output , hidden_state = self.decoder_rnn(decoder_side_embedding , decoder_hidden_state)\n",
        "        output = self.output(output)\n",
        "        if(output_attention):\n",
        "            return (torch.nn.functional.log_softmax(output , dim=-1), (hidden_state , None), score)\n",
        "        return (torch.nn.functional.log_softmax(output , dim=-1),  (hidden_state , None))\n",
        "\n",
        "\n",
        "        # END CODE\n",
        "\n",
        "## ==== END EVALUATION PORTION"
      ]
    },
    {
      "cell_type": "code",
      "execution_count": 41,
      "metadata": {
        "id": "cuLUZV167S1S"
      },
      "outputs": [],
      "source": [
        "## == BEGIN EVALUATION PORTION\n",
        "\n",
        "# Edit the hyperparameters below to your desired values.\n",
        "\n",
        "# BEGIN CODE : rnn-enc-dec-attn.params\n",
        "\n",
        "# Add parameters related to the model here.\n",
        "rnn_enc_dec_attn_params = {\n",
        "    'src_vocab_size':  SRC_VOCAB_SIZE + 4,\n",
        "    'tgt_vocab_size': TGT_VOCAB_SIZE + 4,\n",
        "    'embd_dims'     : 256,\n",
        "    'hidden_size'   : 512,\n",
        "    'dropout'       : 0.2,\n",
        "    'num_layers'    : 3\n",
        "}\n",
        "\n",
        "# Add parameters related to the dataset processing here.\n",
        "rnn_enc_dec_attn_data_params = dict(\n",
        "    src_padding=18,\n",
        "    tgt_padding=18,\n",
        ")\n",
        "\n",
        "# Add parameters related to training here.\n",
        "rnn_enc_dec_attn_training_params = dict(\n",
        "    num_epochs=50,\n",
        "    batch_size=32,\n",
        "    shuffle=True,\n",
        "    save_steps=1000,\n",
        "    eval_steps=1000\n",
        ")\n",
        "\n",
        "# END CODE\n",
        "\n",
        "# Do not forget to set a deterministic seed.\n",
        "torch.manual_seed(42)\n",
        "\n",
        "model = RNNEncoderDecoderLMWithAttention(**rnn_enc_dec_attn_params)\n",
        "\n",
        "# BEGIN CODE : rnn-enc-dec-attn.train\n",
        "\n",
        "# ADD YOUR CODE HERE\n",
        "optimizer = torch.optim.Adam(model.parameters(), lr=0.0025)\n",
        "criterion = torch.nn.NLLLoss()\n",
        "\n",
        "# END CODE\n",
        "\n",
        "trainer = RNNEncoderDecoderTrainer(\n",
        "    os.path.join(DIRECTORY_NAME, \"rnn.enc-dec.attn\"),\n",
        "    model, criterion, optimizer\n",
        ")\n",
        "## == END EVALUATION PORTION"
      ]
    },
    {
      "cell_type": "code",
      "execution_count": 42,
      "metadata": {
        "id": "H_oypGhq7S1S"
      },
      "outputs": [
        {
          "name": "stderr",
          "output_type": "stream",
          "text": [
            "Epoch 1 / 1:   7%|▋         | 10/141 [00:06<01:11,  1.83it/s, batch=10, loss=1.18]"
          ]
        },
        {
          "name": "stdout",
          "output_type": "stream",
          "text": [
            "[>] epoch #1, batch # 10: loss: 1.18265414 | val_loss: 1.13654603\n"
          ]
        },
        {
          "name": "stderr",
          "output_type": "stream",
          "text": [
            "Epoch 1 / 1:  14%|█▍        | 20/141 [00:11<01:06,  1.82it/s, batch=20, loss=1.26]"
          ]
        },
        {
          "name": "stdout",
          "output_type": "stream",
          "text": [
            "[>] epoch #1, batch # 20: loss: 1.25626945 | val_loss: 1.06482058\n"
          ]
        },
        {
          "name": "stderr",
          "output_type": "stream",
          "text": [
            "Epoch 1 / 1:  21%|██▏       | 30/141 [00:20<01:05,  1.70it/s, batch=30, loss=0.955]"
          ]
        },
        {
          "name": "stdout",
          "output_type": "stream",
          "text": [
            "[>] epoch #1, batch # 30: loss: 0.95514923 | val_loss: 0.94984289\n"
          ]
        },
        {
          "name": "stderr",
          "output_type": "stream",
          "text": [
            "Epoch 1 / 1:  28%|██▊       | 40/141 [00:27<00:53,  1.90it/s, batch=40, loss=0.905]"
          ]
        },
        {
          "name": "stdout",
          "output_type": "stream",
          "text": [
            "[>] epoch #1, batch # 40: loss: 0.90513772 | val_loss: 0.84313932\n"
          ]
        },
        {
          "name": "stderr",
          "output_type": "stream",
          "text": [
            "Epoch 1 / 1:  35%|███▌      | 50/141 [00:31<00:47,  1.90it/s, batch=50, loss=0.882]"
          ]
        },
        {
          "name": "stdout",
          "output_type": "stream",
          "text": [
            "[>] epoch #1, batch # 50: loss: 0.88210708 | val_loss: 0.75259651\n"
          ]
        },
        {
          "name": "stderr",
          "output_type": "stream",
          "text": [
            "Epoch 1 / 1:  43%|████▎     | 60/141 [00:40<00:44,  1.81it/s, batch=60, loss=0.756]"
          ]
        },
        {
          "name": "stdout",
          "output_type": "stream",
          "text": [
            "[>] epoch #1, batch # 60: loss: 0.75628418 | val_loss: 0.69719849\n"
          ]
        },
        {
          "name": "stderr",
          "output_type": "stream",
          "text": [
            "Epoch 1 / 1:  50%|████▉     | 70/141 [00:47<00:36,  1.93it/s, batch=70, loss=0.689]"
          ]
        },
        {
          "name": "stdout",
          "output_type": "stream",
          "text": [
            "[>] epoch #1, batch # 70: loss: 0.68914855 | val_loss: 0.62192481\n"
          ]
        },
        {
          "name": "stderr",
          "output_type": "stream",
          "text": [
            "Epoch 1 / 1:  57%|█████▋    | 80/141 [00:54<00:34,  1.79it/s, batch=80, loss=0.693]"
          ]
        },
        {
          "name": "stdout",
          "output_type": "stream",
          "text": [
            "[>] epoch #1, batch # 80: loss: 0.69296873 | val_loss: 0.54826316\n"
          ]
        },
        {
          "name": "stderr",
          "output_type": "stream",
          "text": [
            "Epoch 1 / 1:  64%|██████▍   | 90/141 [01:00<00:26,  1.89it/s, batch=90, loss=0.553]"
          ]
        },
        {
          "name": "stdout",
          "output_type": "stream",
          "text": [
            "[>] epoch #1, batch # 90: loss: 0.55260885 | val_loss: 0.50501825\n"
          ]
        },
        {
          "name": "stderr",
          "output_type": "stream",
          "text": [
            "Epoch 1 / 1:  71%|███████   | 100/141 [01:05<00:22,  1.80it/s, batch=100, loss=0.509]"
          ]
        },
        {
          "name": "stdout",
          "output_type": "stream",
          "text": [
            "[>] epoch #1, batch #100: loss: 0.50920194 | val_loss: 0.46700070\n"
          ]
        },
        {
          "name": "stderr",
          "output_type": "stream",
          "text": [
            "Epoch 1 / 1:  78%|███████▊  | 110/141 [01:13<00:16,  1.90it/s, batch=110, loss=0.505]"
          ]
        },
        {
          "name": "stdout",
          "output_type": "stream",
          "text": [
            "[>] epoch #1, batch #110: loss: 0.50510013 | val_loss: 0.43489837\n"
          ]
        },
        {
          "name": "stderr",
          "output_type": "stream",
          "text": [
            "Epoch 1 / 1:  85%|████████▌ | 120/141 [01:18<00:11,  1.86it/s, batch=120, loss=0.586]"
          ]
        },
        {
          "name": "stdout",
          "output_type": "stream",
          "text": [
            "[>] epoch #1, batch #120: loss: 0.58583450 | val_loss: 0.41213553\n"
          ]
        },
        {
          "name": "stderr",
          "output_type": "stream",
          "text": [
            "Epoch 1 / 1:  92%|█████████▏| 130/141 [01:27<00:06,  1.83it/s, batch=130, loss=0.386]"
          ]
        },
        {
          "name": "stdout",
          "output_type": "stream",
          "text": [
            "[>] epoch #1, batch #130: loss: 0.38578808 | val_loss: 0.39562608\n"
          ]
        },
        {
          "name": "stderr",
          "output_type": "stream",
          "text": [
            "Epoch 1 / 1:  99%|█████████▉| 140/141 [01:33<00:00,  1.98it/s, batch=140, loss=0.464]"
          ]
        },
        {
          "name": "stdout",
          "output_type": "stream",
          "text": [
            "[>] epoch #1, batch #140: loss: 0.46424893 | val_loss: 0.38131352\n"
          ]
        },
        {
          "name": "stderr",
          "output_type": "stream",
          "text": [
            "Epoch 1 / 1: 100%|██████████| 141/141 [01:34<00:00,  1.49it/s, batch=141, loss=0.523]\n"
          ]
        }
      ],
      "source": [
        "# Please do not change anything in the following cell.\n",
        "\n",
        "train_dataset      = TokenizerDataset(train_data     , src_tokenizer, tgt_tokenizer, **rnn_enc_dec_attn_data_params)\n",
        "validation_dataset = TokenizerDataset(validation_data, src_tokenizer, tgt_tokenizer, **rnn_enc_dec_attn_data_params)\n",
        "\n",
        "rnn_enc_dec_attn_train_data = dict(\n",
        "    train_dataset=train_dataset,\n",
        "    validation_dataset=validation_dataset,\n",
        "    collate_fn=train_dataset.collate\n",
        ")\n",
        "\n",
        "# Resume training from the last checkpoint, if interrupted midway, otherwise starts from scratch.\n",
        "# trainer.resume()\n",
        "\n",
        "# Train as per specified training parameters.\n",
        "trainer.train(**rnn_enc_dec_attn_train_data, **rnn_enc_dec_attn_training_params)"
      ]
    },
    {
      "cell_type": "code",
      "execution_count": 43,
      "metadata": {
        "id": "bAYwB5i47S1T"
      },
      "outputs": [],
      "source": [
        "# Please do not change anything in the following cell.\n",
        "\n",
        "# Save the final model, with additional metadata.\n",
        "trainer.save(metadata={\n",
        "    'model'   : rnn_enc_dec_attn_params,\n",
        "    'data'    : rnn_enc_dec_attn_data_params,\n",
        "    'training': rnn_enc_dec_attn_training_params\n",
        "})"
      ]
    },
    {
      "cell_type": "markdown",
      "metadata": {
        "id": "0qIb8Qkg7S1T"
      },
      "source": [
        "We can validate the model using a few simple tests as below:"
      ]
    },
    {
      "cell_type": "code",
      "execution_count": 44,
      "metadata": {
        "id": "f1RKp9rM7S1T"
      },
      "outputs": [
        {
          "name": "stdout",
          "output_type": "stream",
          "text": [
            "Name                      : al0k\n",
            "Translation (Expected)    : आलोक\n",
            "Translation (Model)       : अलक\n",
            "\n",
            "Name                      : sufia\n",
            "Translation (Expected)    : सूफिया\n",
            "Translation (Model)       : सुफिफा\n",
            "\n",
            "Name                      : firoz\n",
            "Translation (Expected)    : फिरोज़\n",
            "Translation (Model)       : फिरोजी\n",
            "\n",
            "Name                      : gouri\n",
            "Translation (Expected)    : गौरी\n",
            "Translation (Model)       : गोरी\n",
            "\n",
            "Name                      : chhaya\n",
            "Translation (Expected)    : छाया\n",
            "Translation (Model)       : चाय\n",
            "\n"
          ]
        }
      ],
      "source": [
        "# Please do not change anything in the following cell.\n",
        "for _, row in train_data.sample(n=5, random_state=42).iterrows():\n",
        "    y_pred = rnn_greedy_generate(\n",
        "        model, row['Name'], src_tokenizer, tgt_tokenizer,\n",
        "        max_length = rnn_enc_dec_data_params['tgt_padding']\n",
        "    )\n",
        "\n",
        "    print(\"Name                      :\", row['Name'])\n",
        "    print(\"Translation (Expected)    :\", row['Translation'])\n",
        "    print(\"Translation (Model)       :\", y_pred)\n",
        "\n",
        "    print()"
      ]
    },
    {
      "cell_type": "code",
      "execution_count": 45,
      "metadata": {
        "id": "rt6MLKYX7S1U"
      },
      "outputs": [
        {
          "name": "stdout",
          "output_type": "stream",
          "text": [
            "Name                      : mhosin\n",
            "Translation (Expected)    : मोहसीन\n",
            "Translation (Model)       : मोहसीन\n",
            "\n",
            "Name                      : qadeem\n",
            "Translation (Expected)    : क़दीम\n",
            "Translation (Model)       : केमद\n",
            "\n",
            "Name                      : ashiqu\n",
            "Translation (Expected)    : आशिक़\n",
            "Translation (Model)       : आशि\n",
            "\n",
            "Name                      : midhana\n",
            "Translation (Expected)    : मिधना\n",
            "Translation (Model)       : मिनादा\n",
            "\n",
            "Name                      : divakar\n",
            "Translation (Expected)    : दिवाकर\n",
            "Translation (Model)       : दविका\n",
            "\n"
          ]
        }
      ],
      "source": [
        "# Please do not change anything in the following cell.\n",
        "\n",
        "for _, row in validation_data.sample(n=5, random_state=42).iterrows():\n",
        "    y_pred = rnn_greedy_generate(\n",
        "        model, row['Name'], src_tokenizer, tgt_tokenizer,\n",
        "        max_length = rnn_enc_dec_data_params['tgt_padding']\n",
        "    )\n",
        "\n",
        "    print(\"Name                      :\", row['Name'])\n",
        "    print(\"Translation (Expected)    :\", row['Translation'])\n",
        "    print(\"Translation (Model)       :\", y_pred)\n",
        "\n",
        "    print()"
      ]
    },
    {
      "cell_type": "markdown",
      "metadata": {
        "id": "i8BHmGBR7S1U"
      },
      "source": [
        "It may also be useful to look at attention maps for different examples:"
      ]
    },
    {
      "cell_type": "code",
      "execution_count": 46,
      "metadata": {
        "id": "1KM7dAFi7S1U"
      },
      "outputs": [],
      "source": [
        "# Please do not change anything in the following cell.\n",
        "\n",
        "def visualize_attention(src_glyphs, tgt_glyphs, attention, axes):\n",
        "    axes.matshow(attention.numpy(), cmap='bone')\n",
        "\n",
        "    axes.set_xticks(numpy.arange(len(src_glyphs)), labels=src_glyphs)\n",
        "    axes.set_yticks(numpy.arange(len(tgt_glyphs)), labels=tgt_glyphs)"
      ]
    },
    {
      "cell_type": "code",
      "execution_count": 48,
      "metadata": {
        "id": "OixmEkuF7S1V"
      },
      "outputs": [
        {
          "name": "stderr",
          "output_type": "stream",
          "text": [
            "findfont: Generic family 'sans-serif' not found because none of the following families were found: Source Han Sans TW, sans-serif, Arial Unicode MS\n",
            "findfont: Generic family 'sans-serif' not found because none of the following families were found: Source Han Sans TW, sans-serif, Arial Unicode MS\n",
            "findfont: Generic family 'sans-serif' not found because none of the following families were found: Source Han Sans TW, sans-serif, Arial Unicode MS\n",
            "findfont: Generic family 'sans-serif' not found because none of the following families were found: Source Han Sans TW, sans-serif, Arial Unicode MS\n",
            "findfont: Generic family 'sans-serif' not found because none of the following families were found: Source Han Sans TW, sans-serif, Arial Unicode MS\n",
            "findfont: Generic family 'sans-serif' not found because none of the following families were found: Source Han Sans TW, sans-serif, Arial Unicode MS\n",
            "findfont: Generic family 'sans-serif' not found because none of the following families were found: Source Han Sans TW, sans-serif, Arial Unicode MS\n",
            "findfont: Generic family 'sans-serif' not found because none of the following families were found: Source Han Sans TW, sans-serif, Arial Unicode MS\n",
            "findfont: Generic family 'sans-serif' not found because none of the following families were found: Source Han Sans TW, sans-serif, Arial Unicode MS\n",
            "findfont: Generic family 'sans-serif' not found because none of the following families were found: Source Han Sans TW, sans-serif, Arial Unicode MS\n",
            "findfont: Generic family 'sans-serif' not found because none of the following families were found: Source Han Sans TW, sans-serif, Arial Unicode MS\n",
            "findfont: Generic family 'sans-serif' not found because none of the following families were found: Source Han Sans TW, sans-serif, Arial Unicode MS\n",
            "findfont: Generic family 'sans-serif' not found because none of the following families were found: Source Han Sans TW, sans-serif, Arial Unicode MS\n",
            "findfont: Generic family 'sans-serif' not found because none of the following families were found: Source Han Sans TW, sans-serif, Arial Unicode MS\n",
            "findfont: Generic family 'sans-serif' not found because none of the following families were found: Source Han Sans TW, sans-serif, Arial Unicode MS\n",
            "findfont: Generic family 'sans-serif' not found because none of the following families were found: Source Han Sans TW, sans-serif, Arial Unicode MS\n",
            "findfont: Generic family 'sans-serif' not found because none of the following families were found: Source Han Sans TW, sans-serif, Arial Unicode MS\n",
            "/raid/home/chinmayjain/miniconda3/lib/python3.12/site-packages/IPython/core/events.py:82: UserWarning: Glyph 2325 (\\N{DEVANAGARI LETTER KA}) missing from current font.\n",
            "  func(*args, **kwargs)\n",
            "/raid/home/chinmayjain/miniconda3/lib/python3.12/site-packages/IPython/core/events.py:82: UserWarning: Matplotlib currently does not support Devanagari natively.\n",
            "  func(*args, **kwargs)\n",
            "findfont: Generic family 'sans-serif' not found because none of the following families were found: Source Han Sans TW, sans-serif, Arial Unicode MS\n",
            "/raid/home/chinmayjain/miniconda3/lib/python3.12/site-packages/IPython/core/events.py:82: UserWarning: Glyph 2369 (\\N{DEVANAGARI VOWEL SIGN U}) missing from current font.\n",
            "  func(*args, **kwargs)\n",
            "findfont: Generic family 'sans-serif' not found because none of the following families were found: Source Han Sans TW, sans-serif, Arial Unicode MS\n",
            "/raid/home/chinmayjain/miniconda3/lib/python3.12/site-packages/IPython/core/events.py:82: UserWarning: Glyph 2360 (\\N{DEVANAGARI LETTER SA}) missing from current font.\n",
            "  func(*args, **kwargs)\n",
            "findfont: Generic family 'sans-serif' not found because none of the following families were found: Source Han Sans TW, sans-serif, Arial Unicode MS\n",
            "/raid/home/chinmayjain/miniconda3/lib/python3.12/site-packages/IPython/core/events.py:82: UserWarning: Glyph 2381 (\\N{DEVANAGARI SIGN VIRAMA}) missing from current font.\n",
            "  func(*args, **kwargs)\n",
            "findfont: Generic family 'sans-serif' not found because none of the following families were found: Source Han Sans TW, sans-serif, Arial Unicode MS\n",
            "/raid/home/chinmayjain/miniconda3/lib/python3.12/site-packages/IPython/core/events.py:82: UserWarning: Glyph 2350 (\\N{DEVANAGARI LETTER MA}) missing from current font.\n",
            "  func(*args, **kwargs)\n",
            "findfont: Generic family 'sans-serif' not found because none of the following families were found: Source Han Sans TW, sans-serif, Arial Unicode MS\n",
            "/raid/home/chinmayjain/miniconda3/lib/python3.12/site-packages/IPython/core/events.py:82: UserWarning: Glyph 2366 (\\N{DEVANAGARI VOWEL SIGN AA}) missing from current font.\n",
            "  func(*args, **kwargs)\n",
            "findfont: Generic family 'sans-serif' not found because none of the following families were found: Source Han Sans TW, sans-serif, Arial Unicode MS\n",
            "findfont: Generic family 'sans-serif' not found because none of the following families were found: Source Han Sans TW, sans-serif, Arial Unicode MS\n",
            "findfont: Generic family 'sans-serif' not found because none of the following families were found: Source Han Sans TW, sans-serif, Arial Unicode MS\n",
            "findfont: Generic family 'sans-serif' not found because none of the following families were found: Source Han Sans TW, sans-serif, Arial Unicode MS\n",
            "findfont: Generic family 'sans-serif' not found because none of the following families were found: Source Han Sans TW, sans-serif, Arial Unicode MS\n",
            "findfont: Generic family 'sans-serif' not found because none of the following families were found: Source Han Sans TW, sans-serif, Arial Unicode MS\n",
            "findfont: Generic family 'sans-serif' not found because none of the following families were found: Source Han Sans TW, sans-serif, Arial Unicode MS\n",
            "findfont: Generic family 'sans-serif' not found because none of the following families were found: Source Han Sans TW, sans-serif, Arial Unicode MS\n",
            "findfont: Generic family 'sans-serif' not found because none of the following families were found: Source Han Sans TW, sans-serif, Arial Unicode MS\n",
            "findfont: Generic family 'sans-serif' not found because none of the following families were found: Source Han Sans TW, sans-serif, Arial Unicode MS\n",
            "findfont: Generic family 'sans-serif' not found because none of the following families were found: Source Han Sans TW, sans-serif, Arial Unicode MS\n",
            "findfont: Generic family 'sans-serif' not found because none of the following families were found: Source Han Sans TW, sans-serif, Arial Unicode MS\n",
            "findfont: Generic family 'sans-serif' not found because none of the following families were found: Source Han Sans TW, sans-serif, Arial Unicode MS\n",
            "findfont: Generic family 'sans-serif' not found because none of the following families were found: Source Han Sans TW, sans-serif, Arial Unicode MS\n",
            "findfont: Generic family 'sans-serif' not found because none of the following families were found: Source Han Sans TW, sans-serif, Arial Unicode MS\n",
            "findfont: Generic family 'sans-serif' not found because none of the following families were found: Source Han Sans TW, sans-serif, Arial Unicode MS\n",
            "findfont: Generic family 'sans-serif' not found because none of the following families were found: Source Han Sans TW, sans-serif, Arial Unicode MS\n",
            "findfont: Generic family 'sans-serif' not found because none of the following families were found: Source Han Sans TW, sans-serif, Arial Unicode MS\n",
            "findfont: Generic family 'sans-serif' not found because none of the following families were found: Source Han Sans TW, sans-serif, Arial Unicode MS\n",
            "findfont: Generic family 'sans-serif' not found because none of the following families were found: Source Han Sans TW, sans-serif, Arial Unicode MS\n",
            "findfont: Generic family 'sans-serif' not found because none of the following families were found: Source Han Sans TW, sans-serif, Arial Unicode MS\n",
            "/raid/home/chinmayjain/miniconda3/lib/python3.12/site-packages/IPython/core/events.py:82: UserWarning: Glyph 2310 (\\N{DEVANAGARI LETTER AA}) missing from current font.\n",
            "  func(*args, **kwargs)\n",
            "findfont: Generic family 'sans-serif' not found because none of the following families were found: Source Han Sans TW, sans-serif, Arial Unicode MS\n",
            "/raid/home/chinmayjain/miniconda3/lib/python3.12/site-packages/IPython/core/events.py:82: UserWarning: Glyph 2342 (\\N{DEVANAGARI LETTER DA}) missing from current font.\n",
            "  func(*args, **kwargs)\n",
            "findfont: Generic family 'sans-serif' not found because none of the following families were found: Source Han Sans TW, sans-serif, Arial Unicode MS\n",
            "/raid/home/chinmayjain/miniconda3/lib/python3.12/site-packages/IPython/core/events.py:82: UserWarning: Glyph 2352 (\\N{DEVANAGARI LETTER RA}) missing from current font.\n",
            "  func(*args, **kwargs)\n",
            "findfont: Generic family 'sans-serif' not found because none of the following families were found: Source Han Sans TW, sans-serif, Arial Unicode MS\n",
            "/raid/home/chinmayjain/miniconda3/lib/python3.12/site-packages/IPython/core/events.py:82: UserWarning: Glyph 2368 (\\N{DEVANAGARI VOWEL SIGN II}) missing from current font.\n",
            "  func(*args, **kwargs)\n",
            "findfont: Generic family 'sans-serif' not found because none of the following families were found: Source Han Sans TW, sans-serif, Arial Unicode MS\n",
            "findfont: Generic family 'sans-serif' not found because none of the following families were found: Source Han Sans TW, sans-serif, Arial Unicode MS\n",
            "findfont: Generic family 'sans-serif' not found because none of the following families were found: Source Han Sans TW, sans-serif, Arial Unicode MS\n",
            "findfont: Generic family 'sans-serif' not found because none of the following families were found: Source Han Sans TW, sans-serif, Arial Unicode MS\n",
            "findfont: Generic family 'sans-serif' not found because none of the following families were found: Source Han Sans TW, sans-serif, Arial Unicode MS\n",
            "findfont: Generic family 'sans-serif' not found because none of the following families were found: Source Han Sans TW, sans-serif, Arial Unicode MS\n",
            "findfont: Generic family 'sans-serif' not found because none of the following families were found: Source Han Sans TW, sans-serif, Arial Unicode MS\n",
            "findfont: Generic family 'sans-serif' not found because none of the following families were found: Source Han Sans TW, sans-serif, Arial Unicode MS\n",
            "findfont: Generic family 'sans-serif' not found because none of the following families were found: Source Han Sans TW, sans-serif, Arial Unicode MS\n",
            "findfont: Generic family 'sans-serif' not found because none of the following families were found: Source Han Sans TW, sans-serif, Arial Unicode MS\n",
            "findfont: Generic family 'sans-serif' not found because none of the following families were found: Source Han Sans TW, sans-serif, Arial Unicode MS\n",
            "findfont: Generic family 'sans-serif' not found because none of the following families were found: Source Han Sans TW, sans-serif, Arial Unicode MS\n",
            "findfont: Generic family 'sans-serif' not found because none of the following families were found: Source Han Sans TW, sans-serif, Arial Unicode MS\n",
            "findfont: Generic family 'sans-serif' not found because none of the following families were found: Source Han Sans TW, sans-serif, Arial Unicode MS\n",
            "findfont: Generic family 'sans-serif' not found because none of the following families were found: Source Han Sans TW, sans-serif, Arial Unicode MS\n",
            "/raid/home/chinmayjain/miniconda3/lib/python3.12/site-packages/IPython/core/events.py:82: UserWarning: Glyph 2346 (\\N{DEVANAGARI LETTER PA}) missing from current font.\n",
            "  func(*args, **kwargs)\n",
            "findfont: Generic family 'sans-serif' not found because none of the following families were found: Source Han Sans TW, sans-serif, Arial Unicode MS\n",
            "findfont: Generic family 'sans-serif' not found because none of the following families were found: Source Han Sans TW, sans-serif, Arial Unicode MS\n",
            "findfont: Generic family 'sans-serif' not found because none of the following families were found: Source Han Sans TW, sans-serif, Arial Unicode MS\n",
            "findfont: Generic family 'sans-serif' not found because none of the following families were found: Source Han Sans TW, sans-serif, Arial Unicode MS\n",
            "findfont: Generic family 'sans-serif' not found because none of the following families were found: Source Han Sans TW, sans-serif, Arial Unicode MS\n",
            "findfont: Generic family 'sans-serif' not found because none of the following families were found: Source Han Sans TW, sans-serif, Arial Unicode MS\n",
            "findfont: Generic family 'sans-serif' not found because none of the following families were found: Source Han Sans TW, sans-serif, Arial Unicode MS\n",
            "findfont: Generic family 'sans-serif' not found because none of the following families were found: Source Han Sans TW, sans-serif, Arial Unicode MS\n",
            "findfont: Generic family 'sans-serif' not found because none of the following families were found: Source Han Sans TW, sans-serif, Arial Unicode MS\n",
            "findfont: Generic family 'sans-serif' not found because none of the following families were found: Source Han Sans TW, sans-serif, Arial Unicode MS\n",
            "findfont: Generic family 'sans-serif' not found because none of the following families were found: Source Han Sans TW, sans-serif, Arial Unicode MS\n",
            "findfont: Generic family 'sans-serif' not found because none of the following families were found: Source Han Sans TW, sans-serif, Arial Unicode MS\n",
            "findfont: Generic family 'sans-serif' not found because none of the following families were found: Source Han Sans TW, sans-serif, Arial Unicode MS\n",
            "findfont: Generic family 'sans-serif' not found because none of the following families were found: Source Han Sans TW, sans-serif, Arial Unicode MS\n",
            "findfont: Generic family 'sans-serif' not found because none of the following families were found: Source Han Sans TW, sans-serif, Arial Unicode MS\n",
            "findfont: Generic family 'sans-serif' not found because none of the following families were found: Source Han Sans TW, sans-serif, Arial Unicode MS\n",
            "/raid/home/chinmayjain/miniconda3/lib/python3.12/site-packages/IPython/core/events.py:82: UserWarning: Glyph 2358 (\\N{DEVANAGARI LETTER SHA}) missing from current font.\n",
            "  func(*args, **kwargs)\n",
            "findfont: Generic family 'sans-serif' not found because none of the following families were found: Source Han Sans TW, sans-serif, Arial Unicode MS\n",
            "findfont: Generic family 'sans-serif' not found because none of the following families were found: Source Han Sans TW, sans-serif, Arial Unicode MS\n",
            "findfont: Generic family 'sans-serif' not found because none of the following families were found: Source Han Sans TW, sans-serif, Arial Unicode MS\n",
            "findfont: Generic family 'sans-serif' not found because none of the following families were found: Source Han Sans TW, sans-serif, Arial Unicode MS\n",
            "findfont: Generic family 'sans-serif' not found because none of the following families were found: Source Han Sans TW, sans-serif, Arial Unicode MS\n",
            "findfont: Generic family 'sans-serif' not found because none of the following families were found: Source Han Sans TW, sans-serif, Arial Unicode MS\n",
            "findfont: Generic family 'sans-serif' not found because none of the following families were found: Source Han Sans TW, sans-serif, Arial Unicode MS\n",
            "findfont: Generic family 'sans-serif' not found because none of the following families were found: Source Han Sans TW, sans-serif, Arial Unicode MS\n",
            "findfont: Generic family 'sans-serif' not found because none of the following families were found: Source Han Sans TW, sans-serif, Arial Unicode MS\n",
            "findfont: Generic family 'sans-serif' not found because none of the following families were found: Source Han Sans TW, sans-serif, Arial Unicode MS\n",
            "findfont: Generic family 'sans-serif' not found because none of the following families were found: Source Han Sans TW, sans-serif, Arial Unicode MS\n",
            "findfont: Generic family 'sans-serif' not found because none of the following families were found: Source Han Sans TW, sans-serif, Arial Unicode MS\n",
            "findfont: Generic family 'sans-serif' not found because none of the following families were found: Source Han Sans TW, sans-serif, Arial Unicode MS\n",
            "findfont: Generic family 'sans-serif' not found because none of the following families were found: Source Han Sans TW, sans-serif, Arial Unicode MS\n",
            "findfont: Generic family 'sans-serif' not found because none of the following families were found: Source Han Sans TW, sans-serif, Arial Unicode MS\n",
            "findfont: Generic family 'sans-serif' not found because none of the following families were found: Source Han Sans TW, sans-serif, Arial Unicode MS\n",
            "findfont: Generic family 'sans-serif' not found because none of the following families were found: Source Han Sans TW, sans-serif, Arial Unicode MS\n",
            "findfont: Generic family 'sans-serif' not found because none of the following families were found: Source Han Sans TW, sans-serif, Arial Unicode MS\n",
            "findfont: Generic family 'sans-serif' not found because none of the following families were found: Source Han Sans TW, sans-serif, Arial Unicode MS\n",
            "findfont: Generic family 'sans-serif' not found because none of the following families were found: Source Han Sans TW, sans-serif, Arial Unicode MS\n",
            "findfont: Generic family 'sans-serif' not found because none of the following families were found: Source Han Sans TW, sans-serif, Arial Unicode MS\n",
            "findfont: Generic family 'sans-serif' not found because none of the following families were found: Source Han Sans TW, sans-serif, Arial Unicode MS\n",
            "/raid/home/chinmayjain/miniconda3/lib/python3.12/site-packages/IPython/core/pylabtools.py:152: UserWarning: Glyph 2325 (\\N{DEVANAGARI LETTER KA}) missing from current font.\n",
            "  fig.canvas.print_figure(bytes_io, **kw)\n",
            "/raid/home/chinmayjain/miniconda3/lib/python3.12/site-packages/IPython/core/pylabtools.py:152: UserWarning: Matplotlib currently does not support Devanagari natively.\n",
            "  fig.canvas.print_figure(bytes_io, **kw)\n",
            "findfont: Generic family 'sans-serif' not found because none of the following families were found: Source Han Sans TW, sans-serif, Arial Unicode MS\n",
            "/raid/home/chinmayjain/miniconda3/lib/python3.12/site-packages/IPython/core/pylabtools.py:152: UserWarning: Glyph 2369 (\\N{DEVANAGARI VOWEL SIGN U}) missing from current font.\n",
            "  fig.canvas.print_figure(bytes_io, **kw)\n",
            "findfont: Generic family 'sans-serif' not found because none of the following families were found: Source Han Sans TW, sans-serif, Arial Unicode MS\n",
            "/raid/home/chinmayjain/miniconda3/lib/python3.12/site-packages/IPython/core/pylabtools.py:152: UserWarning: Glyph 2360 (\\N{DEVANAGARI LETTER SA}) missing from current font.\n",
            "  fig.canvas.print_figure(bytes_io, **kw)\n",
            "findfont: Generic family 'sans-serif' not found because none of the following families were found: Source Han Sans TW, sans-serif, Arial Unicode MS\n",
            "/raid/home/chinmayjain/miniconda3/lib/python3.12/site-packages/IPython/core/pylabtools.py:152: UserWarning: Glyph 2381 (\\N{DEVANAGARI SIGN VIRAMA}) missing from current font.\n",
            "  fig.canvas.print_figure(bytes_io, **kw)\n",
            "findfont: Generic family 'sans-serif' not found because none of the following families were found: Source Han Sans TW, sans-serif, Arial Unicode MS\n",
            "/raid/home/chinmayjain/miniconda3/lib/python3.12/site-packages/IPython/core/pylabtools.py:152: UserWarning: Glyph 2350 (\\N{DEVANAGARI LETTER MA}) missing from current font.\n",
            "  fig.canvas.print_figure(bytes_io, **kw)\n",
            "findfont: Generic family 'sans-serif' not found because none of the following families were found: Source Han Sans TW, sans-serif, Arial Unicode MS\n",
            "/raid/home/chinmayjain/miniconda3/lib/python3.12/site-packages/IPython/core/pylabtools.py:152: UserWarning: Glyph 2366 (\\N{DEVANAGARI VOWEL SIGN AA}) missing from current font.\n",
            "  fig.canvas.print_figure(bytes_io, **kw)\n",
            "findfont: Generic family 'sans-serif' not found because none of the following families were found: Source Han Sans TW, sans-serif, Arial Unicode MS\n",
            "findfont: Generic family 'sans-serif' not found because none of the following families were found: Source Han Sans TW, sans-serif, Arial Unicode MS\n",
            "findfont: Generic family 'sans-serif' not found because none of the following families were found: Source Han Sans TW, sans-serif, Arial Unicode MS\n",
            "findfont: Generic family 'sans-serif' not found because none of the following families were found: Source Han Sans TW, sans-serif, Arial Unicode MS\n",
            "findfont: Generic family 'sans-serif' not found because none of the following families were found: Source Han Sans TW, sans-serif, Arial Unicode MS\n",
            "findfont: Generic family 'sans-serif' not found because none of the following families were found: Source Han Sans TW, sans-serif, Arial Unicode MS\n",
            "findfont: Generic family 'sans-serif' not found because none of the following families were found: Source Han Sans TW, sans-serif, Arial Unicode MS\n",
            "findfont: Generic family 'sans-serif' not found because none of the following families were found: Source Han Sans TW, sans-serif, Arial Unicode MS\n",
            "findfont: Generic family 'sans-serif' not found because none of the following families were found: Source Han Sans TW, sans-serif, Arial Unicode MS\n",
            "findfont: Generic family 'sans-serif' not found because none of the following families were found: Source Han Sans TW, sans-serif, Arial Unicode MS\n",
            "findfont: Generic family 'sans-serif' not found because none of the following families were found: Source Han Sans TW, sans-serif, Arial Unicode MS\n",
            "findfont: Generic family 'sans-serif' not found because none of the following families were found: Source Han Sans TW, sans-serif, Arial Unicode MS\n",
            "findfont: Generic family 'sans-serif' not found because none of the following families were found: Source Han Sans TW, sans-serif, Arial Unicode MS\n",
            "findfont: Generic family 'sans-serif' not found because none of the following families were found: Source Han Sans TW, sans-serif, Arial Unicode MS\n",
            "findfont: Generic family 'sans-serif' not found because none of the following families were found: Source Han Sans TW, sans-serif, Arial Unicode MS\n",
            "findfont: Generic family 'sans-serif' not found because none of the following families were found: Source Han Sans TW, sans-serif, Arial Unicode MS\n",
            "findfont: Generic family 'sans-serif' not found because none of the following families were found: Source Han Sans TW, sans-serif, Arial Unicode MS\n",
            "findfont: Generic family 'sans-serif' not found because none of the following families were found: Source Han Sans TW, sans-serif, Arial Unicode MS\n",
            "findfont: Generic family 'sans-serif' not found because none of the following families were found: Source Han Sans TW, sans-serif, Arial Unicode MS\n",
            "findfont: Generic family 'sans-serif' not found because none of the following families were found: Source Han Sans TW, sans-serif, Arial Unicode MS\n",
            "findfont: Generic family 'sans-serif' not found because none of the following families were found: Source Han Sans TW, sans-serif, Arial Unicode MS\n",
            "/raid/home/chinmayjain/miniconda3/lib/python3.12/site-packages/IPython/core/pylabtools.py:152: UserWarning: Glyph 2310 (\\N{DEVANAGARI LETTER AA}) missing from current font.\n",
            "  fig.canvas.print_figure(bytes_io, **kw)\n",
            "findfont: Generic family 'sans-serif' not found because none of the following families were found: Source Han Sans TW, sans-serif, Arial Unicode MS\n",
            "/raid/home/chinmayjain/miniconda3/lib/python3.12/site-packages/IPython/core/pylabtools.py:152: UserWarning: Glyph 2342 (\\N{DEVANAGARI LETTER DA}) missing from current font.\n",
            "  fig.canvas.print_figure(bytes_io, **kw)\n",
            "findfont: Generic family 'sans-serif' not found because none of the following families were found: Source Han Sans TW, sans-serif, Arial Unicode MS\n",
            "/raid/home/chinmayjain/miniconda3/lib/python3.12/site-packages/IPython/core/pylabtools.py:152: UserWarning: Glyph 2352 (\\N{DEVANAGARI LETTER RA}) missing from current font.\n",
            "  fig.canvas.print_figure(bytes_io, **kw)\n",
            "findfont: Generic family 'sans-serif' not found because none of the following families were found: Source Han Sans TW, sans-serif, Arial Unicode MS\n",
            "/raid/home/chinmayjain/miniconda3/lib/python3.12/site-packages/IPython/core/pylabtools.py:152: UserWarning: Glyph 2368 (\\N{DEVANAGARI VOWEL SIGN II}) missing from current font.\n",
            "  fig.canvas.print_figure(bytes_io, **kw)\n",
            "findfont: Generic family 'sans-serif' not found because none of the following families were found: Source Han Sans TW, sans-serif, Arial Unicode MS\n",
            "findfont: Generic family 'sans-serif' not found because none of the following families were found: Source Han Sans TW, sans-serif, Arial Unicode MS\n",
            "findfont: Generic family 'sans-serif' not found because none of the following families were found: Source Han Sans TW, sans-serif, Arial Unicode MS\n",
            "findfont: Generic family 'sans-serif' not found because none of the following families were found: Source Han Sans TW, sans-serif, Arial Unicode MS\n",
            "findfont: Generic family 'sans-serif' not found because none of the following families were found: Source Han Sans TW, sans-serif, Arial Unicode MS\n",
            "findfont: Generic family 'sans-serif' not found because none of the following families were found: Source Han Sans TW, sans-serif, Arial Unicode MS\n",
            "findfont: Generic family 'sans-serif' not found because none of the following families were found: Source Han Sans TW, sans-serif, Arial Unicode MS\n",
            "findfont: Generic family 'sans-serif' not found because none of the following families were found: Source Han Sans TW, sans-serif, Arial Unicode MS\n",
            "findfont: Generic family 'sans-serif' not found because none of the following families were found: Source Han Sans TW, sans-serif, Arial Unicode MS\n",
            "findfont: Generic family 'sans-serif' not found because none of the following families were found: Source Han Sans TW, sans-serif, Arial Unicode MS\n",
            "findfont: Generic family 'sans-serif' not found because none of the following families were found: Source Han Sans TW, sans-serif, Arial Unicode MS\n",
            "findfont: Generic family 'sans-serif' not found because none of the following families were found: Source Han Sans TW, sans-serif, Arial Unicode MS\n",
            "findfont: Generic family 'sans-serif' not found because none of the following families were found: Source Han Sans TW, sans-serif, Arial Unicode MS\n",
            "findfont: Generic family 'sans-serif' not found because none of the following families were found: Source Han Sans TW, sans-serif, Arial Unicode MS\n",
            "findfont: Generic family 'sans-serif' not found because none of the following families were found: Source Han Sans TW, sans-serif, Arial Unicode MS\n",
            "/raid/home/chinmayjain/miniconda3/lib/python3.12/site-packages/IPython/core/pylabtools.py:152: UserWarning: Glyph 2346 (\\N{DEVANAGARI LETTER PA}) missing from current font.\n",
            "  fig.canvas.print_figure(bytes_io, **kw)\n",
            "findfont: Generic family 'sans-serif' not found because none of the following families were found: Source Han Sans TW, sans-serif, Arial Unicode MS\n",
            "findfont: Generic family 'sans-serif' not found because none of the following families were found: Source Han Sans TW, sans-serif, Arial Unicode MS\n",
            "findfont: Generic family 'sans-serif' not found because none of the following families were found: Source Han Sans TW, sans-serif, Arial Unicode MS\n",
            "findfont: Generic family 'sans-serif' not found because none of the following families were found: Source Han Sans TW, sans-serif, Arial Unicode MS\n",
            "findfont: Generic family 'sans-serif' not found because none of the following families were found: Source Han Sans TW, sans-serif, Arial Unicode MS\n",
            "findfont: Generic family 'sans-serif' not found because none of the following families were found: Source Han Sans TW, sans-serif, Arial Unicode MS\n",
            "findfont: Generic family 'sans-serif' not found because none of the following families were found: Source Han Sans TW, sans-serif, Arial Unicode MS\n",
            "findfont: Generic family 'sans-serif' not found because none of the following families were found: Source Han Sans TW, sans-serif, Arial Unicode MS\n",
            "findfont: Generic family 'sans-serif' not found because none of the following families were found: Source Han Sans TW, sans-serif, Arial Unicode MS\n",
            "findfont: Generic family 'sans-serif' not found because none of the following families were found: Source Han Sans TW, sans-serif, Arial Unicode MS\n",
            "findfont: Generic family 'sans-serif' not found because none of the following families were found: Source Han Sans TW, sans-serif, Arial Unicode MS\n",
            "findfont: Generic family 'sans-serif' not found because none of the following families were found: Source Han Sans TW, sans-serif, Arial Unicode MS\n",
            "findfont: Generic family 'sans-serif' not found because none of the following families were found: Source Han Sans TW, sans-serif, Arial Unicode MS\n",
            "findfont: Generic family 'sans-serif' not found because none of the following families were found: Source Han Sans TW, sans-serif, Arial Unicode MS\n",
            "findfont: Generic family 'sans-serif' not found because none of the following families were found: Source Han Sans TW, sans-serif, Arial Unicode MS\n",
            "findfont: Generic family 'sans-serif' not found because none of the following families were found: Source Han Sans TW, sans-serif, Arial Unicode MS\n",
            "/raid/home/chinmayjain/miniconda3/lib/python3.12/site-packages/IPython/core/pylabtools.py:152: UserWarning: Glyph 2358 (\\N{DEVANAGARI LETTER SHA}) missing from current font.\n",
            "  fig.canvas.print_figure(bytes_io, **kw)\n",
            "findfont: Generic family 'sans-serif' not found because none of the following families were found: Source Han Sans TW, sans-serif, Arial Unicode MS\n",
            "findfont: Generic family 'sans-serif' not found because none of the following families were found: Source Han Sans TW, sans-serif, Arial Unicode MS\n",
            "findfont: Generic family 'sans-serif' not found because none of the following families were found: Source Han Sans TW, sans-serif, Arial Unicode MS\n",
            "findfont: Generic family 'sans-serif' not found because none of the following families were found: Source Han Sans TW, sans-serif, Arial Unicode MS\n",
            "findfont: Generic family 'sans-serif' not found because none of the following families were found: Source Han Sans TW, sans-serif, Arial Unicode MS\n"
          ]
        },
        {
          "data": {
            "image/png": "[encoded data removed]",
            "text/plain": [
              "<Figure size 1200x1000 with 4 Axes>"
            ]
          },
          "metadata": {},
          "output_type": "display_data"
        }
      ],
      "source": [
        "# Please do not change anything in the following cell.\n",
        "\n",
        "pyplot.figure(figsize=(12, 10))\n",
        "\n",
        "src_id_to_token = inverse_vocabulary(src_tokenizer)\n",
        "tgt_id_to_token = inverse_vocabulary(tgt_tokenizer)\n",
        "\n",
        "with torch.no_grad():\n",
        "    for i, row in train_data.sample(n=4, random_state=69, ignore_index=True).iterrows():\n",
        "        src_tokens = torch.tensor(src_tokenizer.encode(row['Name']))\n",
        "        attentions, tgt_tokens = model.attentions(src_tokens, tgt_tokenizer.get_special_tokens()['<END>'], max_length=50)\n",
        "        src_glyphs = apply_inverse_vocab(src_tokens.tolist(), src_id_to_token)\n",
        "        tgt_glyphs = apply_inverse_vocab(tgt_tokens.tolist(), tgt_id_to_token)\n",
        "        axes = pyplot.subplot(2, 2, i+1)\n",
        "        visualize_attention(src_glyphs, tgt_glyphs, attentions, axes)"
      ]
    },
    {
      "cell_type": "code",
      "execution_count": 49,
      "metadata": {
        "id": "qE1PU0k9s8Ds"
      },
      "outputs": [],
      "source": [
        "# Please do not change anything in the following cell.\n",
        "\n",
        "output_data = []\n",
        "for _, row in validation_data.iterrows():\n",
        "    y_pred = rnn_greedy_generate(\n",
        "        model, row['Name'], src_tokenizer, tgt_tokenizer,\n",
        "        max_length = rnn_enc_dec_data_params['tgt_padding']\n",
        "    )\n",
        "    output_data.append({ 'Name': row['Name'], 'Translation': y_pred })\n",
        "\n",
        "pd.DataFrame.from_records(output_data).to_csv(\n",
        "    os.path.join(DIRECTORY_NAME, \"rnn.enc-dec.attn\", \"outputs.csv\"), index=False\n",
        ")"
      ]
    },
    {
      "cell_type": "code",
      "execution_count": 50,
      "metadata": {
        "id": "aQ7Qndm47S1V"
      },
      "outputs": [],
      "source": [
        "# Please do not change anything in the following cell.\n",
        "\n",
        "# Release resources\n",
        "if 'trainer' in globals():\n",
        "    del trainer\n",
        "\n",
        "if 'model' in globals():\n",
        "    del model\n",
        "\n",
        "sync_vram()"
      ]
    },
    {
      "cell_type": "markdown",
      "metadata": {
        "id": "998loM887S1W"
      },
      "source": [
        "## Evaluation"
      ]
    },
    {
      "cell_type": "markdown",
      "metadata": {
        "id": "_tm4zQ637S1W"
      },
      "source": [
        "In the last few modules, you have implemented different approaches towards transliteration of Indian names to Hindi. To assess how well different systems perform, it is useful to compute different metrics, which assess different properties:\n",
        "\n",
        "- **Accuracy**: From a parallel corpus, number of translations the model got exactly right. Higher the better. Note that this makes sense only for this task. and lacks granularity.\n",
        "- **Edit Distance**: Number of edits at the character level (insertions, deletions, substitutions) required to transform your model's outputs to a reference translation. Lower the better.\n",
        "- **Character Error Rate (CER)**: The rate at which your system/model makes mistakes at the character level. Lower the better.\n",
        "- **Token Error Rate (TER)**: The rate at which your system/model makes mistakes at the token level. Lower the better. Depending on your tokenizer implementation, could be the same as CER.\n",
        "- **BiLingual Evaluation Understudy (BLEU)**: Proposed by [Papineni et al., 2002](https://aclanthology.org/P02-1040/), BLEU is a metric that assess the quality of a translation against reference translations through assessing n-gram overlap. Higher the better.\n",
        "\n",
        "Since accents and half-letters exist as separate characters in the Unicode specification, and can change the interpretation of the output, metrics that operate at the character level will treat these separately."
      ]
    },
    {
      "cell_type": "code",
      "execution_count": 51,
      "metadata": {
        "id": "4V2mXdKh7S1W"
      },
      "outputs": [],
      "source": [
        "# Please do not change anything in the following cell.\n",
        "\n",
        "class Evaluator:\n",
        "    \"\"\" Class to handle all the logic concerning the evaluation of trained models.  \"\"\"\n",
        "\n",
        "    def __init__(self, src_tokenizer, tgt_tokenizer) -> None:\n",
        "        \"\"\" Initializes the evaluator.\n",
        "\n",
        "        Args:\n",
        "            src_tokenizer (Tokenizer): Tokenizer for input strings in the source language.\n",
        "            tgt_tokenizer (Tokenizer): Tokenizer for output strings in the target language.\n",
        "        \"\"\"\n",
        "\n",
        "        self.device = 'cuda' if torch.cuda.is_available() else 'cpu'\n",
        "        self.src_tokenizer = src_tokenizer\n",
        "        self.tgt_tokenizer = tgt_tokenizer\n",
        "        self.decoding_method = None\n",
        "\n",
        "    def set_decoding_method(self, decoding_method):\n",
        "        \"\"\" Sets the decoding method to use with models.\n",
        "                The evaluation function will use the set decoding method to generate outputs from the model.\n",
        "\n",
        "        Args:\n",
        "            decoding_method (function): Decoding method.\n",
        "                Must accept the model instance, the input string, and tokenizers as arguments.\n",
        "                Can accept additional arguments if required.\n",
        "        \"\"\"\n",
        "\n",
        "        self.decoding_method = decoding_method\n",
        "\n",
        "    @staticmethod\n",
        "    def decompose(string):\n",
        "        \"\"\" Decomposes a string into a set of tokens.\n",
        "\n",
        "        Args:\n",
        "            string (str): String to decompose.\n",
        "\n",
        "        Returns:\n",
        "            list[str]: List of characters from the string.\n",
        "        \"\"\"\n",
        "        return unicodedata.normalize('NFKD', string).encode('utf-8')\n",
        "\n",
        "    @staticmethod\n",
        "    def levenshtein_distance(string1, string2):\n",
        "        \"\"\" Computes the levensthein distance between two strings.\n",
        "\n",
        "        Args:\n",
        "            string1 (list[any]): Sequence A.\n",
        "            string2 (list[any]): Sequence B.\n",
        "\n",
        "        Returns:\n",
        "            tuple[int, int, int]: Number of insertions + deletions, substitutions and no-ops.\n",
        "        \"\"\"\n",
        "\n",
        "        costs = [\n",
        "            [ 0 for j in range(len(string2)+1) ]\n",
        "            for i in range(len(string1)+1)\n",
        "        ]\n",
        "\n",
        "        # Prepare matrix of costs.\n",
        "        for i in range(len(string1)+1): costs[i][0] = i\n",
        "        for j in range(len(string2)+1): costs[0][j] = j\n",
        "        for i in range(1, len(string1)+1):\n",
        "            for j in range(1, len(string2)+1):\n",
        "                costs[i][j] = min(\n",
        "                    costs[i][j-1] + 1,\n",
        "                    costs[i-1][j] + 1,\n",
        "                    costs[i-1][j-1] + (0 if string1[i-1] == string2[j-1] else 1)\n",
        "                )\n",
        "\n",
        "        # Decode matrix in backward manner for actual operation counts.\n",
        "        c_ins_del, c_sub, c_noop = 0, 0, 0\n",
        "\n",
        "        i, j = len(string1), len(string2)\n",
        "        while i > 0 or j > 0:\n",
        "            if i > 0 and costs[i][j] == costs[i-1][j] + 1:\n",
        "                c_ins_del += 1\n",
        "                i -= 1\n",
        "            elif j > 0 and costs[i][j] == costs[i][j-1] + 1:\n",
        "                c_ins_del += 1\n",
        "                j -= 1\n",
        "            elif i > 0 and j > 0:\n",
        "                if string1[i-1] == string2[j-1]:\n",
        "                    c_noop += 1\n",
        "                else:\n",
        "                    c_sub += 1\n",
        "                i, j = i-1, j-1\n",
        "            else:\n",
        "                break\n",
        "\n",
        "        return c_ins_del, c_sub, c_noop\n",
        "\n",
        "    @staticmethod\n",
        "    def accuracy(y_true, y_pred):\n",
        "        \"\"\" Computes the accuracy of the predictions, against a reference set of predictions.\n",
        "\n",
        "        Args:\n",
        "            y_true (list[str]): Actual translations.\n",
        "            y_pred (list[str]): Generated translations.\n",
        "\n",
        "        Returns:\n",
        "            float: Accuracy score, between 0 and 1.\n",
        "        \"\"\"\n",
        "        return sum(yi_true == yi_pred for yi_true, yi_pred in zip(y_true, y_pred)) / len(y_pred)\n",
        "\n",
        "    @classmethod\n",
        "    def char_error_rate(cls, y_true, y_pred):\n",
        "        \"\"\" Computes the character level error rate (CER) of the set of\n",
        "            predictions against the reference translations.\n",
        "\n",
        "        Args:\n",
        "            y_true (list[str]): Actual translations.\n",
        "            y_pred (list[str]): Generated translations.\n",
        "\n",
        "        Returns:\n",
        "            float: CER score, between 0 and 1. Lower the better.\n",
        "        \"\"\"\n",
        "\n",
        "        cer_score = 0\n",
        "\n",
        "        for yi_true, yi_pred in zip(y_true, y_pred):\n",
        "            yi_true, yi_pred = cls.decompose(yi_true), cls.decompose(yi_pred)\n",
        "            c_ins_del, c_sub, c_noop = cls.levenshtein_distance(yi_true, yi_pred)\n",
        "            cer_score += (c_ins_del + c_sub) / (c_ins_del + c_sub + c_noop)\n",
        "\n",
        "        return cer_score / len(y_true)\n",
        "\n",
        "    def token_error_rate(self, y_true, y_pred):\n",
        "        \"\"\" Computes the token level error rate (TER) of the set of\n",
        "            predictions against the reference translations.\n",
        "\n",
        "        Args:\n",
        "            y_true (list[str]): Actual translations.\n",
        "            y_pred (list[str]): Generated translations.\n",
        "\n",
        "        Returns:\n",
        "            float: TER score, between 0 and 1. Lower the better.\n",
        "        \"\"\"\n",
        "\n",
        "        ter_score = 0\n",
        "\n",
        "        for yi_true, yi_pred in zip(y_true, y_pred):\n",
        "            yi_true = self.tgt_tokenizer.encode(yi_true, add_start=False, add_end=False)\n",
        "            yi_pred = self.tgt_tokenizer.encode(yi_pred, add_start=False, add_end=False)\n",
        "            t_ins_del, t_sub, t_noop = self.levenshtein_distance(yi_true, yi_pred)\n",
        "            ter_score += (t_ins_del + t_sub) / (t_ins_del + t_sub + t_noop)\n",
        "\n",
        "        return ter_score / len(y_true)\n",
        "\n",
        "    @classmethod\n",
        "    def bleu_score(cls, y_true, y_pred):\n",
        "        \"\"\" Computes the average BLEU score of the set of predictions against the reference translations.\n",
        "\n",
        "            Uses default parameters and equal weights for all n-grams, with max N = 4. (Thus computes BLEU-4).\n",
        "            Uses a smoothing method for the case of missing n-grams.\n",
        "\n",
        "        Args:\n",
        "            y_true (list[str]): Actual translations.\n",
        "            y_pred (list[str]): Generated translations.\n",
        "\n",
        "        Returns:\n",
        "            float: BLEU-4 score, the higher the better.\n",
        "        \"\"\"\n",
        "\n",
        "        y_true = [ [ cls.decompose(yi) ] for yi in y_true ]\n",
        "        y_pred = [ cls.decompose(yi) for yi in y_pred ]\n",
        "\n",
        "        smoothing = bleu_score.SmoothingFunction()\n",
        "\n",
        "        return bleu_score.corpus_bleu(\n",
        "            y_true, y_pred,\n",
        "            smoothing_function=smoothing.method1\n",
        "        )\n",
        "\n",
        "    def evaluate(self, model_path, data, reference_outputs, **decoding_kwargs):\n",
        "        \"\"\" Performs the evaluation of a specified model over given data.\n",
        "\n",
        "        Args:\n",
        "            model_path (str): Path to load the model from. Must have a model.pt file.\n",
        "            data (list[str]): List of input strings to translate.\n",
        "            reference_outputs (list[str]): List of output strings to use as reference.\n",
        "            decoding_kwargs (dict[str, any]): Additional arguments to forward to the decoding method.\n",
        "                This could be for instance, max_length for a greedy decoding method.\n",
        "\n",
        "        Raises:\n",
        "            ValueError: If the decoding method is not set apriori.\n",
        "        \"\"\"\n",
        "\n",
        "        if self.decoding_method is None:\n",
        "            raise ValueError(f\"{self.evaluate.__name__}: no decoding method is set, assign before use.\")\n",
        "\n",
        "        # Load the model to the active device.\n",
        "        model = torch.load(os.path.join(model_path, 'model.pt'), map_location=self.device)\n",
        "\n",
        "        # Set model use parameters.\n",
        "        model.to(self.device)\n",
        "        model.eval()\n",
        "\n",
        "        # Generate outputs.\n",
        "        generated_outputs = []\n",
        "        with torch.no_grad():\n",
        "            for seq_x in data:\n",
        "                generated_outputs.append(self.decoding_method(\n",
        "                    model, seq_x, self.src_tokenizer,\n",
        "                    self.tgt_tokenizer, **decoding_kwargs\n",
        "                ))\n",
        "\n",
        "        accuracy_score = self.accuracy(reference_outputs, generated_outputs)\n",
        "        cer_score      = self.char_error_rate(reference_outputs, generated_outputs)\n",
        "        ter_score      = self.token_error_rate(reference_outputs, generated_outputs)\n",
        "        blue_score     = self.bleu_score(reference_outputs, generated_outputs)\n",
        "\n",
        "        print(\"EVALUATION:\", \">\", \"accuracy:\", f\"{accuracy_score:.2%}\")\n",
        "        print(\"EVALUATION:\", \">\", \"CER     :\", f\"{cer_score:.2%}\")\n",
        "        print(\"EVALUATION:\", \">\", \"TER     :\", f\"{ter_score:.2%}\")\n",
        "        print(\"EVALUATION:\", \">\", \"BLEU    :\", f\"{blue_score:.4f}\")\n",
        "        print()\n",
        "\n",
        "        # Free resources once evaluation is complete.\n",
        "        del model\n",
        "        sync_vram()"
      ]
    },
    {
      "cell_type": "code",
      "execution_count": 52,
      "metadata": {
        "id": "R3DxXlLm7S1X"
      },
      "outputs": [
        {
          "name": "stdout",
          "output_type": "stream",
          "text": [
            "EVALUATION: enc-dec-rnn\n"
          ]
        },
        {
          "ename": "TypeError",
          "evalue": "Fraction.__new__() got an unexpected keyword argument '_normalize'",
          "output_type": "error",
          "traceback": [
            "\u001b[0;31m---------------------------------------------------------------------------\u001b[0m",
            "\u001b[0;31mTypeError\u001b[0m                                 Traceback (most recent call last)",
            "Cell \u001b[0;32mIn[52], line 10\u001b[0m\n\u001b[1;32m      8\u001b[0m \u001b[38;5;66;03m#Evaluate enc-dec-rnn\u001b[39;00m\n\u001b[1;32m      9\u001b[0m \u001b[38;5;28mprint\u001b[39m(\u001b[38;5;124m\"\u001b[39m\u001b[38;5;124mEVALUATION:\u001b[39m\u001b[38;5;124m\"\u001b[39m, \u001b[38;5;124m\"\u001b[39m\u001b[38;5;124menc-dec-rnn\u001b[39m\u001b[38;5;124m\"\u001b[39m)\n\u001b[0;32m---> 10\u001b[0m \u001b[43mevaluator\u001b[49m\u001b[38;5;241;43m.\u001b[39;49m\u001b[43mevaluate\u001b[49m\u001b[43m(\u001b[49m\n\u001b[1;32m     11\u001b[0m \u001b[43m    \u001b[49m\u001b[43mos\u001b[49m\u001b[38;5;241;43m.\u001b[39;49m\u001b[43mpath\u001b[49m\u001b[38;5;241;43m.\u001b[39;49m\u001b[43mjoin\u001b[49m\u001b[43m(\u001b[49m\u001b[43mDIRECTORY_NAME\u001b[49m\u001b[43m,\u001b[49m\u001b[43m \u001b[49m\u001b[38;5;124;43m\"\u001b[39;49m\u001b[38;5;124;43mrnn.enc-dec\u001b[39;49m\u001b[38;5;124;43m\"\u001b[39;49m\u001b[43m)\u001b[49m\u001b[43m,\u001b[49m\n\u001b[1;32m     12\u001b[0m \u001b[43m    \u001b[49m\u001b[43mvalidation_data\u001b[49m\u001b[43m[\u001b[49m\u001b[38;5;124;43m'\u001b[39;49m\u001b[38;5;124;43mName\u001b[39;49m\u001b[38;5;124;43m'\u001b[39;49m\u001b[43m]\u001b[49m\u001b[43m,\u001b[49m\u001b[43m \u001b[49m\u001b[43mvalidation_data\u001b[49m\u001b[43m[\u001b[49m\u001b[38;5;124;43m'\u001b[39;49m\u001b[38;5;124;43mTranslation\u001b[39;49m\u001b[38;5;124;43m'\u001b[39;49m\u001b[43m]\u001b[49m\u001b[43m,\u001b[49m\n\u001b[1;32m     13\u001b[0m \u001b[43m    \u001b[49m\u001b[43mmax_length\u001b[49m\u001b[43m \u001b[49m\u001b[38;5;241;43m=\u001b[39;49m\u001b[43m \u001b[49m\u001b[43mrnn_enc_dec_data_params\u001b[49m\u001b[43m[\u001b[49m\u001b[38;5;124;43m'\u001b[39;49m\u001b[38;5;124;43mtgt_padding\u001b[39;49m\u001b[38;5;124;43m'\u001b[39;49m\u001b[43m]\u001b[49m\n\u001b[1;32m     14\u001b[0m \u001b[43m)\u001b[49m\n\u001b[1;32m     16\u001b[0m \u001b[38;5;66;03m#Evaluate enc-dec-rnn-attn\u001b[39;00m\n\u001b[1;32m     17\u001b[0m \u001b[38;5;28mprint\u001b[39m(\u001b[38;5;124m\"\u001b[39m\u001b[38;5;124mEVALUATION:\u001b[39m\u001b[38;5;124m\"\u001b[39m, \u001b[38;5;124m\"\u001b[39m\u001b[38;5;124menc-dec-rnn-attn\u001b[39m\u001b[38;5;124m\"\u001b[39m)\n",
            "Cell \u001b[0;32mIn[51], line 211\u001b[0m, in \u001b[0;36mEvaluator.evaluate\u001b[0;34m(self, model_path, data, reference_outputs, **decoding_kwargs)\u001b[0m\n\u001b[1;32m    209\u001b[0m cer_score      \u001b[38;5;241m=\u001b[39m \u001b[38;5;28mself\u001b[39m\u001b[38;5;241m.\u001b[39mchar_error_rate(reference_outputs, generated_outputs)\n\u001b[1;32m    210\u001b[0m ter_score      \u001b[38;5;241m=\u001b[39m \u001b[38;5;28mself\u001b[39m\u001b[38;5;241m.\u001b[39mtoken_error_rate(reference_outputs, generated_outputs)\n\u001b[0;32m--> 211\u001b[0m blue_score     \u001b[38;5;241m=\u001b[39m \u001b[38;5;28;43mself\u001b[39;49m\u001b[38;5;241;43m.\u001b[39;49m\u001b[43mbleu_score\u001b[49m\u001b[43m(\u001b[49m\u001b[43mreference_outputs\u001b[49m\u001b[43m,\u001b[49m\u001b[43m \u001b[49m\u001b[43mgenerated_outputs\u001b[49m\u001b[43m)\u001b[49m\n\u001b[1;32m    213\u001b[0m \u001b[38;5;28mprint\u001b[39m(\u001b[38;5;124m\"\u001b[39m\u001b[38;5;124mEVALUATION:\u001b[39m\u001b[38;5;124m\"\u001b[39m, \u001b[38;5;124m\"\u001b[39m\u001b[38;5;124m>\u001b[39m\u001b[38;5;124m\"\u001b[39m, \u001b[38;5;124m\"\u001b[39m\u001b[38;5;124maccuracy:\u001b[39m\u001b[38;5;124m\"\u001b[39m, \u001b[38;5;124mf\u001b[39m\u001b[38;5;124m\"\u001b[39m\u001b[38;5;132;01m{\u001b[39;00maccuracy_score\u001b[38;5;132;01m:\u001b[39;00m\u001b[38;5;124m.2%\u001b[39m\u001b[38;5;132;01m}\u001b[39;00m\u001b[38;5;124m\"\u001b[39m)\n\u001b[1;32m    214\u001b[0m \u001b[38;5;28mprint\u001b[39m(\u001b[38;5;124m\"\u001b[39m\u001b[38;5;124mEVALUATION:\u001b[39m\u001b[38;5;124m\"\u001b[39m, \u001b[38;5;124m\"\u001b[39m\u001b[38;5;124m>\u001b[39m\u001b[38;5;124m\"\u001b[39m, \u001b[38;5;124m\"\u001b[39m\u001b[38;5;124mCER     :\u001b[39m\u001b[38;5;124m\"\u001b[39m, \u001b[38;5;124mf\u001b[39m\u001b[38;5;124m\"\u001b[39m\u001b[38;5;132;01m{\u001b[39;00mcer_score\u001b[38;5;132;01m:\u001b[39;00m\u001b[38;5;124m.2%\u001b[39m\u001b[38;5;132;01m}\u001b[39;00m\u001b[38;5;124m\"\u001b[39m)\n",
            "Cell \u001b[0;32mIn[51], line 170\u001b[0m, in \u001b[0;36mEvaluator.bleu_score\u001b[0;34m(cls, y_true, y_pred)\u001b[0m\n\u001b[1;32m    166\u001b[0m y_pred \u001b[38;5;241m=\u001b[39m [ \u001b[38;5;28mcls\u001b[39m\u001b[38;5;241m.\u001b[39mdecompose(yi) \u001b[38;5;28;01mfor\u001b[39;00m yi \u001b[38;5;129;01min\u001b[39;00m y_pred ]\n\u001b[1;32m    168\u001b[0m smoothing \u001b[38;5;241m=\u001b[39m bleu_score\u001b[38;5;241m.\u001b[39mSmoothingFunction()\n\u001b[0;32m--> 170\u001b[0m \u001b[38;5;28;01mreturn\u001b[39;00m \u001b[43mbleu_score\u001b[49m\u001b[38;5;241;43m.\u001b[39;49m\u001b[43mcorpus_bleu\u001b[49m\u001b[43m(\u001b[49m\n\u001b[1;32m    171\u001b[0m \u001b[43m    \u001b[49m\u001b[43my_true\u001b[49m\u001b[43m,\u001b[49m\u001b[43m \u001b[49m\u001b[43my_pred\u001b[49m\u001b[43m,\u001b[49m\n\u001b[1;32m    172\u001b[0m \u001b[43m    \u001b[49m\u001b[43msmoothing_function\u001b[49m\u001b[38;5;241;43m=\u001b[39;49m\u001b[43msmoothing\u001b[49m\u001b[38;5;241;43m.\u001b[39;49m\u001b[43mmethod1\u001b[49m\n\u001b[1;32m    173\u001b[0m \u001b[43m\u001b[49m\u001b[43m)\u001b[49m\n",
            "File \u001b[0;32m~/miniconda3/lib/python3.12/site-packages/nltk/translate/bleu_score.py:210\u001b[0m, in \u001b[0;36mcorpus_bleu\u001b[0;34m(list_of_references, hypotheses, weights, smoothing_function, auto_reweigh)\u001b[0m\n\u001b[1;32m    206\u001b[0m \u001b[38;5;28;01mfor\u001b[39;00m references, hypothesis \u001b[38;5;129;01min\u001b[39;00m \u001b[38;5;28mzip\u001b[39m(list_of_references, hypotheses):\n\u001b[1;32m    207\u001b[0m     \u001b[38;5;66;03m# For each order of ngram, calculate the numerator and\u001b[39;00m\n\u001b[1;32m    208\u001b[0m     \u001b[38;5;66;03m# denominator for the corpus-level modified precision.\u001b[39;00m\n\u001b[1;32m    209\u001b[0m     \u001b[38;5;28;01mfor\u001b[39;00m i \u001b[38;5;129;01min\u001b[39;00m \u001b[38;5;28mrange\u001b[39m(\u001b[38;5;241m1\u001b[39m, max_weight_length \u001b[38;5;241m+\u001b[39m \u001b[38;5;241m1\u001b[39m):\n\u001b[0;32m--> 210\u001b[0m         p_i \u001b[38;5;241m=\u001b[39m \u001b[43mmodified_precision\u001b[49m\u001b[43m(\u001b[49m\u001b[43mreferences\u001b[49m\u001b[43m,\u001b[49m\u001b[43m \u001b[49m\u001b[43mhypothesis\u001b[49m\u001b[43m,\u001b[49m\u001b[43m \u001b[49m\u001b[43mi\u001b[49m\u001b[43m)\u001b[49m\n\u001b[1;32m    211\u001b[0m         p_numerators[i] \u001b[38;5;241m+\u001b[39m\u001b[38;5;241m=\u001b[39m p_i\u001b[38;5;241m.\u001b[39mnumerator\n\u001b[1;32m    212\u001b[0m         p_denominators[i] \u001b[38;5;241m+\u001b[39m\u001b[38;5;241m=\u001b[39m p_i\u001b[38;5;241m.\u001b[39mdenominator\n",
            "File \u001b[0;32m~/miniconda3/lib/python3.12/site-packages/nltk/translate/bleu_score.py:368\u001b[0m, in \u001b[0;36mmodified_precision\u001b[0;34m(references, hypothesis, n)\u001b[0m\n\u001b[1;32m    364\u001b[0m \u001b[38;5;66;03m# Ensures that denominator is minimum 1 to avoid ZeroDivisionError.\u001b[39;00m\n\u001b[1;32m    365\u001b[0m \u001b[38;5;66;03m# Usually this happens when the ngram order is > len(reference).\u001b[39;00m\n\u001b[1;32m    366\u001b[0m denominator \u001b[38;5;241m=\u001b[39m \u001b[38;5;28mmax\u001b[39m(\u001b[38;5;241m1\u001b[39m, \u001b[38;5;28msum\u001b[39m(counts\u001b[38;5;241m.\u001b[39mvalues()))\n\u001b[0;32m--> 368\u001b[0m \u001b[38;5;28;01mreturn\u001b[39;00m \u001b[43mFraction\u001b[49m\u001b[43m(\u001b[49m\u001b[43mnumerator\u001b[49m\u001b[43m,\u001b[49m\u001b[43m \u001b[49m\u001b[43mdenominator\u001b[49m\u001b[43m,\u001b[49m\u001b[43m \u001b[49m\u001b[43m_normalize\u001b[49m\u001b[38;5;241;43m=\u001b[39;49m\u001b[38;5;28;43;01mFalse\u001b[39;49;00m\u001b[43m)\u001b[49m\n",
            "\u001b[0;31mTypeError\u001b[0m: Fraction.__new__() got an unexpected keyword argument '_normalize'"
          ]
        }
      ],
      "source": [
        "# Please do not change anything in the following cell.\n",
        "\n",
        "evaluator = Evaluator(src_tokenizer, tgt_tokenizer)\n",
        "\n",
        "# Use greedy decoding for producing outputs.\n",
        "evaluator.set_decoding_method(rnn_greedy_generate)\n",
        "\n",
        "#Evaluate enc-dec-rnn\n",
        "print(\"EVALUATION:\", \"enc-dec-rnn\")\n",
        "evaluator.evaluate(\n",
        "    os.path.join(DIRECTORY_NAME, \"rnn.enc-dec\"),\n",
        "    validation_data['Name'], validation_data['Translation'],\n",
        "    max_length = rnn_enc_dec_data_params['tgt_padding']\n",
        ")\n",
        "\n",
        "#Evaluate enc-dec-rnn-attn\n",
        "print(\"EVALUATION:\", \"enc-dec-rnn-attn\")\n",
        "evaluator.evaluate(\n",
        "    os.path.join(DIRECTORY_NAME, \"rnn.enc-dec.attn\"),\n",
        "    validation_data['Name'], validation_data['Translation'],\n",
        "    max_length = rnn_enc_dec_attn_data_params['tgt_padding']\n",
        ")"
      ]
    },
    {
      "cell_type": "markdown",
      "metadata": {
        "id": "jfI3NL8w7S1Y"
      },
      "source": [
        "## (**Bonus**) Decoding Strategies"
      ]
    },
    {
      "cell_type": "markdown",
      "metadata": {
        "id": "scHoXxoi7S1Y"
      },
      "source": [
        "A conditional language model aims to learn $P_\\theta(y | x)$, that is, the probability of the target sequence being $y$ when the input sequence is $x$. This is modeled as $P_{\\theta}(y | x) = \\prod_{i=1}^{|y|} {P_\\theta(y_i | x, y_{1:i-1})}$.\n",
        "\n",
        "For translation, our goal is to find the sequence that maximizes this conditional probability, i.e. $y^* = \\arg \\max_{y} P_\\theta(y | x)$. $y^*$ is then the 'best' translation for the input sequence $x$. However, computing probabilities for all possible $y$ to find the maximizer is intractable. As a result, decoding strategies are employed to produce reasonable approximations of $y^*$.\n",
        "\n",
        "In the last module, you evaluated your models through different metrics, but the approach for generating outputs from the model was fixed to greedy decoding, where at each time step, the token to be produced is determined by $y_{i,greedy} := \\arg \\max_{y_i} P(y_i| x, y_{1:i-1})$. While this approach is fast, $P(y_{greedy}|x)$ may be much less than $P(y^*|x)$. Fortunately, better decoding strategies exist to produce better approximations, however at the cost of higher time complexity. Some of these are:\n",
        "\n",
        "- **Beam-Search Decoding**: At every time step, retains $k$ candidate token generations, which are decoded individually (each path is referred as a beam) to obtain $k$ successors per beam. For the next time step, the best $k$ candidates are retained such that conditional probability of the sequence generated so far is maximized. Has a complexity of $O(kV|y|)$, where $V$ is the size of the target vocabulary, and $|y|$ is the target sequence length. Using $k=1$ makes it equivalent to greedy decoding. Implementations also employ length penalties to not be biased towards larger target sequences.\n",
        "\n",
        "- **Viterbi Decoding**: A decoding technique based on the Viterbi algorithm, which is a dynamic programming algorithm that provides an efficient way of finding the \"most likely state sequence in the maximum a posteriori probability sense of a process assumed to be a finite-state discrete-time Markov process\". Works well under assumptions of a small target vocabulary size and conditional independence of feature vectors. The decoded sequence has the minimum error probability possible when compared to $y^*$, i.e., $P(y_{viterbi}|x) \\sim P(y^* | x)$. Has a time complexity of $O(V^2|y|)$.\n",
        "\n",
        "In the next cell, you will implement any preferred decoding strategy of your choice, and compare performances of different decoding strategies."
      ]
    },
    {
      "cell_type": "markdown",
      "metadata": {
        "id": "kCrcoxFxt9Ve"
      },
      "source": [
        "**Note**: This module is optional, and can be attempted for a bonus score. If you choose to attempt this module, please set the variable `ATTEMPTED_BONUS` (declared below) to `True`, as this will impact the evaluation of the bonus part."
      ]
    },
    {
      "cell_type": "code",
      "execution_count": null,
      "metadata": {
        "id": "SlT-mD-GuAno"
      },
      "outputs": [
        {
          "name": "stdout",
          "output_type": "stream",
          "text": [
            "EVALUATION: Attempted Bonus Module? True\n"
          ]
        }
      ],
      "source": [
        "## ==== BEGIN EVALUATION PORTION\n",
        "\n",
        "# ADD YOUR CODE HERE\n",
        "# Set this variable to True if you choose to implement the function `rnn_better_generate` for the bonus module.\n",
        "# Regardless of your choice, please run this cell.\n",
        "ATTEMPTED_BONUS = false\n",
        "\n",
        "## ==== END EVALUATION PORTION\n",
        "\n",
        "print(\"EVALUATION:\", \"Attempted Bonus Module?\", ATTEMPTED_BONUS)"
      ]
    },
    {
      "cell_type": "code",
      "execution_count": null,
      "metadata": {
        "id": "x4sw-Wrb7S1Z"
      },
      "outputs": [],
      "source": [
        "## ==== BEGIN EVALUATION PORTION\n",
        "\n",
        "# Feel free to add additional parameters to rnn_better_generate, such as k for Beam Search Decoding.\n",
        "def rnn_better_generate(model, seq_x, src_tokenizer, tgt_tokenizer, max_length, k=5, length_penalty_alpha=0.6):\n",
        "    \"\"\" Given a source string, translate it to the target language using the trained model.\n",
        "        This function should use a better decoding strategy than greedy decoding (see above) to generate the results.\n",
        "\n",
        "    Args:\n",
        "        model (nn.Module): RNN Type Encoder-Decoder Model\n",
        "        seq_x (str): Input string to translate.\n",
        "        src_tokenizer (Tokenizer): Source language tokenizer.\n",
        "        tgt_tokenizer (Tokenizer): Target language tokenizer.\n",
        "        max_length (int): Maximum length of the target sequence to decode.\n",
        "\n",
        "    Returns:\n",
        "        str: Generated string for the given input in the target language.\n",
        "    \"\"\"\n",
        "\n",
        "    # BEGIN CODE : enc-dec-rnn.better_generate\n",
        "\n",
        "    # ADD YOUR CODE HERE\n",
        "    \n",
        "\n",
        "\n",
        "\n",
        "\n",
        "\n",
        "    # END CODE\n",
        "\n",
        "## ==== END EVALUATION PORTION"
      ]
    },
    {
      "cell_type": "code",
      "execution_count": null,
      "metadata": {
        "id": "PhMFQmhY7S1Z"
      },
      "outputs": [],
      "source": [
        "## ==== BEGIN EVALUATION PORTION\n",
        "\n",
        "# BEGIN CODE : decoding.init\n",
        "\n",
        "# Add parameter values for your decoding strategy here. Leave empty if unused.\n",
        "\n",
        "\n",
        "    # ADD YOUR CODE HERE\n",
        "\n",
        "\n",
        "## ==== END EVALUATION PORTION"
      ]
    },
    {
      "cell_type": "code",
      "execution_count": null,
      "metadata": {
        "id": "aOwxnBIC7S1a"
      },
      "outputs": [
        {
          "name": "stdout",
          "output_type": "stream",
          "text": [
            "EVALUATION: enc-dec-rnn-attn\n"
          ]
        }
      ],
      "source": [
        "# Please do not change anything in the following cell.\n",
        "\n",
        "evaluator = Evaluator(src_tokenizer, tgt_tokenizer)\n",
        "\n",
        "# Use a different decoding for producing outputs.\n",
        "if ATTEMPTED_BONUS:\n",
        "    evaluator.set_decoding_method(rnn_better_generate)\n",
        "else:\n",
        "    evaluator.set_decoding_method(rnn_greedy_generate)\n",
        "\n",
        "# Evaluate enc-dec-rnn\n",
        "# print(\"EVALUATION:\", \"enc-dec-rnn\")\n",
        "# evaluator.evaluate(\n",
        "#     os.path.join(DIRECTORY_NAME, \"rnn.enc-dec\"),\n",
        "#     validation_data['Name'], validation_data['Translation'],\n",
        "#     max_length = rnn_enc_dec_data_params['tgt_padding'],\n",
        "#     **decoding_params\n",
        "# )\n",
        "\n",
        "# Evaluate enc-dec-rnn-attn\n",
        "print(\"EVALUATION:\", \"enc-dec-rnn-attn\")\n",
        "evaluator.evaluate(\n",
        "    os.path.join(DIRECTORY_NAME, \"rnn.enc-dec.attn\"),\n",
        "    validation_data['Name'], validation_data['Translation'],\n",
        "    max_length = rnn_enc_dec_attn_data_params['tgt_padding'],\n",
        "    **decoding_params\n",
        ")"
      ]
    },
    {
      "cell_type": "markdown",
      "metadata": {
        "id": "yHm5Di5V7S1a"
      },
      "source": [
        "## Congratulations!"
      ]
    },
    {
      "cell_type": "markdown",
      "metadata": {
        "id": "kxGerFZH7S1b"
      },
      "source": [
        "You have reached the end of the last assignment! Hope this was a fun exercise!\n",
        "\n",
        "Once you've run the cells above, you should be ready to submit the assignment."
      ]
    }
  ],
  "metadata": {
    "colab": {
      "provenance": []
    },
    "kernelspec": {
      "display_name": "Python 3 (ipykernel)",
      "language": "python",
      "name": "python3"
    },
    "language_info": {
      "codemirror_mode": {
        "name": "ipython",
        "version": 3
      },
      "file_extension": ".py",
      "mimetype": "text/x-python",
      "name": "python",
      "nbconvert_exporter": "python",
      "pygments_lexer": "ipython3",
      "version": "3.1.undefined"
    }
  },
  "nbformat": 4,
  "nbformat_minor": 0
}
