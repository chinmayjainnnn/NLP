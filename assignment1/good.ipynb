{
  "cells": [
    {
      "cell_type": "markdown",
      "metadata": {
        "id": "OerOiObFAes2"
      },
      "source": [
        "# Assignment 1\n",
        "\n",
        "**DS: 207 Introduction to Natural Language Processing**\n",
        "\n",
        "**Due (Feb 6, 16:59 PM)**\n",
        "\n",
        "Development & Design: Debarpan Bhattacharya & Nicy Scaria.\n",
        "\n",
        "Testing: Kinshuk Vasisht"
      ]
    },
    {
      "cell_type": "markdown",
      "metadata": {
        "id": "a8KnPBvJEzX9"
      },
      "source": [
        "The goal of this assignment is introduce the basics of text processing, by building a few text classifiers, and learning to represent words.\n",
        "\n",
        "You'll have to add your code wherever you see the comment `# ADD YOUR CODE HERE`. Please make a copy of this assignment, and you can use Google Colab notebooks to work on this. Later, you can download this notebook as a python file and submit it as per the following instructions."
      ]
    },
    {
      "cell_type": "markdown",
      "metadata": {
        "id": "4qpIrZWGbSK0"
      },
      "source": [
        "## Submission Instructions:\n",
        "\n",
        "1. In the notebook, a few example codes are provided, whereas a few are kept blank for you to fill them up.\n",
        "2. The evaluation will be based on the results obtained by functions impleted by you. Do not change the print statements having `EVALUATION` as they are used for auto-evaluation.\n",
        "3. **Submission file(s)**:\n",
        "  \n",
        "  * Save this `.ipynb` to your drive, complete the required code blocks and run the notebook.\n",
        "  * After completing this assignment, download the notebook as`.py`. Name it as `SAPname_SRno_assignment1.py`, where `SAPname` refers to your name as per SAP record, and `SRno` refers to the last 5 digits of your IISc SR number. For example, IISc student with SAP name Twyla Linda (SR no - 04-03-00-10-22-20-1-15329) would name it as `Twyla_Linda_15329_assignment1.py`.\n",
        "  *   The files associated with the Word2Vec training, i.e., the `model.pt`, `vocab.pt`, `word_embeddings.npy` and `loss.json`, will be downloaded and saved in a folder with the name `SAPname_SRno`. Zip this folder along with the `.py` file, save it as `SAPname_SRno_assigment1` and upload on MS Teams. The zip folder should contain: (1) `SAPname_SRno_assignment1.py`, (2) a subfolder called `SAPname_SRno` which will contain `model.pt`, `vocab.pt` , `word_embeddings.npy` and `loss.json`.\n",
        "\n",
        "\n",
        "Because submissions are auto-graded, please ensure that the naming of the files is consistent with the instructions."
      ]
    },
    {
      "cell_type": "markdown",
      "metadata": {
        "id": "UAVFm89QjHP6"
      },
      "source": [
        "## Part I Text Classification (TA: Debarpan Bhattacharya)"
      ]
    },
    {
      "cell_type": "markdown",
      "metadata": {
        "id": "HQQTcvWL7Qtm"
      },
      "source": [
        "**Dataset**:\n",
        "\n",
        "We will dive into a basic text-based sentiment classification task. The dataset consists of sentences with two different kinds of sentiments- `positive`, and `negative` sentiments. Following are a set of examples,\n",
        "\n",
        "* **`positive`**: *I really like your new haircut!*\n",
        "* **`negative`**: *Your new haircut is awful!*\n",
        "\n",
        "The Dataset has a training set (`train_data.csv`- provided), a validation set (`val_data.csv`- provided) and a blind test set (`test_data.csv`- not provided). The notebook uses a `test_data.csv` file, but it is just a duplicate of `val_data.csv`, and the blind `test_data.csv` will replace it while grading your solutions.\n",
        "\n",
        "**Important**: Fix seed as 42 whenever performing any randomized operations, e.g., initializing ML models.\n"
      ]
    },
    {
      "cell_type": "markdown",
      "metadata": {
        "id": "b_gUoUztJVwX"
      },
      "source": [
        "### Download the dataset required for the assignment"
      ]
    },
    {
      "cell_type": "code",
      "execution_count": null,
      "metadata": {
        "colab": {
          "base_uri": "https://localhost:8080/"
        },
        "id": "waznd1GRGwFx",
        "outputId": "93df9b06-454b-4684-cc41-18645fa31a51"
      },
      "outputs": [
        {
          "name": "stdout",
          "output_type": "stream",
          "text": [
            "--2024-02-06 13:39:08--  https://docs.google.com/spreadsheets/d/176-KrOP8nhLpoW91UnrOY9oq_-I0XYNKS1zmqIErFsA/gviz/tq?tqx=out:csv&sheet=train_data.csv\n",
            "Resolving docs.google.com (docs.google.com)... 142.250.182.78, 2404:6800:4009:820::200e\n",
            "Connecting to docs.google.com (docs.google.com)|142.250.182.78|:443... connected.\n",
            "HTTP request sent, awaiting response... "
          ]
        },
        {
          "name": "stdout",
          "output_type": "stream",
          "text": [
            "200 OK\n",
            "Length: unspecified [text/csv]\n",
            "Saving to: ‘train_data.csv’\n",
            "\n",
            "train_data.csv          [             <=>    ]  15.12M  5.95MB/s    in 2.5s    \n",
            "\n",
            "2024-02-06 13:39:12 (5.95 MB/s) - ‘train_data.csv’ saved [15851033]\n",
            "\n",
            "--2024-02-06 13:39:13--  https://docs.google.com/spreadsheets/d/1YxjoAbatow3F5lbPEODToa8-YWvJoTY0aABS9zaXk-c/gviz/tq?tqx=out:csv&sheet=val_data.csv\n",
            "Resolving docs.google.com (docs.google.com)... 142.250.182.78, 2404:6800:4009:820::200e\n",
            "Connecting to docs.google.com (docs.google.com)|142.250.182.78|:443... connected.\n",
            "HTTP request sent, awaiting response... 200 OK\n",
            "Length: unspecified [text/csv]\n",
            "Saving to: ‘val_data.csv’\n",
            "\n",
            "val_data.csv            [       <=>          ]   5.14M  3.85MB/s    in 1.3s    \n",
            "\n",
            "2024-02-06 13:39:15 (3.85 MB/s) - ‘val_data.csv’ saved [5387545]\n",
            "\n",
            "--2024-02-06 13:39:16--  https://docs.google.com/spreadsheets/d/1YxjoAbatow3F5lbPEODToa8-YWvJoTY0aABS9zaXk-c/gviz/tq?tqx=out:csv&sheet=val_data.csv\n",
            "Resolving docs.google.com (docs.google.com)... 142.250.182.78, 2404:6800:4009:820::200e\n",
            "Connecting to docs.google.com (docs.google.com)|142.250.182.78|:443... connected.\n",
            "HTTP request sent, awaiting response... 200 OK\n",
            "Length: unspecified [text/csv]\n",
            "Saving to: ‘test_data.csv’\n",
            "\n",
            "test_data.csv           [      <=>           ]   5.14M  4.22MB/s    in 1.2s    \n",
            "\n",
            "2024-02-06 13:39:18 (4.22 MB/s) - ‘test_data.csv’ saved [5387545]\n",
            "\n"
          ]
        }
      ],
      "source": [
        "# download train data\n",
        "!wget -O train_data.csv \"https://docs.google.com/spreadsheets/d/176-KrOP8nhLpoW91UnrOY9oq_-I0XYNKS1zmqIErFsA/gviz/tq?tqx=out:csv&sheet=train_data.csv\"\n",
        "\n",
        "# download validation data\n",
        "!wget -O val_data.csv \"https://docs.google.com/spreadsheets/d/1YxjoAbatow3F5lbPEODToa8-YWvJoTY0aABS9zaXk-c/gviz/tq?tqx=out:csv&sheet=val_data.csv\"\n",
        "\n",
        "# download test data\n",
        "!wget -O test_data.csv \"https://docs.google.com/spreadsheets/d/1YxjoAbatow3F5lbPEODToa8-YWvJoTY0aABS9zaXk-c/gviz/tq?tqx=out:csv&sheet=val_data.csv\""
      ]
    },
    {
      "cell_type": "code",
      "execution_count": null,
      "metadata": {
        "colab": {
          "base_uri": "https://localhost:8080/",
          "height": 206
        },
        "id": "d7B1k-8XOEqo",
        "outputId": "794acb21-f976-49ff-89c6-e7047718ac45"
      },
      "outputs": [
        {
          "data": {
            "text/html": [
              "<div>\n",
              "<style scoped>\n",
              "    .dataframe tbody tr th:only-of-type {\n",
              "        vertical-align: middle;\n",
              "    }\n",
              "\n",
              "    .dataframe tbody tr th {\n",
              "        vertical-align: top;\n",
              "    }\n",
              "\n",
              "    .dataframe thead th {\n",
              "        text-align: right;\n",
              "    }\n",
              "</style>\n",
              "<table border=\"1\" class=\"dataframe\">\n",
              "  <thead>\n",
              "    <tr style=\"text-align: right;\">\n",
              "      <th></th>\n",
              "      <th>review</th>\n",
              "      <th>sentiment</th>\n",
              "    </tr>\n",
              "  </thead>\n",
              "  <tbody>\n",
              "    <tr>\n",
              "      <th>0</th>\n",
              "      <td>I've watched this documentary twice - and alth...</td>\n",
              "      <td>positive</td>\n",
              "    </tr>\n",
              "    <tr>\n",
              "      <th>1</th>\n",
              "      <td>This is probably the worst movie I've seen in ...</td>\n",
              "      <td>negative</td>\n",
              "    </tr>\n",
              "    <tr>\n",
              "      <th>2</th>\n",
              "      <td>Superb story of a dedicated young teacher who ...</td>\n",
              "      <td>positive</td>\n",
              "    </tr>\n",
              "    <tr>\n",
              "      <th>3</th>\n",
              "      <td>&lt;br /&gt;&lt;br /&gt;Spoilers&lt;br /&gt;&lt;br /&gt;I'm going to b...</td>\n",
              "      <td>negative</td>\n",
              "    </tr>\n",
              "    <tr>\n",
              "      <th>4</th>\n",
              "      <td>What can be said, really... \"The Tenant\" is a ...</td>\n",
              "      <td>positive</td>\n",
              "    </tr>\n",
              "  </tbody>\n",
              "</table>\n",
              "</div>"
            ],
            "text/plain": [
              "                                              review sentiment\n",
              "0  I've watched this documentary twice - and alth...  positive\n",
              "1  This is probably the worst movie I've seen in ...  negative\n",
              "2  Superb story of a dedicated young teacher who ...  positive\n",
              "3  <br /><br />Spoilers<br /><br />I'm going to b...  negative\n",
              "4  What can be said, really... \"The Tenant\" is a ...  positive"
            ]
          },
          "execution_count": 23,
          "metadata": {},
          "output_type": "execute_result"
        }
      ],
      "source": [
        "#@title Read data\n",
        "import numpy as np\n",
        "import pandas as pd\n",
        "\n",
        "df = pd.read_csv('train_data.csv')\n",
        "df_val = pd.read_csv('val_data.csv')\n",
        "\n",
        "# Note that we will change the test file\n",
        "# when we grade assignments  ...\n",
        "# For now it is the same as the validation set\n",
        "df_test = pd.read_csv('test_data.csv')\n",
        "\n",
        "df.head()"
      ]
    },
    {
      "cell_type": "code",
      "execution_count": null,
      "metadata": {
        "id": "kxi5DtdKOt7e"
      },
      "outputs": [],
      "source": [
        "#@title Prepare training, validation and test data.\n",
        "\n",
        "X_train, y_train = df.review.values.tolist(), df.sentiment.values.tolist()\n",
        "X_val, y_val = df_val.review.values.tolist(), df_val.sentiment.values.tolist()\n",
        "X_test, y_test = df_test.review.values.tolist(), df_test.sentiment.values.tolist()\n",
        "\n",
        "labels = ['negative', 'positive']\n",
        "\n",
        "# converting the sentiment labels into labels\n",
        "# class 0 for negative, and class 1 for positive\n",
        "y_train = [labels.index(i) for i in y_train]\n",
        "y_val = [labels.index(i) for i in y_val]\n",
        "y_test = [labels.index(i) for i in y_test]"
      ]
    },
    {
      "cell_type": "markdown",
      "metadata": {
        "id": "zGiZtZSpQmk5"
      },
      "source": [
        "#### Approach 1: Rule based classification\n",
        "\n",
        "The rule-based classification works using a few hand-crafted rules. In sentiment classification, few words are associated with positive sentiment and few others with negative sentiment. Let's attempt to build a classifier that predicts the sentiment of the reviews based on such words."
      ]
    },
    {
      "cell_type": "markdown",
      "metadata": {
        "id": "yRt7jQNVaPO2"
      },
      "source": [
        "Let's first write a few rules to extract important features about the input movie review. As an example, we provide a function that counts the number of `good` and `bad` words in the input.\n",
        "\n",
        "Below, you can see a sample rule-based classification system. Later, you will be building one yourself."
      ]
    },
    {
      "cell_type": "code",
      "execution_count": null,
      "metadata": {
        "id": "JT_Et4xpPThR"
      },
      "outputs": [],
      "source": [
        "def sample_extract_features(X):\n",
        "    \"\"\"\n",
        "    Extracts features from a text input.\n",
        "\n",
        "    Args:\n",
        "        X (string): Text input.\n",
        "\n",
        "    Returns:\n",
        "        dictionary: features extracted from X.\n",
        "    \"\"\"\n",
        "\n",
        "    features = {}\n",
        "    X_split = X.split(' ')\n",
        "\n",
        "    # Count the number of \"good words\" and \"bad words\" in the text\n",
        "    good_words = ['love', 'good', 'brilliant', 'amazing', 'great', 'happy','joyful','amazing','excellent','wonderful','superb','outstanding',\n",
        "                  'delight','fantastic','terrific','Phenomenal','Unforgettable','Magnificent','Thrilling','Exceptional']\n",
        "    bad_words = ['hate', 'bad', 'horrible', 'awful', 'terrible', 'mess', 'frustating', 'frustating','dislike','unpleasant','disappointing','miserable'\n",
        "                 ,'sad','unfortunate','annoying','infuriating','disgusting','poor','irritating','dreadful']\n",
        "\n",
        "\n",
        "\n",
        "\n",
        "\n",
        "    features['good_word_count'], features['bad_word_count'] = 0, 0\n",
        "    for x in X_split:\n",
        "        if x in good_words:\n",
        "            features['good_word_count'] = features.get('good_word_count', 0) + 1\n",
        "        if x in bad_words:\n",
        "            features['bad_word_count'] = features.get('bad_word_count', 0) + 1\n",
        "\n",
        "    # The \"bias\" value can be set to one, to allow us to assign a \"default\" score to the text\n",
        "    features['bias'] = 1\n",
        "    return features"
      ]
    },
    {
      "cell_type": "code",
      "execution_count": null,
      "metadata": {
        "id": "PQea1rsPCCVz"
      },
      "outputs": [],
      "source": [
        "def sample_predict(X, feature_weights):\n",
        "    \"\"\"\n",
        "    Classifies the sentiment of a text input.\n",
        "\n",
        "    Args:\n",
        "        X (string): Text input.\n",
        "        feature_weights: weightage of different features.\n",
        "\n",
        "    Returns:\n",
        "        int: binary sentiment represented by 0/1.\n",
        "    \"\"\"\n",
        "\n",
        "    score = 0\n",
        "\n",
        "    # Here we just multiply the feature value\n",
        "    # with its corresponding weight and aggregate\n",
        "    for feat_name, feat_value in sample_extract_features(X).items():\n",
        "        score = score + feat_value * feature_weights[feat_name]\n",
        "\n",
        "    # the prediction is based on whether the aggregated score is above 0 or not\n",
        "    if score > 0:\n",
        "        return 1\n",
        "    else:\n",
        "        return 0"
      ]
    },
    {
      "cell_type": "code",
      "execution_count": null,
      "metadata": {
        "id": "Mld2X8uP_1DK"
      },
      "outputs": [],
      "source": [
        "def get_sample_features_weights():\n",
        "  \"\"\"\n",
        "    To obtain feature weightage for different features.\n",
        "\n",
        "    Args:\n",
        "        None here.\n",
        "\n",
        "    Returns:\n",
        "        dictionary: feature names and their weightage.\n",
        "    \"\"\"\n",
        "  # Based on the selected features, you can manually assign them weights\n",
        "  feature_weights = {'good_word_count': 1.0, 'bad_word_count': -1.0, 'bias': 0.5}\n",
        "  return feature_weights"
      ]
    },
    {
      "cell_type": "code",
      "execution_count": null,
      "metadata": {
        "id": "5soNJvv0AZeM"
      },
      "outputs": [],
      "source": [
        "\n",
        "#@title Computing the accuracy of the system\n",
        "\n",
        "def calculate_accuracy(Y_true, Y_pred):\n",
        "    \"\"\"\n",
        "    Calculates accuracy of predictions given the ground truth.\n",
        "\n",
        "    Args:\n",
        "        Y_true (list): Ground truth labels.\n",
        "        Y_pred (list): Predictions.\n",
        "\n",
        "    Returns:\n",
        "        float: Prediction accuracy in range [0.0-100.0].\n",
        "    \"\"\"\n",
        "    correct = 0.0\n",
        "    total = len(Y_true)\n",
        "\n",
        "    # verify if we have the same number of predictions as labels\n",
        "    assert len(Y_true) == len(Y_pred)\n",
        "\n",
        "    # count the number of correct predictions\n",
        "    for y_true, y_pred in zip(Y_true, Y_pred):\n",
        "        if y_true == y_pred:\n",
        "            correct += 1.0\n",
        "\n",
        "    if total > 0:\n",
        "        return 100. * correct / total\n",
        "\n",
        "    # return 0 if there the total number of examples are zero\n",
        "    return 0.0"
      ]
    },
    {
      "cell_type": "code",
      "execution_count": null,
      "metadata": {
        "colab": {
          "base_uri": "https://localhost:8080/"
        },
        "id": "aUJxIXK6COeY",
        "outputId": "def3f621-409e-4b06-9f44-acd51835b6de"
      },
      "outputs": [
        {
          "name": "stdout",
          "output_type": "stream",
          "text": [
            "63.2\n"
          ]
        }
      ],
      "source": [
        "#@title Putting the sample rule-based classifier together\n",
        "\n",
        "# get the sample weights\n",
        "sample_feature_weights = get_sample_features_weights()\n",
        "\n",
        "predictions = []\n",
        "\n",
        "# for each test example, make a prediction\n",
        "for input_example in X_test:\n",
        "    y = sample_predict(input_example, sample_feature_weights)\n",
        "    predictions.append(y)\n",
        "\n",
        "# compute and print the accuracy\n",
        "print (calculate_accuracy(y_test, predictions))"
      ]
    },
    {
      "cell_type": "markdown",
      "metadata": {
        "id": "p5zIgT9sGejB"
      },
      "source": [
        "As you can observe here, the model achieves about 60% accuracy (note that the performance of a random classifier would be close to 50%)."
      ]
    },
    {
      "cell_type": "markdown",
      "metadata": {
        "id": "jUNaPV2KGyB1"
      },
      "source": [
        "### Build your own rule-based classifier (10 marks)\n",
        "\n",
        "Your have to write your own `extract_features`, `get_feature_weights` and `predict` functions for your rule-based classifier."
      ]
    },
    {
      "cell_type": "code",
      "execution_count": null,
      "metadata": {
        "id": "Aio_eGugGuuZ"
      },
      "outputs": [],
      "source": [
        "# def extract_features(X):\n",
        "#     \"\"\"\n",
        "#     Extracts features from a text input.\n",
        "\n",
        "#     Args:\n",
        "#         X (string): Text input.\n",
        "\n",
        "#     Returns:\n",
        "#         dictionary: features extracted from X.\n",
        "#     \"\"\"\n",
        "#     features = {}\n",
        "#     X_split = X.split(' ')\n",
        "\n",
        "#     features['bias'] = 1\n",
        "\n",
        "#     # positive_words = list(set([  \"positive\", ]))\n",
        "\n",
        "\n",
        "\n",
        "def extract_features(X):\n",
        "    features = {}\n",
        "    X_split = X.split(' ')\n",
        "\n",
        "    features['bias'] = 1\n",
        "\n",
        "\n",
        "    # extremely_positive_words = [ \"outstanding\", \"exceptional\", \"magnificent\", \"phenomenal\",\n",
        "    #                             \"encouraging\", \"marvelous\", \"splendid\", 'mesmerizing', 'tremendous']\n",
        "    # extremely_negative_words = [\n",
        "    #\n",
        "    #                             'disappointing','underwhelming','miss','predictive']\n",
        "    # negative_words = [,\n",
        "    #                   ,\"disastrous\", \"atrocious\", \"repugnant\", \"revolting\", \"detestable\", \"abominable\", \"appalling\"]\n",
        "\n",
        "    # neutral_words = [\"average\"]\n",
        "\n",
        "\n",
        "    extremely_positive_words = [\"wonderfully\", \"favorite\", \"subtitles\", \"amazing\", \"brutal\", \"subtle\", \"excellent\",\n",
        "                                \"terrific\",\"surprisingly\", 'western', 'awesome', 'extraordinary',\n",
        "                                'pleasantly', 'real',  \"episode\",\"perfect\", \"emotions\", \"nicely\",\n",
        "                                \"complain\", 'wonderful','plenty','hilarious','delightful', \"loved\", \"polished\",\n",
        "                                \"freedom\",\"extra\", \"enjoyed\", \"appreciate\", \"week\", \"warm\", \"great\",\n",
        "                                \"brilliant\",\"masterpiece\", \"underrated\",\n",
        "                                \"captivating\",'scary','heartwarming', \"enchanting\", \"astounding\", 'superb']\n",
        "    extremely_negative_words = [\"waste\", \"poorly\" ,\"worst\" ,\"fails\" ,\"awful\" ,\"tedious\" ,\"poor\" ,\"dull\" ,\"boring\" ,\"pathetic\" ,\n",
        "                                \"bad\" ,\"unbelievable\",\n",
        "                                \"disappointment\" ,\"ridiculous\" ,\"wasting\"  ,\"lame\" ,\"lacks\" ,\"garbage\" ,\n",
        "                                \"terrible\" ,\"weak\"  ,\"cheap\" ,\"wasted\" ,\"lousy\" ,\"stupid\" ,\"annoying\" ,\n",
        "                                \"mediocre\" ,\"nothing\" ,\"obnoxious\",\"insult\" ,\"cliché\" ,\"worse\" ,\"costume\" ,\"paying\" ,\"bother\" ,\n",
        "                                \"pointless\"  ,\"industry\" ,\"redeeming\" ,\"problem\" ,\"walked\",\"money\",\n",
        "                                \"hated\",  \"irritating\", \"frustrating\", \"inferior\", \"dreadful\", \"unpleasant\",\"infuriating\",\n",
        "                                \"disgusting\", 'embarrassing', 'pain','predictable',]\n",
        "    positive_words = [\"classics\", \"funniest\" , \"refreshing\" , \"recommended\" , \"grand\" , \"ensemble\"\n",
        "                      , \"fantastic\"  , \"courage\" , \"liked\" , \"steals\" ,\n",
        "                       \"fun\", \"memorable\", 'dedicated',\"loves\",  \"lovely\", \"best\",\"exquisite\", \"uplifting\",\"joyful\",\n",
        "                         \"charming\", \"vibrant\", \"immaculate\", \"radiant\", \"commendable\", \"admirable\", 'praise','succeed',\n",
        "                         \"stunning\",\"impressive\",'cheers','cheerful']\n",
        "    negative_words = [\"mistake\" , \"supposed\"   , \"amateurish\" , \"sucks\"  ,\n",
        "                        \"firmly\"  ,\"sucked\" , \"muddled\"   , \"horrible\" , \"instead\" , \"painful\" ,\n",
        "                        \"same\",\"sad\", \"subpar\", \"unsatisfactory\", \"substandard\", \"dislike\", \"unimpressive\", \"flawed\",\n",
        "                        \"deficient\",\"unfavorable\", 'ignorance', 'lack']\n",
        "#\n",
        "#\n",
        "    neutral_words = [\"average\"]\n",
        "\n",
        "\n",
        "\n",
        "    negation_words = [\"not\", \"never\", \"no\", \"don't\", \"doesn't\", \"didn't\"]\n",
        "\n",
        "    sentiment_score = 0\n",
        "\n",
        "    for i, x in enumerate(X_split):\n",
        "        # Check for negation and update sentiment_score accordingly\n",
        "        if x.lower() in negation_words and i + 1 < len(X_split):\n",
        "            sentiment_multiplier = -1\n",
        "            if X_split[i + 1].lower() in extremely_positive_words:\n",
        "                sentiment_score += sentiment_multiplier * 2\n",
        "            elif X_split[i + 1].lower() in extremely_negative_words:\n",
        "                sentiment_score += sentiment_multiplier * -2\n",
        "            elif X_split[i + 1].lower() in positive_words:\n",
        "                sentiment_score += sentiment_multiplier * 1\n",
        "            elif X_split[i + 1].lower() in negative_words:\n",
        "                sentiment_score += sentiment_multiplier * -1\n",
        "        elif x.lower() in extremely_negative_words:\n",
        "            sentiment_score += -2.93\n",
        "        elif x.lower() in extremely_positive_words:\n",
        "            sentiment_score += 2.93\n",
        "        elif x.lower() in negative_words:\n",
        "            sentiment_score += -1.5\n",
        "        elif x.lower() in positive_words:\n",
        "            sentiment_score += 1.5\n",
        "\n",
        "    # Categorize sentiment\n",
        "    if sentiment_score > 0:\n",
        "        features['positive_sentiment'] = 1\n",
        "        features['negative_sentiment'] = 0\n",
        "    elif sentiment_score < 0:\n",
        "        features['positive_sentiment'] = 0\n",
        "        features['negative_sentiment'] = 1\n",
        "    else:\n",
        "        features['positive_sentiment'] = 0\n",
        "        features['negative_sentiment'] = 0\n",
        "\n",
        "\n",
        "    return features"
      ]
    },
    {
      "cell_type": "code",
      "execution_count": null,
      "metadata": {
        "id": "SY0ioIklQp-J"
      },
      "outputs": [],
      "source": [
        "def get_feature_weights():\n",
        "    \"\"\"\n",
        "    To obtain feature weightage for different features.\n",
        "\n",
        "    Args:\n",
        "        None here.\n",
        "\n",
        "    Returns:\n",
        "        dictionary: feature names and their weightage.\n",
        "    \"\"\"\n",
        "\n",
        "    feature_weights = {}\n",
        "    feature_weights['bias'] = 0.3\n",
        "\n",
        "    # ADD YOUR CODE HERE\n",
        "\n",
        "    # please manually assign feature weights to the features you've extracted\n",
        "    # feature_weights={'extremely_positive_words':2.0,'extremely_negative_words':-2.0, 'negative_words':-1.0,'neutral_words':0,'positive_words':1.0,'bias':0.5}\n",
        "    # return feature_weights\n",
        "    feature_weights = {'bias': 0.3, 'positive_sentiment': 1.0, 'negative_sentiment': -1.0}\n",
        "    return feature_weights"
      ]
    },
    {
      "cell_type": "code",
      "execution_count": null,
      "metadata": {
        "id": "hKqwGoZ-H7x4"
      },
      "outputs": [],
      "source": [
        "def predict(X, feature_weights):\n",
        "    \"\"\"\n",
        "    Classifies the sentiment of a text input.\n",
        "\n",
        "    Args:\n",
        "        X (string): Text input.\n",
        "        feature_weights: weightage of different features.\n",
        "\n",
        "    Returns:\n",
        "        int: binary sentiment represented by 0/1.\n",
        "    \"\"\"\n",
        "\n",
        "\n",
        "    score = 0\n",
        "\n",
        "    # Here we just multiply the feature value\n",
        "    # with its corresponding weight and aggregate\n",
        "    for feat_name, feat_value in extract_features(X).items():\n",
        "        score = score + feat_value * feature_weights[feat_name]\n",
        "\n",
        "    # the prediction is based on whether the aggregated score is above 0 or not\n",
        "    if score > 0:\n",
        "        return 1\n",
        "    else:\n",
        "        return 0\n",
        "    return 1.0"
      ]
    },
    {
      "cell_type": "code",
      "execution_count": null,
      "metadata": {
        "colab": {
          "base_uri": "https://localhost:8080/"
        },
        "id": "kxv4-0mJIJS5",
        "outputId": "5c5f62c4-92d0-4549-ddcd-2aa85a1206ae"
      },
      "outputs": [
        {
          "name": "stdout",
          "output_type": "stream",
          "text": [
            "EVALUATION of rule-based classifier is: 75.85\n"
          ]
        }
      ],
      "source": [
        "#@title Evaluating your rule-based classifier\n",
        "\n",
        "## Please do not change anything in this code block.\n",
        "\n",
        "feature_weights = get_feature_weights()\n",
        "\n",
        "predictions = []\n",
        "\n",
        "for input_example in X_test:\n",
        "    y = predict(input_example, feature_weights)\n",
        "    predictions.append(y)\n",
        "\n",
        "print (\"EVALUATION of rule-based classifier is:\", calculate_accuracy(y_test, predictions))"
      ]
    },
    {
      "cell_type": "markdown",
      "metadata": {
        "id": "6u1EmkV5IaDR"
      },
      "source": [
        "You will be evaluated based on the performance of your rule-based classifier. Please note that the sample rule-based classifier achieves about 60% accuracy. Anything below 60% will not yield any points.\n",
        "\n",
        "***Please do not change the evaluation code in the block above, as it would be used to grade your classifier***."
      ]
    },
    {
      "cell_type": "markdown",
      "metadata": {
        "id": "7ZqIJHzbJiQe"
      },
      "source": [
        "Below, we will directly learn the feature weights, rather than manually assigning those ourselves as manual assignment can be error-prone and labor intensive."
      ]
    },
    {
      "cell_type": "code",
      "execution_count": null,
      "metadata": {
        "id": "6FTuS2MOgDUU"
      },
      "outputs": [],
      "source": [
        "#@title Learning the weights of extracted features using logistic regression.\n",
        "\n",
        "from sklearn.linear_model import LogisticRegression\n",
        "\n",
        "def get_sample_learnable_weights(X_data, Y_data, sample_extract_features):\n",
        "    \"\"\"\n",
        "    Learn feature weights using the training data.\n",
        "\n",
        "    Args:\n",
        "        X_data (list of strings): All the text data points in training data.\n",
        "        Y_data (list of int): Ground truth labels for text data points in X_data.\n",
        "        sample_extract_features: A Function that extracts features from text sample.\n",
        "                                 The sample_extract_features function should be of the\n",
        "                                 same format as sample_extract_features(X) function\n",
        "                                 implemented above.\n",
        "\n",
        "        Returns:\n",
        "            dictionary: feature names and their learned weights.\n",
        "    \"\"\"\n",
        "    # training a logistic regression model for classification using\n",
        "    # the features obtained by sample_extract_features(X) function.\n",
        "\n",
        "    # get all feature names\n",
        "    feature_names = list(sample_extract_features(X_data[0]).keys())\n",
        "    # Below code snippet accumulates features extracted from all the\n",
        "    # text data points in X_data.\n",
        "    all_features = []\n",
        "    # iterate over all text data points in X_data.\n",
        "    for input_example in X_data:\n",
        "      feature = [] # to store features extracted from input_example.\n",
        "      feat_dict = sample_extract_features(input_example)\n",
        "      # iterate over different feature names and store the corresponding values.\n",
        "      for name in feature_names:\n",
        "        feature.append(feat_dict[name])\n",
        "      all_features.append(feature) # append features obtained from input_example to all_features.\n",
        "\n",
        "\n",
        "    # Below, we show how to fit a logistic regression (LR) model using the features and the target labels.\n",
        "    # We use Sklearn's 'LogisticRegression' to do this. While initiating, 'fit_intercept' is set False,\n",
        "    # because 'bias' is already included in the extracted feature (see sample_extract_features() implementation).\n",
        "    # Also, random state is set to 42 to avoid different initialization of the model while running the codebook\n",
        "    # multiple times.\n",
        "    clf = LogisticRegression(fit_intercept=False, random_state=42).fit(all_features, Y_data)\n",
        "\n",
        "    # As training a logistic regression model assigns weights to each of the features (refer class notes),\n",
        "    # these weights are learnable and we will use them as learned feature weights.\n",
        "\n",
        "    # extract feature weights.\n",
        "    coffs = clf.coef_[0]\n",
        "\n",
        "    # convert to dictionary\n",
        "    coffs_dict = {feature_names[i]: coffs[i] for i in range(len(feature_names))}\n",
        "\n",
        "    return coffs_dict"
      ]
    },
    {
      "cell_type": "code",
      "execution_count": null,
      "metadata": {
        "colab": {
          "base_uri": "https://localhost:8080/"
        },
        "id": "YsCdOCq6mtJ1",
        "outputId": "f19e8ee6-7e7c-4ad8-e9e2-3901cfb40812"
      },
      "outputs": [
        {
          "name": "stdout",
          "output_type": "stream",
          "text": [
            "66.775\n"
          ]
        }
      ],
      "source": [
        "#@title Putting the sample rule-based classifier with learnable weights together\n",
        "\n",
        "# get the sample weights\n",
        "sample_feature_weights_lr = get_sample_learnable_weights(X_train, y_train, sample_extract_features)\n",
        "\n",
        "predictions = []\n",
        "\n",
        "for input_example in X_test:\n",
        "    y = sample_predict(input_example, sample_feature_weights_lr)\n",
        "    predictions.append(y)\n",
        "\n",
        "print (calculate_accuracy(y_test, predictions))"
      ]
    },
    {
      "cell_type": "markdown",
      "metadata": {
        "id": "K29X_7C4zfVH"
      },
      "source": [
        "As you can observe here, the model achieves about 63% accuracy (note that the performance of a random classifier would be close to 50%). Note that, the performance significantly improves by making the weights learnable as compared to the manual weights."
      ]
    },
    {
      "cell_type": "markdown",
      "metadata": {
        "id": "M7ztqIifzwud"
      },
      "source": [
        "## How does learnable weights-based classifier work on the features you implemented (3 marks)\n",
        "\n",
        "Your don't have to write anything here except simply running the below kernel.\n",
        "Depending upon the quality of your features, your classifier performance will vary."
      ]
    },
    {
      "cell_type": "code",
      "execution_count": null,
      "metadata": {
        "colab": {
          "base_uri": "https://localhost:8080/"
        },
        "id": "FvVJYi980W0y",
        "outputId": "d85c31dc-c8de-4853-f925-3804e38fdc08"
      },
      "outputs": [
        {
          "ename": "KeyboardInterrupt",
          "evalue": "",
          "output_type": "error",
          "traceback": [
            "\u001b[0;31m---------------------------------------------------------------------------\u001b[0m",
            "\u001b[0;31mKeyboardInterrupt\u001b[0m                         Traceback (most recent call last)",
            "Cell \u001b[0;32mIn[37], line 9\u001b[0m\n\u001b[1;32m      6\u001b[0m predictions \u001b[38;5;241m=\u001b[39m []\n\u001b[1;32m      8\u001b[0m \u001b[38;5;28;01mfor\u001b[39;00m input_example \u001b[38;5;129;01min\u001b[39;00m X_test:\n\u001b[0;32m----> 9\u001b[0m     y \u001b[38;5;241m=\u001b[39m \u001b[43mpredict\u001b[49m\u001b[43m(\u001b[49m\u001b[43minput_example\u001b[49m\u001b[43m,\u001b[49m\u001b[43m \u001b[49m\u001b[43mfeature_weights_lr\u001b[49m\u001b[43m)\u001b[49m\n\u001b[1;32m     10\u001b[0m     predictions\u001b[38;5;241m.\u001b[39mappend(y)\n\u001b[1;32m     12\u001b[0m \u001b[38;5;28mprint\u001b[39m (\u001b[38;5;124mf\u001b[39m\u001b[38;5;124m\"\u001b[39m\u001b[38;5;124mEVALUATION of rule-based classifier with learnable weights is: \u001b[39m\u001b[38;5;132;01m{\u001b[39;00mcalculate_accuracy(y_test,\u001b[38;5;250m \u001b[39mpredictions)\u001b[38;5;132;01m}\u001b[39;00m\u001b[38;5;124m\"\u001b[39m)\n",
            "Cell \u001b[0;32mIn[33], line 18\u001b[0m, in \u001b[0;36mpredict\u001b[0;34m(X, feature_weights)\u001b[0m\n\u001b[1;32m     14\u001b[0m score \u001b[38;5;241m=\u001b[39m \u001b[38;5;241m0\u001b[39m\n\u001b[1;32m     16\u001b[0m \u001b[38;5;66;03m# Here we just multiply the feature value\u001b[39;00m\n\u001b[1;32m     17\u001b[0m \u001b[38;5;66;03m# with its corresponding weight and aggregate\u001b[39;00m\n\u001b[0;32m---> 18\u001b[0m \u001b[38;5;28;01mfor\u001b[39;00m feat_name, feat_value \u001b[38;5;129;01min\u001b[39;00m \u001b[43mextract_features\u001b[49m\u001b[43m(\u001b[49m\u001b[43mX\u001b[49m\u001b[43m)\u001b[49m\u001b[38;5;241m.\u001b[39mitems():\n\u001b[1;32m     19\u001b[0m     score \u001b[38;5;241m=\u001b[39m score \u001b[38;5;241m+\u001b[39m feat_value \u001b[38;5;241m*\u001b[39m feature_weights[feat_name]\n\u001b[1;32m     21\u001b[0m \u001b[38;5;66;03m# the prediction is based on whether the aggregated score is above 0 or not\u001b[39;00m\n",
            "Cell \u001b[0;32mIn[31], line 79\u001b[0m, in \u001b[0;36mextract_features\u001b[0;34m(X)\u001b[0m\n\u001b[1;32m     77\u001b[0m     \u001b[38;5;28;01melif\u001b[39;00m X_split[i \u001b[38;5;241m+\u001b[39m \u001b[38;5;241m1\u001b[39m]\u001b[38;5;241m.\u001b[39mlower() \u001b[38;5;129;01min\u001b[39;00m negative_words:\n\u001b[1;32m     78\u001b[0m         sentiment_score \u001b[38;5;241m+\u001b[39m\u001b[38;5;241m=\u001b[39m sentiment_multiplier \u001b[38;5;241m*\u001b[39m \u001b[38;5;241m-\u001b[39m\u001b[38;5;241m1\u001b[39m\n\u001b[0;32m---> 79\u001b[0m \u001b[38;5;28;01melif\u001b[39;00m \u001b[43mx\u001b[49m\u001b[38;5;241;43m.\u001b[39;49m\u001b[43mlower\u001b[49m() \u001b[38;5;129;01min\u001b[39;00m extremely_negative_words:\n\u001b[1;32m     80\u001b[0m     sentiment_score \u001b[38;5;241m+\u001b[39m\u001b[38;5;241m=\u001b[39m \u001b[38;5;241m-\u001b[39m\u001b[38;5;241m2.85\u001b[39m\n\u001b[1;32m     81\u001b[0m \u001b[38;5;28;01melif\u001b[39;00m x\u001b[38;5;241m.\u001b[39mlower() \u001b[38;5;129;01min\u001b[39;00m extremely_positive_words:\n",
            "\u001b[0;31mKeyboardInterrupt\u001b[0m: "
          ]
        }
      ],
      "source": [
        "#@title Evaluating your rule-based classifier with learnable weights.\n",
        "\n",
        "## Please do not change anything in this code block.\n",
        "feature_weights_lr = get_sample_learnable_weights(X_train, y_train, extract_features)\n",
        "\n",
        "predictions = []\n",
        "\n",
        "for input_example in X_test:\n",
        "    y = predict(input_example, feature_weights_lr)\n",
        "    predictions.append(y)\n",
        "\n",
        "print (f\"EVALUATION of rule-based classifier with learnable weights is: {calculate_accuracy(y_test, predictions)}\")"
      ]
    },
    {
      "cell_type": "code",
      "execution_count": null,
      "metadata": {
        "colab": {
          "base_uri": "https://localhost:8080/",
          "height": 508
        },
        "id": "E2jMSsYLwY3L",
        "outputId": "7278907e-32f0-4193-d41f-96e9899acf1a"
      },
      "outputs": [
        {
          "data": {
            "image/png": "[encoded data removed]",
            "text/plain": [
              "<Figure size 640x480 with 1 Axes>"
            ]
          },
          "metadata": {},
          "output_type": "display_data"
        }
      ],
      "source": [
        "#@title Visualization and comparison between manual and learnable weights.\n",
        "\n",
        "# visualize and compare the manual weights vs learnt weights.\n",
        "\n",
        "import matplotlib.pyplot as plt\n",
        "import numpy as np\n",
        "\n",
        "feature_names = list(feature_weights.keys())\n",
        "manual_weights = [feature_weights[name] for name in feature_names]\n",
        "learnt_weights = [feature_weights_lr[name] for name in feature_names]\n",
        "weights_dict = {\n",
        "    'Manual weights': manual_weights,\n",
        "    'Learnt weights': learnt_weights,\n",
        "}\n",
        "\n",
        "x = np.arange(len(feature_names))  # the label locations\n",
        "width = 0.35  # the width of the bars\n",
        "multiplier = 0\n",
        "\n",
        "fig, ax = plt.subplots(layout='constrained')\n",
        "\n",
        "for attribute, measurement in weights_dict.items():\n",
        "    offset = width * multiplier\n",
        "    rects = ax.bar(x + offset, measurement, width, label=attribute)\n",
        "    ax.bar_label(rects, padding=3)\n",
        "    multiplier += 1\n",
        "\n",
        "# Add some text for labels, title and custom x-axis tick labels, etc.\n",
        "ax.set_ylabel('weight')\n",
        "ax.set_title('Manual vs learnable weights comparison')\n",
        "ax.set_xticks(x + width, feature_names)\n",
        "ax.legend(loc='upper left', ncols=2)\n",
        "ax.set_ylim(-2, 2)\n",
        "\n",
        "plt.savefig('manual_vs_learned_weights.png')\n",
        "# Refer to the saved manual_vs_learned_weights.png to see how manual and learned weights compare."
      ]
    },
    {
      "cell_type": "markdown",
      "metadata": {
        "id": "TirWZWbRjnJH"
      },
      "source": [
        "### Approach 2: Bag-of-Words (BoW) (10 marks)\n",
        "\n",
        "The BoW vector representations is based on the unordered counts of words piece of text (similar to a \"bag\" of words).\n",
        "\n",
        "Let's attempt to build a classifier that tries to classify the reviews based on such vectors."
      ]
    },
    {
      "cell_type": "code",
      "execution_count": null,
      "metadata": {
        "colab": {
          "base_uri": "https://localhost:8080/"
        },
        "id": "TeavAClasyz6",
        "outputId": "3af56dc0-5cd0-4132-9f50-80874b47a6c9"
      },
      "outputs": [
        {
          "name": "stderr",
          "output_type": "stream",
          "text": [
            "[nltk_data] Downloading package wordnet to\n",
            "[nltk_data]     /data/home/jaydeeps/nltk_data...\n",
            "[nltk_data]   Package wordnet is already up-to-date!\n"
          ]
        }
      ],
      "source": [
        "# implement your BoW classifier. In case the total number of words are very large,\n",
        "# consider using top-k most frequent words (e.g. k=10,000) while creating BoW vectors.\n",
        "import nltk\n",
        "from nltk.corpus import wordnet\n",
        "nltk.download('wordnet')\n",
        "from sklearn.feature_extraction.text import CountVectorizer, TfidfVectorizer\n",
        "from sklearn.linear_model import LogisticRegression\n",
        "from sklearn.metrics import accuracy_score\n",
        "\n",
        "# The below function finds out all words present in the corpus and assigns each word to\n",
        "# an index.\n",
        "from collections import Counter\n",
        "\n",
        "def word_to_idx_BOW(X_data, K):\n",
        "    \"\"\"\n",
        "    Generates a set of word-index pairs after analyzing all words present in entire\n",
        "    data corpus X_data.\n",
        "\n",
        "    Args:\n",
        "        X_data (list of strings): All the text data points in training data.\n",
        "        K (int): The number of most frequent words to be considered.\n",
        "                 In case (K-p)th to (K+q)th words in most frequent words order\n",
        "                 have same frequency, you can choose p words randomly from those\n",
        "                 (p+q) number of words.\n",
        "\n",
        "        Returns:\n",
        "            dictionary: words as keys and indices as values.\n",
        "    \"\"\"\n",
        "    stopwords = {\"i\", \"me\", \"my\", \"myself\", \"we\", \"our\", \"ours\", \"ourselves\", \"you\", \"your\", \"yours\",\n",
        "                        \"yourself\", \"yourselves\", \"he\", \"him\", \"his\", \"himself\", \"she\", \"her\", \"hers\",\n",
        "                        \"herself\", \"it\", \"its\", \"itself\", \"they\", \"them\", \"their\", \"theirs\", \"themselves\",\n",
        "                        \"what\", \"which\", \"who\", \"whom\", \"this\", \"that\", \"these\", \"those\", \"am\", \"is\", \"are\",\n",
        "                        \"was\", \"were\", \"be\", \"been\", \"being\", \"have\", \"has\", \"had\", \"having\", \"do\", \"does\",\n",
        "                        \"did\", \"doing\", \"a\", \"an\", \"the\", \"and\", \"but\", \"if\", \"or\", \"because\", \"as\", \"until\",\n",
        "                        \"while\", \"of\", \"at\", \"by\", \"for\", \"with\", \"about\", \"against\", \"between\", \"into\",\n",
        "                        \"through\", \"during\", \"before\", \"after\", \"above\", \"below\", \"to\", \"from\", \"up\", \"down\",\n",
        "                        \"in\", \"out\", \"on\", \"off\", \"over\", \"under\", \"again\", \"further\", \"then\", \"once\", \"here\",\n",
        "                        \"there\", \"when\", \"where\", \"why\", \"how\", \"all\", \"any\", \"both\", \"each\", \"few\", \"more\",\n",
        "                        \"most\", \"other\", \"some\", \"such\", \"no\", \"nor\", \"not\", \"only\", \"own\", \"same\", \"so\",\n",
        "                        \"than\", \"too\", \"very\", \"s\", \"t\", \"can\", \"will\", \"just\", \"don\", \"should\", \"now\"}\n",
        "    cleaned_text = []\n",
        "\n",
        "    # Remove symbols and HTML tags, and lowercase the text\n",
        "    for text in X_data:\n",
        "        cleaned_text.append(re.sub(r'<[^>]+>', '', text))  # Remove HTML tags\n",
        "        cleaned_text[-1] = re.sub(r'[^A-Za-z\\s]', '', cleaned_text[-1])  # Remove symbols\n",
        "        cleaned_text[-1] = cleaned_text[-1].lower()  # Convert text to lowercase\n",
        "\n",
        "    # Count words across the entire dataset after removing custom stopwords\n",
        "    word_count = Counter(word.lower() for text in X_data for word in text.split() if word.lower() not in stopwords)\n",
        "    frequent_words = sorted(word_count.items(), key=lambda x:x[1],reverse=True)[0:K]\n",
        "    word_to_idx = {word: idx for idx, (word, _) in enumerate(frequent_words)}\n",
        "    return word_to_idx\n",
        "\n",
        "# generate BoW feature for text input X.\n",
        "def extract_features_BoW(X, word_to_idx):\n",
        "    \"\"\"\n",
        "    Generates BoW feature for X using word_to_idx.\n",
        "\n",
        "    Args:\n",
        "        X (string): text input.\n",
        "        word_to_idx (dictionary): word-index mapping with words as keys and\n",
        "                                  indices as values.\n",
        "\n",
        "        Returns:\n",
        "            dictionary: features of X.\n",
        "    \"\"\"\n",
        "\n",
        "    features = {}\n",
        "\n",
        "    X_split = X.split(' ')\n",
        "    for word in X_split:\n",
        "      if word in word_to_idx:\n",
        "        word_idx = word_to_idx[word]\n",
        "        features[word_idx] = features.get(word_idx, 0) + 1\n",
        "    # print(features)\n",
        "    return features"
      ]
    },
    {
      "cell_type": "code",
      "execution_count": null,
      "metadata": {
        "colab": {
          "base_uri": "https://localhost:8080/",
          "height": 367
        },
        "id": "2HiruQeAvMr0",
        "outputId": "c0fe61e3-c343-4d82-bd7b-8370641fd8bf"
      },
      "outputs": [
        {
          "ename": "NameError",
          "evalue": "name 're' is not defined",
          "output_type": "error",
          "traceback": [
            "\u001b[0;31m---------------------------------------------------------------------------\u001b[0m",
            "\u001b[0;31mNameError\u001b[0m                                 Traceback (most recent call last)",
            "Cell \u001b[0;32mIn[21], line 8\u001b[0m\n\u001b[1;32m      1\u001b[0m \u001b[38;5;66;03m# checking the outputs of the above functions on a small set of examples\u001b[39;00m\n\u001b[1;32m      3\u001b[0m sample_data \u001b[38;5;241m=\u001b[39m [\n\u001b[1;32m      4\u001b[0m     \u001b[38;5;124m\"\u001b[39m\u001b[38;5;124mWhen is the homework due ?\u001b[39m\u001b[38;5;124m\"\u001b[39m,\n\u001b[1;32m      5\u001b[0m     \u001b[38;5;124m\"\u001b[39m\u001b[38;5;124mWhen are the TAs\u001b[39m\u001b[38;5;124m'\u001b[39m\u001b[38;5;124m office hours ?\u001b[39m\u001b[38;5;124m\"\u001b[39m,\n\u001b[1;32m      6\u001b[0m     \u001b[38;5;124m\"\u001b[39m\u001b[38;5;124mhard how is the homework ?\u001b[39m\u001b[38;5;124m\"\u001b[39m,\n\u001b[1;32m      7\u001b[0m ]\n\u001b[0;32m----> 8\u001b[0m word_to_idx \u001b[38;5;241m=\u001b[39m \u001b[43mword_to_idx_BOW\u001b[49m\u001b[43m(\u001b[49m\u001b[43msample_data\u001b[49m\u001b[43m,\u001b[49m\u001b[38;5;241;43m13000\u001b[39;49m\u001b[43m)\u001b[49m\n\u001b[1;32m      9\u001b[0m features \u001b[38;5;241m=\u001b[39m extract_features_BoW(sample_data[\u001b[38;5;241m2\u001b[39m], word_to_idx)\n",
            "Cell \u001b[0;32mIn[20], line 45\u001b[0m, in \u001b[0;36mword_to_idx_BOW\u001b[0;34m(X_data, K)\u001b[0m\n\u001b[1;32m     43\u001b[0m \u001b[38;5;66;03m# Remove symbols and HTML tags, and lowercase the text\u001b[39;00m\n\u001b[1;32m     44\u001b[0m \u001b[38;5;28;01mfor\u001b[39;00m text \u001b[38;5;129;01min\u001b[39;00m X_data:\n\u001b[0;32m---> 45\u001b[0m     cleaned_text\u001b[38;5;241m.\u001b[39mappend(\u001b[43mre\u001b[49m\u001b[38;5;241m.\u001b[39msub(\u001b[38;5;124mr\u001b[39m\u001b[38;5;124m'\u001b[39m\u001b[38;5;124m<[^>]+>\u001b[39m\u001b[38;5;124m'\u001b[39m, \u001b[38;5;124m'\u001b[39m\u001b[38;5;124m'\u001b[39m, text))  \u001b[38;5;66;03m# Remove HTML tags\u001b[39;00m\n\u001b[1;32m     46\u001b[0m     cleaned_text[\u001b[38;5;241m-\u001b[39m\u001b[38;5;241m1\u001b[39m] \u001b[38;5;241m=\u001b[39m re\u001b[38;5;241m.\u001b[39msub(\u001b[38;5;124mr\u001b[39m\u001b[38;5;124m'\u001b[39m\u001b[38;5;124m[^A-Za-z\u001b[39m\u001b[38;5;124m\\\u001b[39m\u001b[38;5;124ms]\u001b[39m\u001b[38;5;124m'\u001b[39m, \u001b[38;5;124m'\u001b[39m\u001b[38;5;124m'\u001b[39m, cleaned_text[\u001b[38;5;241m-\u001b[39m\u001b[38;5;241m1\u001b[39m])  \u001b[38;5;66;03m# Remove symbols\u001b[39;00m\n\u001b[1;32m     47\u001b[0m     cleaned_text[\u001b[38;5;241m-\u001b[39m\u001b[38;5;241m1\u001b[39m] \u001b[38;5;241m=\u001b[39m cleaned_text[\u001b[38;5;241m-\u001b[39m\u001b[38;5;241m1\u001b[39m]\u001b[38;5;241m.\u001b[39mlower()  \u001b[38;5;66;03m# Convert text to lowercase\u001b[39;00m\n",
            "\u001b[0;31mNameError\u001b[0m: name 're' is not defined"
          ]
        }
      ],
      "source": [
        "# checking the outputs of the above functions on a small set of examples\n",
        "\n",
        "sample_data = [\n",
        "    \"When is the homework due ?\",\n",
        "    \"When are the TAs' office hours ?\",\n",
        "    \"hard how is the homework ?\",\n",
        "]\n",
        "word_to_idx = word_to_idx_BOW(sample_data,13000)\n",
        "features = extract_features_BoW(sample_data[2], word_to_idx)"
      ]
    },
    {
      "cell_type": "code",
      "execution_count": null,
      "metadata": {
        "id": "ErmQIuFWTpa_"
      },
      "outputs": [],
      "source": [
        "#@title Implement your feature weight learning for BoW classifier\n",
        "import numpy as np\n",
        "\n",
        "\n",
        "def get_learnable_weights_BoW(X_data, y_data, word_to_idx_BOW, extract_features_BoW):\n",
        "    \"\"\"\n",
        "    Learning feature weights for BoW features, using training data.\n",
        "\n",
        "    Args:\n",
        "        X_data (list of strings): All the text data points in training data.\n",
        "        Y_data (list of int): Ground truth labels for text data points in X_data.\n",
        "        word_to_idx_BOW: A Function that looks at all the words in data corpus X_data\n",
        "                         and returns word-index mapping. You had to implement\n",
        "                         word_to_idx_BOW() funtion above.\n",
        "        extract_features_BoW: A Function that extracts BoW features from text sample.\n",
        "                              The extract_features_BoW() function had to be implemented\n",
        "                              by you above.\n",
        "\n",
        "        Returns:\n",
        "            dictionary: feature names and their learned weights.\n",
        "    \"\"\"\n",
        "    model = LogisticRegression(max_iter=1000)\n",
        "    word_to_idx=word_to_idx_BOW(X_data,13000)\n",
        "    vocab_len=len(word_to_idx)\n",
        "    x_bow = []\n",
        "\n",
        "    for text in X_data:\n",
        "      features = extract_features_BoW(text,word_to_idx)\n",
        "      temp = np.zeros(vocab_len)\n",
        "      for key,val in features.items():\n",
        "        temp[key] = val\n",
        "      x_bow.append(temp)\n",
        "\n",
        "\n",
        "    # for x in x_bow:\n",
        "    #   print(x)\n",
        "    model.fit(x_bow,y_data)\n",
        "\n",
        "    feature_weights={}\n",
        "    for word, idx in word_to_idx.items():\n",
        "        feature_weights[word] = model.coef_[0][idx]\n",
        "\n",
        "    return feature_weights"
      ]
    },
    {
      "cell_type": "code",
      "execution_count": null,
      "metadata": {
        "id": "eJSKciYNYNXx",
        "outputId": "6f8e4977-9f80-48dd-c6b5-a041fd542929"
      },
      "outputs": [
        {
          "name": "stdout",
          "output_type": "stream",
          "text": [
            "EVALUATION of BoW classifier is: 84.675\n"
          ]
        }
      ],
      "source": [
        "#@title Evaluating your BoW classifier\n",
        "\n",
        "def predict(X, feature_weights,word_to_idx):\n",
        "    \"\"\"\n",
        "    Classifies the sentiment of a text input.\n",
        "\n",
        "    Args:\n",
        "        X (string): Text input.\n",
        "        feature_weights: weightage of different features.\n",
        "\n",
        "    Returns:\n",
        "        int: binary sentiment represented by 0/1.\n",
        "    \"\"\"\n",
        "    word_to_idx=word_to_idx\n",
        "    features = extract_features_BoW(X,word_to_idx)\n",
        "\n",
        "    score = 0.0\n",
        "\n",
        "    # Calculate the dot product of feature weights and features\n",
        "    for idx, count in features.items():\n",
        "      word=next((word for word,idx1 in word_to_idx.items() if idx==idx1))\n",
        "      if word is not None and word in feature_weights:  # Check if the word has a weight assigned\n",
        "        score += count * feature_weights[word]\n",
        "\n",
        "\n",
        "    # Apply a threshold to make a binary prediction\n",
        "    if score >= 0:\n",
        "      return 1\n",
        "    else:\n",
        "      return 0\n",
        "\n",
        "# get the sample weights\n",
        "BoW_feature_weights_lr = get_learnable_weights_BoW(X_train, y_train, word_to_idx_BOW , extract_features_BoW )\n",
        "predictions = []\n",
        "word_to_idx = word_to_idx_BOW(X_train,10000)\n",
        "for input_example in X_test:\n",
        "  y = predict(input_example, BoW_feature_weights_lr,word_to_idx)\n",
        "  predictions.append(y)\n",
        "\n",
        "print (f\"EVALUATION of BoW classifier is: {calculate_accuracy(y_test, predictions)}\")"
      ]
    },
    {
      "cell_type": "markdown",
      "metadata": {
        "id": "0DPrrDVmF4qs"
      },
      "source": [
        "## Finding most positive and most negative words (2 Marks)\n",
        "\n",
        "Based on the magnitude of weights corresponding to different words, write down code to find the 5 most positive words and 5 most negative words."
      ]
    },
    {
      "cell_type": "code",
      "execution_count": null,
      "metadata": {
        "id": "C6aX7UrbF_cx",
        "outputId": "5686a043-902c-43b6-ac54-ea2336f8a06e"
      },
      "outputs": [
        {
          "name": "stdout",
          "output_type": "stream",
          "text": [
            "EVALUATION five most positive words: wonderfully favorite subtitles amazing brutal\n",
            "EVALUATION five most negative words: waste poorly worst fails awful.\n"
          ]
        }
      ],
      "source": [
        "most_positive_words = []\n",
        "most_negative_words = []\n",
        "\n",
        "## WRITE CODE HERE TO POPULATE THESE LISTS\n",
        "## most_postive_words and most_negative_words should be list of strings\n",
        "most_positive_words = sorted(BoW_feature_weights_lr, key=BoW_feature_weights_lr.get, reverse=True)[:5]\n",
        "most_negative_words = sorted(BoW_feature_weights_lr, key=BoW_feature_weights_lr.get)[:5]\n",
        "\n",
        "\n",
        "assert (len(most_positive_words) == 5)\n",
        "assert (len(most_negative_words) == 5)\n",
        "\n",
        "print(\"EVALUATION five most positive words: \" + \" \".join(most_positive_words))\n",
        "print(\"EVALUATION five most negative words: \" + \" \".join(most_negative_words))"
      ]
    },
    {
      "cell_type": "markdown",
      "metadata": {
        "id": "z0ieW1R_Ggem"
      },
      "source": []
    },
    {
      "cell_type": "markdown",
      "metadata": {
        "id": "w48UudOSjLnh"
      },
      "source": [
        "## Part II Word2Vec (TA: Nicy Scaria)  (25 Marks)\n",
        "\n",
        "Word2vec is one of the most popular techniques to learn word embeddings. The idea behind word2vec was that the meaning of a word is determined by the context in which it occurs. A word embedding is a learned representation for text where words that have the same meaning have a similar representation.\n",
        "\n",
        "**Word2vec** model has 2 architectures:\n",
        "\n",
        "1. **Continuous bag of word (CBOW):**\n",
        "\n",
        "    CBOW predicts the center word from the surrounding context words.\n",
        "\n",
        "2. **Skip-gram:**\n",
        "\n",
        "    Skip-gram predicts surrounding context words from the center word."
      ]
    },
    {
      "cell_type": "markdown",
      "metadata": {
        "id": "baausB5gkhhT"
      },
      "source": [
        "#### SkipGram from Scratch\n",
        "\n",
        "In this exercise, you will code the skipgram model from scratch using the PyTorch library."
      ]
    },
    {
      "cell_type": "code",
      "execution_count": null,
      "metadata": {
        "id": "_LqI4ImZcP-I",
        "outputId": "06335552-b235-4d3e-e514-ad84b7c270d9"
      },
      "outputs": [
        {
          "name": "stdout",
          "output_type": "stream",
          "text": [
            "Requirement already satisfied: portalocker in /data/home/jaydeeps/.local/lib/python3.8/site-packages (2.8.2)\n",
            "Note: you may need to restart the kernel to use updated packages.\n"
          ]
        }
      ],
      "source": [
        "pip install portalocker #make sure you install the library and restart the session"
      ]
    },
    {
      "cell_type": "code",
      "execution_count": null,
      "metadata": {
        "id": "_pTSKA5fiVQs"
      },
      "outputs": [],
      "source": [
        "# importing the necessary libraries\n",
        "import torch\n",
        "from functools import partial\n",
        "import torch.nn as nn\n",
        "from torch.utils.data import DataLoader\n",
        "from torchtext.data import to_map_style_dataset\n",
        "from torchtext.data.utils import get_tokenizer\n",
        "from torchtext.vocab import build_vocab_from_iterator\n",
        "from torchtext.datasets import WikiText2\n",
        "import torch.optim as optim\n",
        "from torch.optim.lr_scheduler import LambdaLR\n",
        "\n",
        "import os\n",
        "import numpy as np\n",
        "import json\n",
        "import argparse"
      ]
    },
    {
      "cell_type": "markdown",
      "metadata": {
        "id": "6Lu8GMxMlZ0f"
      },
      "source": [
        "> **In the following code the add your hyperparameters for the network.**"
      ]
    },
    {
      "cell_type": "code",
      "execution_count": null,
      "metadata": {
        "id": "RZeXkPW6URMu"
      },
      "outputs": [],
      "source": [
        "# Initialization\n",
        "\n",
        "\n",
        "\"\"\"choose your hyperparameter and see the difference in performance\"\"\"\n",
        "\n",
        "# ADD YOUR CODE HERE\n",
        "\n",
        "# CHANGE THE None VALUES TO YOUR DESIRED VALUES\n",
        "# Please free to play with these hyperparameters to see the effects on the\n",
        "# quality of generated embeddings\n",
        "\n",
        "\n",
        "SKIPGRAM_N_WORDS = 3 # the length of the context on each side (k)\n",
        "\n",
        "MIN_WORD_FREQUENCY = 40 # only words with a minimum word frequency considered\n",
        "MAX_SEQUENCE_LENGTH = None # sentences with length more than this value truncated\n",
        "\n",
        "embedding_dim = 500 # dimension of the word2vec vectors\n",
        "\n",
        "EMBED_MAX_NORM = 4"
      ]
    },
    {
      "cell_type": "code",
      "execution_count": null,
      "metadata": {
        "id": "FxyJ0Q1fT62V"
      },
      "outputs": [],
      "source": [
        "def get_english_tokenizer():\n",
        "    \"\"\"\n",
        "    Documentation:\n",
        "    https://pytorch.org/text/stable/_modules/torchtext/data/utils.html#get_tokenizer\n",
        "    \"\"\"\n",
        "    tokenizer = get_tokenizer(\"basic_english\", language=\"en\")\n",
        "    return tokenizer\n",
        "\n",
        "def get_data_iterator(ds_name, ds_type, data_dir):\n",
        "    \"\"\"\n",
        "    input dataset used:\n",
        "    https://paperswithcode.com/dataset/wikitext-2\n",
        "    This is directly imported from PyTorch.\n",
        "    \"\"\"\n",
        "    data_iter = WikiText2(root=data_dir, split=(ds_type))\n",
        "    data_iter = to_map_style_dataset(data_iter)\n",
        "    return data_iter\n",
        "\n",
        "def build_vocab(data_iter, tokenizer):\n",
        "    \"\"\"Builds vocabulary from iterator\"\"\"\n",
        "\n",
        "    vocab = build_vocab_from_iterator(\n",
        "        map(tokenizer, data_iter),\n",
        "        specials=[\"<unk>\"], #adding special tokens to the vocabulary\n",
        "        min_freq=MIN_WORD_FREQUENCY,\n",
        "    )\n",
        "    vocab.set_default_index(vocab[\"<unk>\"])\n",
        "    return vocab\n",
        "\n",
        "\n",
        "def collate_skipgram(batch, text_pipeline):\n",
        "    \"\"\"\n",
        "    This function prepares data for training the skipgram model.\n",
        "    It generates pairs of center and context words from the batch of text.\n",
        "\n",
        "    batch: A batch of text data\n",
        "    text_pipeline: A pipeline function that processes text into tokens\n",
        "    (batch_input, batch_output) -> (center word, context words)\n",
        "    \"\"\"\n",
        "    batch_input, batch_output = [], []\n",
        "\n",
        "    # Process each text in the batch\n",
        "    for text in batch:\n",
        "        text_tokens_ids = text_pipeline(text)\n",
        "\n",
        "        # Skip texts shorter than the required window size\n",
        "        if len(text_tokens_ids) < SKIPGRAM_N_WORDS * 2 + 1:\n",
        "            continue\n",
        "\n",
        "        # Truncate texts to a maximum sequence length if specified\n",
        "        if MAX_SEQUENCE_LENGTH:\n",
        "            text_tokens_ids = text_tokens_ids[:MAX_SEQUENCE_LENGTH]\n",
        "\n",
        "        # Create training pairs for each word in the text\n",
        "        for idx in range(len(text_tokens_ids) - SKIPGRAM_N_WORDS * 2):\n",
        "            token_id_sequence = text_tokens_ids[idx : (idx + SKIPGRAM_N_WORDS * 2 + 1)]\n",
        "            input_ = token_id_sequence.pop(SKIPGRAM_N_WORDS)\n",
        "            outputs = token_id_sequence\n",
        "\n",
        "            # Add each context word with the center word to the output lists\n",
        "            for output in outputs:\n",
        "                batch_input.append(input_)\n",
        "                batch_output.append(output)\n",
        "\n",
        "    # Convert lists to PyTorch tensors\n",
        "    batch_input = torch.tensor(batch_input, dtype=torch.long)\n",
        "    batch_output = torch.tensor(batch_output, dtype=torch.long)\n",
        "\n",
        "    return batch_input, batch_output\n",
        "\n",
        "\n",
        "def get_dataloader_and_vocab(\n",
        "    model_name, ds_name, ds_type, data_dir, batch_size, shuffle, vocab=None\n",
        "    ):\n",
        "    \"\"\"\n",
        "    Prepares a DataLoader and builds a vocabulary for the dataset.\n",
        "    model_name: Name of the model to be used\n",
        "    ds_name: Name of the dataset\n",
        "    ds_type: Type of the dataset (e.g., train, test)\n",
        "    data_dir: Directory where the dataset is stored\n",
        "    batch_size: Size of each batch\n",
        "    vocab: An existing vocabulary, if available\n",
        "\n",
        "    \"\"\"\n",
        "\n",
        "    data_iter = get_data_iterator(ds_name, ds_type, data_dir)\n",
        "    tokenizer = get_english_tokenizer()\n",
        "\n",
        "    if not vocab:\n",
        "        vocab = build_vocab(data_iter, tokenizer)\n",
        "\n",
        "    text_pipeline = lambda x: vocab(tokenizer(x))\n",
        "\n",
        "    collate_fn = collate_skipgram\n",
        "\n",
        "    # creates a DataLoader for the dataset\n",
        "\n",
        "    \"\"\"\n",
        "    dataloader documentation\n",
        "    https://pytorch.org/docs/stable/data.html#torch.utils.data.DataLoader\n",
        "\n",
        "    \"\"\"\n",
        "    dataloader = DataLoader(\n",
        "        data_iter,\n",
        "        batch_size=batch_size,\n",
        "        shuffle=shuffle,\n",
        "        collate_fn=partial(collate_fn, text_pipeline=text_pipeline),\n",
        "        )\n",
        "\n",
        "    return dataloader, vocab\n"
      ]
    },
    {
      "cell_type": "markdown",
      "metadata": {
        "id": "-8Ap0SHCloMj"
      },
      "source": [
        "### Initialize the SkipGram Model\n",
        "\n",
        " **Complete the `initialization` and `forward` function in the following  SkipGram_Model class**"
      ]
    },
    {
      "cell_type": "code",
      "execution_count": null,
      "metadata": {
        "id": "2NNvSmAgYydH"
      },
      "outputs": [],
      "source": [
        "class SkipGram_Model(nn.Module):\n",
        "    \"\"\"\n",
        "    Implementation of Skip-Gram model described in paper:\n",
        "    https://arxiv.org/abs/1301.3781\n",
        "    \"\"\"\n",
        "    def __init__(self, vocab_size: int):\n",
        "        super(SkipGram_Model, self).__init__()\n",
        "        self.embedding = nn.Embedding(vocab_size, embedding_dim)\n",
        "        self.linear = nn.Linear(embedding_dim, vocab_size)\n",
        "        # Initialize embedding weights with Xavier initialization\n",
        "        nn.init.xavier_uniform_(self.embedding.weight)\n",
        "        nn.init.xavier_uniform_(self.linear.weight)\n",
        "\n",
        "\n",
        "    def forward(self, inputs_):\n",
        "        embedded = self.embedding(inputs_)  # Shape: (batch_size, embedding_dim)\n",
        "        output = self.linear(embedded)      # Shape: (batch_size, vocab_size)\n",
        "        return output\n",
        "\n",
        "    def get_word_embedding(self):\n",
        "        \"\"\"Return the associated word embeddings for center words\"\"\"\n",
        "        # return self.embedding.weight.detach().numpy()\n",
        "        embedding_weights = self.embedding.weight.data.cpu().numpy()\n",
        "\n",
        "        # Normalize the embeddings\n",
        "        normalized_embeddings = embedding_weights / np.linalg.norm(embedding_weights, axis=1, keepdims=True)\n",
        "\n",
        "        return normalized_embeddings"
      ]
    },
    {
      "cell_type": "markdown",
      "metadata": {
        "id": "fcqxAiTSlwbw"
      },
      "source": [
        "> **The following is the Trainer class for the skip-gram model. Add your code for the `training` and `validation` loops.**"
      ]
    },
    {
      "cell_type": "code",
      "execution_count": null,
      "metadata": {
        "id": "_wSYVSMlZFwA"
      },
      "outputs": [],
      "source": [
        "import os\n",
        "import json\n",
        "import torch\n",
        "\n",
        "class Trainer:\n",
        "    \"\"\"Main class for model training\"\"\"\n",
        "\n",
        "    def __init__(\n",
        "        self,\n",
        "        model,\n",
        "        epochs,\n",
        "        train_dataloader,\n",
        "        val_dataloader,\n",
        "        criterion,\n",
        "        optimizer,\n",
        "        device,\n",
        "        model_dir,\n",
        "        model_name,\n",
        "    ):\n",
        "        self.model = model\n",
        "        self.epochs = epochs\n",
        "        self.train_dataloader = train_dataloader\n",
        "        self.val_dataloader = val_dataloader\n",
        "        self.criterion = criterion\n",
        "        self.optimizer = optimizer\n",
        "        self.device = device\n",
        "        self.model_dir = model_dir\n",
        "        self.model_name = model_name\n",
        "        self.loss = {\"train\": [], \"val\": []}\n",
        "        self.model.to(self.device)\n",
        "\n",
        "    def train(self):\n",
        "        \"\"\"\n",
        "        Train the model for the specified number of epochs\n",
        "        \"\"\"\n",
        "        for epoch in range(self.epochs):\n",
        "            train_loss = 0.0\n",
        "            val_loss = 0.0\n",
        "\n",
        "            # Training loop\n",
        "            self.model.train()\n",
        "            for inputs, targets in self.train_dataloader:\n",
        "                inputs, targets = inputs.to(self.device), targets.to(self.device)\n",
        "                self.optimizer.zero_grad()\n",
        "                outputs = self.model(inputs)\n",
        "                loss = self.criterion(outputs, targets)\n",
        "                loss.backward()\n",
        "                self.optimizer.step()\n",
        "                train_loss += loss.item()\n",
        "\n",
        "            # Validation loop\n",
        "            self.model.eval()\n",
        "            with torch.no_grad():\n",
        "                for inputs, targets in self.val_dataloader:\n",
        "                    inputs, targets = inputs.to(self.device), targets.to(self.device)\n",
        "                    outputs = self.model(inputs)\n",
        "                    loss = self.criterion(outputs, targets)\n",
        "                    val_loss += loss.item()\n",
        "\n",
        "            # Calculate average loss for epoch\n",
        "            train_loss /= len(self.train_dataloader)\n",
        "            val_loss /= len(self.val_dataloader)\n",
        "\n",
        "            # Save train and val loss\n",
        "            self.loss['train'].append(train_loss)\n",
        "            self.loss['val'].append(val_loss)\n",
        "\n",
        "            print(f\"Epoch [{epoch+1}/{self.epochs}], Train Loss: {train_loss:.4f}, Val Loss: {val_loss:.4f}\")\n",
        "\n",
        "        # Save model and loss after training\n",
        "        self.save_model()\n",
        "        self.save_loss()\n",
        "\n",
        "    def save_model(self):\n",
        "        \"\"\"\n",
        "        Save final model to directory\n",
        "        \"\"\"\n",
        "        model_path = os.path.join(self.model_dir, \"model.pt\")\n",
        "        torch.save(self.model, model_path)\n",
        "\n",
        "    def save_loss(self):\n",
        "        \"\"\"\n",
        "        Save train/val loss as json file to the directory\n",
        "        \"\"\"\n",
        "        loss_path = os.path.join(self.model_dir, \"loss.json\")\n",
        "        with open(loss_path, \"w\") as fp:\n",
        "            json.dump(self.loss, fp)\n"
      ]
    },
    {
      "cell_type": "markdown",
      "metadata": {
        "id": "2BgM-DGTl4qy"
      },
      "source": [
        "> **The following code block defines the various parameters and nomenclature for the training and saving of the skip-gram model. Add numerical values for the `specified hyperparameters`.**"
      ]
    },
    {
      "cell_type": "code",
      "execution_count": null,
      "metadata": {
        "id": "LzoqreghaSgc"
      },
      "outputs": [],
      "source": [
        "# ADD YOUR CODE HERE\n",
        "# CHANGE THE None VALUES TO YOUR DESIRED VALUES\n",
        "\n",
        "model_name = 'skipgram'\n",
        "\n",
        "dataset = 'WikiText2'\n",
        "data_dir = './data/'\n",
        "train_batch_size = 65  # Choose an appropriate value\n",
        "val_batch_size = 65 # Choose an appropriate value\n",
        "shuffle = True\n",
        "\n",
        "optimizer = torch.optim.Adam  # Choose an optimizer, e.g., torch.optim.SGD\n",
        "learning_rate = 0.0009  # Choose a learning rate\n",
        "epochs = 10 # Choose the number of epochs\n",
        "\n",
        "# ADD YOUR CODE HERE\n",
        "# change the directory name with your SAPname and SRno\n",
        "\n",
        "model_dir = 'SAPname_SRno'\n"
      ]
    },
    {
      "cell_type": "markdown",
      "metadata": {
        "id": "DSE1qsvxmEdP"
      },
      "source": [
        "> **The following code block is used to train and save the model. Add the code wherever required**"
      ]
    },
    {
      "cell_type": "code",
      "execution_count": null,
      "metadata": {
        "colab": {
          "background_save": true,
          "base_uri": "https://localhost:8080/"
        },
        "id": "_zMDRVHMZWO6",
        "outputId": "0e16a1ae-1d86-413f-a00e-12cdd54559e0"
      },
      "outputs": [
        {
          "name": "stdout",
          "output_type": "stream",
          "text": [
            "Vocabulary size: 4911\n",
            "Epoch [1/10], Train Loss: 6.0236, Val Loss: 5.5756\n",
            "Epoch [2/10], Train Loss: 5.6229, Val Loss: 5.5250\n",
            "Epoch [3/10], Train Loss: 5.5751, Val Loss: 5.4967\n",
            "Epoch [4/10], Train Loss: 5.5431, Val Loss: 5.4785\n",
            "Epoch [5/10], Train Loss: 5.5186, Val Loss: 5.4685\n",
            "Epoch [6/10], Train Loss: 5.5004, Val Loss: 5.4628\n",
            "Epoch [7/10], Train Loss: 5.4839, Val Loss: 5.4577\n",
            "Epoch [8/10], Train Loss: 5.4696, Val Loss: 5.4536\n",
            "Epoch [9/10], Train Loss: 5.4588, Val Loss: 5.4489\n",
            "Epoch [10/10], Train Loss: 5.4472, Val Loss: 5.4477\n",
            "Training finished.\n",
            "Model artifacts saved to folder: SAPname_SRno\n"
          ]
        }
      ],
      "source": [
        "import shutil;\n",
        "shutil.rmtree('SAPname_SRno', ignore_errors=True)\n",
        "os.makedirs(model_dir)\n",
        "train_dataloader, vocab = get_dataloader_and_vocab(\n",
        "    model_name=model_name,\n",
        "    ds_name=dataset,\n",
        "    ds_type=\"train\",\n",
        "    data_dir=data_dir,\n",
        "    batch_size=train_batch_size,\n",
        "    shuffle=shuffle,\n",
        "    vocab=None,\n",
        ")\n",
        "\n",
        "val_dataloader, _ = get_dataloader_and_vocab(\n",
        "    model_name=model_name,\n",
        "    ds_name=dataset,\n",
        "    ds_type=\"valid\",\n",
        "    data_dir=data_dir,\n",
        "    batch_size=val_batch_size,\n",
        "    shuffle=shuffle,\n",
        "    vocab=vocab,\n",
        ")\n",
        "\n",
        "vocab_size = len(vocab.get_stoi())\n",
        "print(f\"Vocabulary size: {vocab_size}\")\n",
        "\n",
        "model_class = SkipGram_Model\n",
        "model = model_class(vocab_size=vocab_size)\n",
        "\n",
        "# Specify the loss criterion\n",
        "criterion = torch.nn.CrossEntropyLoss()\n",
        "\n",
        "# Specify the optimizer\n",
        "optimizer = torch.optim.Adam(model.parameters(), lr=learning_rate)\n",
        "\n",
        "device = torch.device(\"cuda\" if torch.cuda.is_available() else \"cpu\")\n",
        "\n",
        "# NOTE: if you are **optionally** using additional options for the trainer\n",
        "# (e.g., a training scheduler), please add them below.\n",
        "\n",
        "trainer = Trainer(\n",
        "    model=model,\n",
        "    epochs=epochs,\n",
        "    train_dataloader=train_dataloader,\n",
        "    val_dataloader=val_dataloader,\n",
        "    criterion=criterion,\n",
        "    optimizer=optimizer,\n",
        "    device=device,\n",
        "    model_dir=model_dir,\n",
        "    model_name=model_name,\n",
        ")\n",
        "\n",
        "trainer.train()\n",
        "print(\"Training finished.\")\n",
        "\n",
        "trainer.save_model()\n",
        "trainer.save_loss()\n",
        "vocab_path = os.path.join(model_dir, \"vocab.pt\")\n",
        "torch.save(vocab, vocab_path)\n",
        "print(\"Model artifacts saved to folder:\", model_dir)"
      ]
    },
    {
      "cell_type": "markdown",
      "metadata": {
        "id": "R1PKIac1mMsH"
      },
      "source": [
        "### Let us analyze the performance of the model\n",
        "\n",
        "You'll be evaluated on the quality of the word representations as judged by the word similarity test, and word analogy tests.\n"
      ]
    },
    {
      "cell_type": "code",
      "execution_count": null,
      "metadata": {
        "cellView": "form",
        "id": "x-K93nQt5CTZ"
      },
      "outputs": [],
      "source": [
        "#@title Evaluation\n",
        "\n",
        "import numpy as np\n",
        "import pandas as pd\n",
        "import torch\n",
        "import sys\n",
        "from sklearn.metrics.pairwise import cosine_similarity\n",
        "import seaborn as sns\n",
        "from sklearn.decomposition import PCA\n",
        "import matplotlib.pyplot as plt"
      ]
    },
    {
      "cell_type": "code",
      "execution_count": null,
      "metadata": {
        "id": "80d1lRiD7ms4"
      },
      "outputs": [],
      "source": [
        "# ADD YOUR CODE HERE\n",
        "# change the directory name with your SAPname and SRno\n",
        "\n",
        "folder = \"SAPname_SRno\"\n",
        "device = torch.device(\"cuda\" if torch.cuda.is_available() else \"cpu\")\n",
        "\n",
        "# load the saved model\n",
        "model = torch.load(f\"{folder}/model.pt\", map_location=device)\n",
        "vocab = torch.load(f\"{folder}/vocab.pt\")"
      ]
    },
    {
      "cell_type": "code",
      "execution_count": null,
      "metadata": {
        "id": "Wc9AMn5GVUKZ"
      },
      "outputs": [],
      "source": [
        "word_embeddings = model.get_word_embedding()\n",
        "\n",
        "# ADD YOUR CODE HERE\n",
        "# change the directory name with your SAPname and SRno\n",
        "\n",
        "# Save the embeddings to the folder\n",
        "np.save('SAPname_SRno/word_embeddings.npy', word_embeddings)"
      ]
    },
    {
      "cell_type": "markdown",
      "metadata": {
        "id": "21pPrbet--qJ"
      },
      "source": [
        "Once the embeddings are trained, we can use a few words to evaluate some desirable properties of word representations.\n",
        "\n",
        "For instance, whether similar words are indeed similar in the high-dimensional space?"
      ]
    },
    {
      "cell_type": "code",
      "execution_count": null,
      "metadata": {
        "id": "E7hq6o3z777b"
      },
      "outputs": [],
      "source": [
        "words = ['king', 'queen', 'river', 'water', 'ocean', 'tree', 'plant', 'happy', 'glad', 'mother', 'daughter']"
      ]
    },
    {
      "cell_type": "markdown",
      "metadata": {
        "id": "f5kAEr9rmYym"
      },
      "source": [
        "> **Write a code to find the similarity of the each word in words with eachother**"
      ]
    },
    {
      "cell_type": "code",
      "execution_count": null,
      "metadata": {
        "colab": {
          "base_uri": "https://localhost:8080/",
          "height": 332
        },
        "id": "dCXVzRrh8Dvu",
        "outputId": "0b133258-51e1-4b03-e011-e01d4d44796a"
      },
      "outputs": [
        {
          "name": "stdout",
          "output_type": "stream",
          "text": [
            "Word 'glad' not found in vocabulary.\n"
          ]
        }
      ],
      "source": [
        "def get_word_similarity(words, word_embeddings, vocab):\n",
        "    \"\"\"\n",
        "    This function takes the words as input and outputs the word vectors\n",
        "    corresponding to the words obtained from your word2vec model and the\n",
        "    similarity of every word with each other.\n",
        "\n",
        "    Args:\n",
        "    - words: List of words for which similarity needs to be calculated\n",
        "    - word_embeddings: Numpy array of word embeddings\n",
        "    - vocab: Vocabulary object containing word-to-index mapping\n",
        "\n",
        "    Returns:\n",
        "    - word_embeddings: Word embeddings corresponding to the given words\n",
        "    - w2v_similarity: Similarity matrix between each pair of words\n",
        "    \"\"\"\n",
        "    # Initialize an empty similarity matrix\n",
        "    w2v_similarity = np.zeros((len(words), len(words)))\n",
        "\n",
        "    # Retrieve word embeddings for the given words\n",
        "    word2vec = []\n",
        "    for word in words:\n",
        "        if word in vocab:\n",
        "            word_idx = vocab[word]\n",
        "            word_vec = word_embeddings[word_idx]\n",
        "            word2vec.append(word_vec)\n",
        "        else:\n",
        "            print(f\"Word '{word}' not found in vocabulary.\")\n",
        "            word2vec.append(np.zeros_like(word_embeddings[0]))  # Use zero vector for out-of-vocabulary words\n",
        "\n",
        "    # Calculate cosine similarity between each pair of word embeddings\n",
        "    for i in range(len(words)):\n",
        "        for j in range(len(words)):\n",
        "            similarity = cosine_similarity([word2vec[i]], [word2vec[j]])[0][0]\n",
        "            w2v_similarity[i][j] = similarity\n",
        "\n",
        "    return np.array(word2vec), w2v_similarity\n",
        "\n",
        "# Assuming you have already obtained the word embeddings from your model\n",
        "# Replace 'word_embeddings' with the actual word embedding matrix obtained from your skipgram model\n",
        "word2vec, w2v_similarity = get_word_similarity(words, word_embeddings, vocab.get_stoi())\n",
        "\n"
      ]
    },
    {
      "cell_type": "markdown",
      "metadata": {
        "id": "ZrUjGgstmhx8"
      },
      "source": [
        "Let us visualize this similarity matrix. The similarity of each word with other words in words is displayed as a pandas dataframe and as a heatmap"
      ]
    },
    {
      "cell_type": "code",
      "execution_count": null,
      "metadata": {
        "colab": {
          "base_uri": "https://localhost:8080/",
          "height": 176
        },
        "id": "q8OVhSUZ8LZT",
        "outputId": "e1e040d6-8892-436f-a2e6-81c7766d82e5"
      },
      "outputs": [
        {
          "data": {
            "text/html": [
              "<div>\n",
              "<style scoped>\n",
              "    .dataframe tbody tr th:only-of-type {\n",
              "        vertical-align: middle;\n",
              "    }\n",
              "\n",
              "    .dataframe tbody tr th {\n",
              "        vertical-align: top;\n",
              "    }\n",
              "\n",
              "    .dataframe thead th {\n",
              "        text-align: right;\n",
              "    }\n",
              "</style>\n",
              "<table border=\"1\" class=\"dataframe\">\n",
              "  <thead>\n",
              "    <tr style=\"text-align: right;\">\n",
              "      <th></th>\n",
              "      <th>king</th>\n",
              "      <th>queen</th>\n",
              "      <th>river</th>\n",
              "      <th>water</th>\n",
              "      <th>ocean</th>\n",
              "      <th>tree</th>\n",
              "      <th>plant</th>\n",
              "      <th>happy</th>\n",
              "      <th>glad</th>\n",
              "      <th>mother</th>\n",
              "      <th>daughter</th>\n",
              "    </tr>\n",
              "  </thead>\n",
              "  <tbody>\n",
              "    <tr>\n",
              "      <th>king</th>\n",
              "      <td>1.000000</td>\n",
              "      <td>0.564151</td>\n",
              "      <td>0.178261</td>\n",
              "      <td>0.109615</td>\n",
              "      <td>0.020693</td>\n",
              "      <td>0.084330</td>\n",
              "      <td>0.046915</td>\n",
              "      <td>0.220357</td>\n",
              "      <td>0.0</td>\n",
              "      <td>0.392888</td>\n",
              "      <td>0.485483</td>\n",
              "    </tr>\n",
              "    <tr>\n",
              "      <th>queen</th>\n",
              "      <td>0.564151</td>\n",
              "      <td>1.000000</td>\n",
              "      <td>0.209025</td>\n",
              "      <td>0.091988</td>\n",
              "      <td>0.018317</td>\n",
              "      <td>0.184676</td>\n",
              "      <td>0.084488</td>\n",
              "      <td>0.131392</td>\n",
              "      <td>0.0</td>\n",
              "      <td>0.498618</td>\n",
              "      <td>0.532140</td>\n",
              "    </tr>\n",
              "    <tr>\n",
              "      <th>river</th>\n",
              "      <td>0.178261</td>\n",
              "      <td>0.209025</td>\n",
              "      <td>1.000000</td>\n",
              "      <td>0.379523</td>\n",
              "      <td>0.290403</td>\n",
              "      <td>0.353195</td>\n",
              "      <td>0.292661</td>\n",
              "      <td>0.023462</td>\n",
              "      <td>0.0</td>\n",
              "      <td>0.114654</td>\n",
              "      <td>0.042450</td>\n",
              "    </tr>\n",
              "    <tr>\n",
              "      <th>water</th>\n",
              "      <td>0.109615</td>\n",
              "      <td>0.091988</td>\n",
              "      <td>0.379523</td>\n",
              "      <td>1.000000</td>\n",
              "      <td>0.383464</td>\n",
              "      <td>0.393326</td>\n",
              "      <td>0.445696</td>\n",
              "      <td>0.131842</td>\n",
              "      <td>0.0</td>\n",
              "      <td>0.081642</td>\n",
              "      <td>0.026648</td>\n",
              "    </tr>\n",
              "    <tr>\n",
              "      <th>ocean</th>\n",
              "      <td>0.020693</td>\n",
              "      <td>0.018317</td>\n",
              "      <td>0.290403</td>\n",
              "      <td>0.383464</td>\n",
              "      <td>1.000000</td>\n",
              "      <td>0.342749</td>\n",
              "      <td>0.277739</td>\n",
              "      <td>0.036294</td>\n",
              "      <td>0.0</td>\n",
              "      <td>-0.025333</td>\n",
              "      <td>-0.112438</td>\n",
              "    </tr>\n",
              "    <tr>\n",
              "      <th>tree</th>\n",
              "      <td>0.084330</td>\n",
              "      <td>0.184676</td>\n",
              "      <td>0.353195</td>\n",
              "      <td>0.393326</td>\n",
              "      <td>0.342749</td>\n",
              "      <td>1.000000</td>\n",
              "      <td>0.483085</td>\n",
              "      <td>0.223200</td>\n",
              "      <td>0.0</td>\n",
              "      <td>0.214242</td>\n",
              "      <td>0.188025</td>\n",
              "    </tr>\n",
              "    <tr>\n",
              "      <th>plant</th>\n",
              "      <td>0.046915</td>\n",
              "      <td>0.084488</td>\n",
              "      <td>0.292661</td>\n",
              "      <td>0.445696</td>\n",
              "      <td>0.277739</td>\n",
              "      <td>0.483085</td>\n",
              "      <td>1.000000</td>\n",
              "      <td>0.149028</td>\n",
              "      <td>0.0</td>\n",
              "      <td>0.124801</td>\n",
              "      <td>0.110677</td>\n",
              "    </tr>\n",
              "    <tr>\n",
              "      <th>happy</th>\n",
              "      <td>0.220357</td>\n",
              "      <td>0.131392</td>\n",
              "      <td>0.023462</td>\n",
              "      <td>0.131842</td>\n",
              "      <td>0.036294</td>\n",
              "      <td>0.223200</td>\n",
              "      <td>0.149028</td>\n",
              "      <td>1.000000</td>\n",
              "      <td>0.0</td>\n",
              "      <td>0.286319</td>\n",
              "      <td>0.310305</td>\n",
              "    </tr>\n",
              "    <tr>\n",
              "      <th>glad</th>\n",
              "      <td>0.000000</td>\n",
              "      <td>0.000000</td>\n",
              "      <td>0.000000</td>\n",
              "      <td>0.000000</td>\n",
              "      <td>0.000000</td>\n",
              "      <td>0.000000</td>\n",
              "      <td>0.000000</td>\n",
              "      <td>0.000000</td>\n",
              "      <td>0.0</td>\n",
              "      <td>0.000000</td>\n",
              "      <td>0.000000</td>\n",
              "    </tr>\n",
              "    <tr>\n",
              "      <th>mother</th>\n",
              "      <td>0.392888</td>\n",
              "      <td>0.498618</td>\n",
              "      <td>0.114654</td>\n",
              "      <td>0.081642</td>\n",
              "      <td>-0.025333</td>\n",
              "      <td>0.214242</td>\n",
              "      <td>0.124801</td>\n",
              "      <td>0.286319</td>\n",
              "      <td>0.0</td>\n",
              "      <td>1.000000</td>\n",
              "      <td>0.766205</td>\n",
              "    </tr>\n",
              "    <tr>\n",
              "      <th>daughter</th>\n",
              "      <td>0.485483</td>\n",
              "      <td>0.532140</td>\n",
              "      <td>0.042450</td>\n",
              "      <td>0.026648</td>\n",
              "      <td>-0.112438</td>\n",
              "      <td>0.188025</td>\n",
              "      <td>0.110677</td>\n",
              "      <td>0.310305</td>\n",
              "      <td>0.0</td>\n",
              "      <td>0.766205</td>\n",
              "      <td>1.000000</td>\n",
              "    </tr>\n",
              "  </tbody>\n",
              "</table>\n",
              "</div>"
            ],
            "text/plain": [
              "              king     queen     river     water     ocean      tree  \\\n",
              "king      1.000000  0.564151  0.178261  0.109615  0.020693  0.084330   \n",
              "queen     0.564151  1.000000  0.209025  0.091988  0.018317  0.184676   \n",
              "river     0.178261  0.209025  1.000000  0.379523  0.290403  0.353195   \n",
              "water     0.109615  0.091988  0.379523  1.000000  0.383464  0.393326   \n",
              "ocean     0.020693  0.018317  0.290403  0.383464  1.000000  0.342749   \n",
              "tree      0.084330  0.184676  0.353195  0.393326  0.342749  1.000000   \n",
              "plant     0.046915  0.084488  0.292661  0.445696  0.277739  0.483085   \n",
              "happy     0.220357  0.131392  0.023462  0.131842  0.036294  0.223200   \n",
              "glad      0.000000  0.000000  0.000000  0.000000  0.000000  0.000000   \n",
              "mother    0.392888  0.498618  0.114654  0.081642 -0.025333  0.214242   \n",
              "daughter  0.485483  0.532140  0.042450  0.026648 -0.112438  0.188025   \n",
              "\n",
              "             plant     happy  glad    mother  daughter  \n",
              "king      0.046915  0.220357   0.0  0.392888  0.485483  \n",
              "queen     0.084488  0.131392   0.0  0.498618  0.532140  \n",
              "river     0.292661  0.023462   0.0  0.114654  0.042450  \n",
              "water     0.445696  0.131842   0.0  0.081642  0.026648  \n",
              "ocean     0.277739  0.036294   0.0 -0.025333 -0.112438  \n",
              "tree      0.483085  0.223200   0.0  0.214242  0.188025  \n",
              "plant     1.000000  0.149028   0.0  0.124801  0.110677  \n",
              "happy     0.149028  1.000000   0.0  0.286319  0.310305  \n",
              "glad      0.000000  0.000000   0.0  0.000000  0.000000  \n",
              "mother    0.124801  0.286319   0.0  1.000000  0.766205  \n",
              "daughter  0.110677  0.310305   0.0  0.766205  1.000000  "
            ]
          },
          "execution_count": 28,
          "metadata": {},
          "output_type": "execute_result"
        }
      ],
      "source": [
        "pd.DataFrame(w2v_similarity, columns = words, index = words)"
      ]
    },
    {
      "cell_type": "code",
      "execution_count": null,
      "metadata": {
        "colab": {
          "base_uri": "https://localhost:8080/",
          "height": 176
        },
        "id": "9AWL0kqAmqsK",
        "outputId": "46a191f0-41f7-4a34-828b-07d13c992074"
      },
      "outputs": [
        {
          "data": {
            "text/plain": [
              "<Axes: >"
            ]
          },
          "execution_count": 29,
          "metadata": {},
          "output_type": "execute_result"
        },
        {
          "data": {
            "image/png": "[encoded data removed]",
            "text/plain": [
              "<Figure size 640x480 with 2 Axes>"
            ]
          },
          "metadata": {},
          "output_type": "display_data"
        }
      ],
      "source": [
        "sns.heatmap(pd.DataFrame(w2v_similarity, columns = words, index = words))"
      ]
    },
    {
      "cell_type": "markdown",
      "metadata": {
        "id": "V12MD_EumuA7"
      },
      "source": [
        "The size of the words embedding are reduced to to 2D and displayed as a scatterplot for analysis"
      ]
    },
    {
      "cell_type": "code",
      "execution_count": null,
      "metadata": {
        "id": "AF9qSiwNmwzw"
      },
      "outputs": [],
      "source": [
        "# Create a 2-dimensional PCA model of the word vectors using the scikit-learn PCA class\n",
        "# n_components in PCA specifies the no.of dimensions\n",
        "pca = PCA(n_components=2)\n",
        "\n",
        "# Fit and transform the vectors using PCA model\n",
        "reduced_w2v = pca.fit_transform(word2vec)"
      ]
    },
    {
      "cell_type": "code",
      "execution_count": null,
      "metadata": {
        "id": "kS9QF8AE8MTG",
        "outputId": "e5410adc-09c1-4ce3-f357-c0bfddea67a0"
      },
      "outputs": [
        {
          "data": {
            "image/png": "[encoded data removed]",
            "text/plain": [
              "<Figure size 800x500 with 1 Axes>"
            ]
          },
          "metadata": {},
          "output_type": "display_data"
        }
      ],
      "source": [
        "plt.figure(figsize=(8,5))\n",
        "plt.scatter(reduced_w2v[:,0],reduced_w2v[:,1], s = 12, color = 'red')\n",
        "plt.xlim([-2,2])\n",
        "plt.ylim([-2,2])\n",
        "x, y = reduced_w2v[:,0] , reduced_w2v[:,1]\n",
        "offset = 0.5\n",
        "for i in range(len(x)):\n",
        "    label = words[i]\n",
        "    xi, yi = x[i], y[i]\n",
        "    plt.annotate(label, (xi, yi), xytext=(xi + offset, yi + offset),\n",
        "                 textcoords='offset points', ha='center', va='center')\n",
        "\n",
        "plt.savefig(\"word_similarity.png\")"
      ]
    },
    {
      "cell_type": "markdown",
      "metadata": {
        "id": "p4w3UUE1m4W_"
      },
      "source": [
        "The 10 most similar word to the given word is calculated in the following code blocks"
      ]
    },
    {
      "cell_type": "code",
      "execution_count": null,
      "metadata": {
        "id": "cvXS4uzd8O7W"
      },
      "outputs": [],
      "source": [
        "def get_top_similar(word: str, topN: int = 10):\n",
        "    \"\"\"\n",
        "    This function calculates the topN words similar to the input word.\n",
        "    If the word is not in vocabulary, then similarity is not calculated.\n",
        "    If the word is in the vocabulary, then the dot product of the embedding\n",
        "    matrix and the word vector is calculated. The topN words are selected.\n",
        "    \"\"\"\n",
        "    word_id = vocab[word]\n",
        "    if word_id == 0:\n",
        "        print(\"Out of vocabulary word\")\n",
        "        return\n",
        "\n",
        "    word_vec = model.get_word_embedding()[word_id]  # Corrected line\n",
        "    word_vec = np.reshape(word_vec, (len(word_vec), 1))\n",
        "\n",
        "    dists = np.matmul(model.get_word_embedding(), word_vec).flatten()  # Corrected line\n",
        "    topN_indices = np.argsort(-dists)[1 : topN + 1]\n",
        "\n",
        "    topN_words = []\n",
        "    for sim_word_id in topN_indices:\n",
        "        sim_word = vocab.lookup_token(sim_word_id)\n",
        "        topN_words.append(sim_word)\n",
        "\n",
        "    return topN_words\n"
      ]
    },
    {
      "cell_type": "code",
      "execution_count": null,
      "metadata": {
        "id": "atY4cy0J8Tfi",
        "outputId": "d291cfe0-2dd2-48a2-93e8-33ef1b2c100e"
      },
      "outputs": [
        {
          "name": "stdout",
          "output_type": "stream",
          "text": [
            "Similar word to 'india': argentina\n",
            "Similar word to 'india': brazil\n",
            "Similar word to 'india': survey\n",
            "Similar word to 'india': archaeology\n",
            "Similar word to 'india': somalia\n",
            "Similar word to 'india': mozambique\n",
            "Similar word to 'india': china\n",
            "Similar word to 'india': croatia\n",
            "Similar word to 'india': egypt\n",
            "Similar word to 'india': mogadishu\n"
          ]
        }
      ],
      "source": [
        "similar_words = get_top_similar(\"india\")\n",
        "for word in similar_words:\n",
        "    print(\"Similar word to 'india':\", word)\n"
      ]
    },
    {
      "cell_type": "code",
      "execution_count": null,
      "metadata": {
        "id": "NJfrJ-7rGgey",
        "outputId": "c47143f0-d81a-499c-e869-f5e40538a48f"
      },
      "outputs": [
        {
          "name": "stdout",
          "output_type": "stream",
          "text": [
            "Similar word to 'water': steel\n",
            "Similar word to 'water': fuel\n",
            "Similar word to 'water': radiation\n",
            "Similar word to 'water': oil\n",
            "Similar word to 'water': mechanical\n",
            "Similar word to 'water': mine\n",
            "Similar word to 'water': armor\n",
            "Similar word to 'water': batteries\n",
            "Similar word to 'water': tanks\n",
            "Similar word to 'water': water\n"
          ]
        }
      ],
      "source": [
        "similar_words = get_top_similar(\"coal\")\n",
        "for word in similar_words:\n",
        "    print(\"Similar word to 'water':\", word)\n"
      ]
    },
    {
      "cell_type": "markdown",
      "metadata": {
        "id": "Iz-elU-5nAL1"
      },
      "source": [
        "### Analogy Tests\n",
        "\n",
        "Analogy tests include questions of the format a:b::x:?, such tests are used to intrinsically evaluate the quality of word vectors.\n",
        "\n",
        "Here's one example."
      ]
    },
    {
      "cell_type": "code",
      "execution_count": null,
      "metadata": {
        "id": "-KrTVR2BnC9N",
        "outputId": "158eeb85-58c4-49c4-cca7-3fb631b993b9"
      },
      "outputs": [
        {
          "name": "stdout",
          "output_type": "stream",
          "text": [
            "king: 0.942\n",
            "husband: 0.773\n",
            "pope: 0.672\n",
            "lord: 0.600\n",
            "philip: 0.591\n"
          ]
        }
      ],
      "source": [
        "def get_analogy(word_1, word_2, word_3):\n",
        "\n",
        "  \"\"\"\n",
        "  top 5 most analgous vector calculated correspond to a set similar to\n",
        "  man: woman :: king: ? . This is calculated similar to the above case.\n",
        "\n",
        "  \"\"\"\n",
        "\n",
        "  emb1 = model.get_word_embedding()[vocab[word_1]]\n",
        "  emb2 = model.get_word_embedding()[vocab[word_2]]\n",
        "  emb3 = model.get_word_embedding()[vocab[word_3]]\n",
        "\n",
        "  emb4 = emb1 - emb2 + emb3\n",
        "\n",
        "  # compute dot products between 'emb4' and all word embeddings in the model.\n",
        "  emb4 = np.reshape(emb4, (len(emb4), 1))\n",
        "  dot_product = np.matmul(model.get_word_embedding(), emb4).flatten()\n",
        "\n",
        "  top5 = np.argsort(-dot_product)[:5]\n",
        "\n",
        "  return top5, dot_product\n",
        "\n",
        "top5_analogy, dot_product = get_analogy('husband', 'wife', 'king')\n",
        "\n",
        "for word_id in top5_analogy:\n",
        "    print(\"{}: {:.3f}\".format(vocab.lookup_token(word_id), dot_product[word_id]))"
      ]
    },
    {
      "cell_type": "code",
      "execution_count": null,
      "metadata": {
        "id": "9bRQDHT5Ggez",
        "outputId": "d9b79f49-a67c-45fa-b66b-4ffb6395df0e"
      },
      "outputs": [
        {
          "name": "stdout",
          "output_type": "stream",
          "text": [
            "king: 0.989\n",
            "man: 0.653\n",
            "pope: 0.640\n",
            "henry: 0.629\n",
            "frederick: 0.627\n"
          ]
        }
      ],
      "source": [
        "def get_analogy(word_1, word_2, word_3):\n",
        "\n",
        "  \"\"\"\n",
        "  top 5 most analgous vector calculated correspond to a set similar to\n",
        "  man: woman :: king: ? . This is calculated similar to the above case.\n",
        "\n",
        "  \"\"\"\n",
        "\n",
        "  emb1 = model.get_word_embedding()[vocab[word_1]]\n",
        "  emb2 = model.get_word_embedding()[vocab[word_2]]\n",
        "  emb3 = model.get_word_embedding()[vocab[word_3]]\n",
        "\n",
        "  emb4 = emb1 - emb2 + emb3\n",
        "\n",
        "  # compute dot products between 'emb4' and all word embeddings in the model.\n",
        "  emb4 = np.reshape(emb4, (len(emb4), 1))\n",
        "  dot_product = np.matmul(model.get_word_embedding(), emb4).flatten()\n",
        "\n",
        "  top5 = np.argsort(-dot_product)[:5]\n",
        "\n",
        "  return top5, dot_product\n",
        "\n",
        "top5_analogy, dot_product = get_analogy('man', 'woman', 'king')\n",
        "\n",
        "for word_id in top5_analogy:\n",
        "    print(\"{}: {:.3f}\".format(vocab.lookup_token(word_id), dot_product[word_id]))"
      ]
    },
    {
      "cell_type": "markdown",
      "metadata": {
        "id": "VKTVUVPEnGVN"
      },
      "source": [
        "The model performance will be evaluated based on an analogy output for the top 5 words. The following code will used to evaluate the performance of the model on the analogies dataset. We will measure how often the correct answer is a part of the top 5 options."
      ]
    },
    {
      "cell_type": "code",
      "execution_count": null,
      "metadata": {
        "id": "f2hbpb_h5KgN"
      },
      "outputs": [],
      "source": [
        "# Downloading the file containing a few analogies.\n",
        "# We will change the contents of this file while testing.\n",
        "\n",
        "# !wget -O analogies.txt \"https://drive.google.com/uc?export=download&id=1jHx25dECegjtRKBB587nEfHiJesrH0g2\""
      ]
    },
    {
      "cell_type": "code",
      "execution_count": null,
      "metadata": {
        "id": "obbMdoMe1Tw7"
      },
      "outputs": [],
      "source": [
        "import random\n",
        "random.seed(42)\n",
        "\n",
        "def load_and_sample_analogies(file_path, sample_size=5000):\n",
        "    with open(file_path, 'r') as file:\n",
        "        analogies = []\n",
        "        for line in file:\n",
        "            # Split the line into words and ensure it has exactly 4 elements\n",
        "            parts = line.strip().split()\n",
        "            if len(parts) == 4:\n",
        "                analogies.append(parts)\n",
        "\n",
        "        # Sample analogies\n",
        "        sampled_analogies = random.sample(analogies, min(sample_size, len(analogies)))\n",
        "        return sampled_analogies\n",
        "\n",
        "# Path to your text file\n",
        "# NOTE: analogies used for grading could be slightly different\n",
        "file_path = 'analogies.txt'\n",
        "\n",
        "# Load and sample analogies\n",
        "sampled_analogy_dataset = load_and_sample_analogies(file_path)"
      ]
    },
    {
      "cell_type": "code",
      "execution_count": null,
      "metadata": {
        "id": "TuLvO2cV1W2j",
        "outputId": "aca84dfb-9b34-4b8e-8c09-a58af57d638b"
      },
      "outputs": [
        {
          "name": "stdout",
          "output_type": "stream",
          "text": [
            "EVALUATION: Precision at 5 for the analogy test is 0.4512743628185907\n"
          ]
        }
      ],
      "source": [
        "def get_word_id(word, vocab):\n",
        "    \"\"\"check for out of vocabulary items\"\"\"\n",
        "    return vocab[word] if word in vocab else 0\n",
        "\n",
        "def analogy_score(analogy_dataset):\n",
        "    \"\"\"\n",
        "    The top5 analogous words calculated for each set of words for your\n",
        "    implementation of word2vec and compared with an existing dataset to\n",
        "    calculate if the expected word is in the first 5 predictions.\n",
        "    \"\"\"\n",
        "\n",
        "    correct = 0\n",
        "    total = 0\n",
        "\n",
        "    for a, b, c, d in analogy_dataset:\n",
        "        # Convert words to lowercase\n",
        "        a, b, c, d = a.lower(), b.lower(), c.lower(), d.lower()\n",
        "\n",
        "        # Check if any word is out of vocabulary\n",
        "        if 0 in [get_word_id(word, vocab) for word in [a, b, c, d]]:\n",
        "            continue\n",
        "\n",
        "        #finding the first five words that are analogous to the given set\n",
        "        top5_analogy, dot_product = get_analogy(c, a, b)\n",
        "\n",
        "        predicted_words = []\n",
        "\n",
        "        for word_id in top5_analogy:\n",
        "            word = vocab.lookup_token(word_id)\n",
        "            predicted_words.append(word)\n",
        "\n",
        "        if d in predicted_words:\n",
        "            correct += 1\n",
        "\n",
        "        total += 1\n",
        "\n",
        "    precision_at_5 = correct / total if total > 0 else 0\n",
        "    return precision_at_5\n",
        "\n",
        "precision_at_5 = analogy_score(sampled_analogy_dataset)\n",
        "print(\"EVALUATION: Precision at 5 for the analogy test is\", precision_at_5)"
      ]
    },
    {
      "cell_type": "markdown",
      "metadata": {
        "id": "VwjiemeOnKvj"
      },
      "source": [
        "#### Google's word2vec for comparison\n",
        "\n",
        "In the following code blocks, the pretained word2vec developed by Google is used to analyze the quality of the embedding. The word2vec model can be downloaded from [here](https://drive.google.com/file/d/0B7XkCwpI5KDYNlNUTTlSS21pQmM/edit?usp=sharing)."
      ]
    },
    {
      "cell_type": "code",
      "execution_count": null,
      "metadata": {
        "id": "2KhiakvJ3wwe"
      },
      "outputs": [],
      "source": [
        "# !wget -O GoogleNews-vectors-negative300.bin \"https://drive.google.com/uc?export=download&id=12Oicgl5scdJLR7t8jbzKpW6o8QkYOylg\""
      ]
    },
    {
      "cell_type": "code",
      "execution_count": null,
      "metadata": {
        "id": "KNMjvv4K2xd0"
      },
      "outputs": [],
      "source": [
        "import bs4\n",
        "import requests\n",
        "import tqdm.auto as tqdm\n",
        "\n",
        "def download_from_drive(drive_link, target_path):\n",
        "    response = requests.get(drive_link, stream=True)\n",
        "    response.raise_for_status()\n",
        "    if 'html' in response.headers['Content-Type']:\n",
        "        response = requests.get(drive_link)\n",
        "        response.raise_for_status()\n",
        "        page = bs4.BeautifulSoup(response.text, features=\"lxml\")\n",
        "        if form := page.find('form', id='download-form'):\n",
        "            id   = form.select_one(\"input[name='id']\")['value']\n",
        "            uuid = form.select_one(\"input[name='uuid']\")['value']\n",
        "            data = { 'confirm': 't', 'export': 'download', 'id': id, 'uuid': uuid }\n",
        "            response = requests.get(page.find('form')['action'], params=data, stream=True)\n",
        "            response.raise_for_status()\n",
        "    with open(target_path, 'wb+') as file:\n",
        "        with tqdm.tqdm(\n",
        "            total=int(response.headers['Content-Length']),\n",
        "            unit='B', unit_scale=True, unit_divisor=1024\n",
        "        ) as pbar:\n",
        "            for chunk in response.iter_content(chunk_size=4096):\n",
        "                file.write(chunk)\n",
        "                pbar.update(len(chunk))\n",
        "    print(\"Downloaded to\", target_path)\n",
        "\n",
        "drive_link = \"https://drive.google.com/uc?export=download&id=12Oicgl5scdJLR7t8jbzKpW6o8QkYOylg\"\n",
        "target_path = \"/home/kd/Kevin_Mtech/Kevin/chinmay/GoogleNews-vectors-negative300.bin\"\n",
        "\n",
        "# download_from_drive(drive_link, target_path)"
      ]
    },
    {
      "cell_type": "code",
      "execution_count": null,
      "metadata": {
        "id": "mzoahZOUnQIO"
      },
      "outputs": [],
      "source": [
        "import gensim\n",
        "\n",
        "# Load Google news 300 vectors file\n",
        "model = gensim.models.KeyedVectors.load_word2vec_format(\"/home/kd/Kevin_Mtech/Kevin/chinmay/GoogleNews-vectors-negative300.bin\", binary=True, limit=500000)"
      ]
    },
    {
      "cell_type": "code",
      "execution_count": null,
      "metadata": {
        "id": "ep71XY238WpV"
      },
      "outputs": [],
      "source": [
        "# List of words to plot the embeddings\n",
        "words = ['king', 'queen', 'river', 'water', 'ocean', 'tree', 'plant', 'happy', 'glad', 'mother', 'daughter']"
      ]
    },
    {
      "cell_type": "markdown",
      "metadata": {
        "id": "kLUtqxPrnWV9"
      },
      "source": [
        "> **Write a code to find the similarity of the each word in words with eachother using original word2vec**"
      ]
    },
    {
      "cell_type": "code",
      "execution_count": null,
      "metadata": {
        "id": "4QLcfJvvnYl9"
      },
      "outputs": [],
      "source": [
        "def get_word_similarity(words):\n",
        "    \"\"\"\n",
        "    This function takes the words as input and outputs the word vectors\n",
        "    corresponding to the words using Google's word2vec and the similarity of\n",
        "    every word with each other. word2vec is the embedding matrix for the words\n",
        "    given above w2v_similarity[i][j] should contain the similarity of word i with j\n",
        "    \"\"\"\n",
        "\n",
        "    # Initialize an empty list to store word vectors\n",
        "    word_vectors = []\n",
        "\n",
        "    # Get word vectors for each word\n",
        "    for word in words:\n",
        "        try:\n",
        "            vector = model[word]\n",
        "            word_vectors.append(vector)\n",
        "        except KeyError:\n",
        "            print(f\"Word '{word}' not found in the model vocabulary.\")\n",
        "\n",
        "    # Compute similarity matrix\n",
        "    w2v_similarity = [[0.0] * len(words) for _ in range(len(words))]\n",
        "    for i in range(len(words)):\n",
        "        for j in range(len(words)):\n",
        "            if i != j:  # Skip self-similarity\n",
        "                similarity = model.similarity(words[i], words[j])\n",
        "                w2v_similarity[i][j] = similarity\n",
        "\n",
        "    return word_vectors, w2v_similarity\n",
        "\n",
        "word2vec, w2v_similarity = get_word_similarity(words)\n"
      ]
    },
    {
      "cell_type": "markdown",
      "metadata": {
        "id": "GLQn4B_snbfg"
      },
      "source": [
        "The similarity of each word with other words in words is displayed as a pandas dataframe and as a heatmap"
      ]
    },
    {
      "cell_type": "code",
      "execution_count": null,
      "metadata": {
        "id": "z3-NqzVunhg1",
        "outputId": "93b1195f-d631-4f22-a082-162a5c238486"
      },
      "outputs": [
        {
          "data": {
            "text/html": [
              "<div>\n",
              "<style scoped>\n",
              "    .dataframe tbody tr th:only-of-type {\n",
              "        vertical-align: middle;\n",
              "    }\n",
              "\n",
              "    .dataframe tbody tr th {\n",
              "        vertical-align: top;\n",
              "    }\n",
              "\n",
              "    .dataframe thead th {\n",
              "        text-align: right;\n",
              "    }\n",
              "</style>\n",
              "<table border=\"1\" class=\"dataframe\">\n",
              "  <thead>\n",
              "    <tr style=\"text-align: right;\">\n",
              "      <th></th>\n",
              "      <th>king</th>\n",
              "      <th>queen</th>\n",
              "      <th>river</th>\n",
              "      <th>water</th>\n",
              "      <th>ocean</th>\n",
              "      <th>tree</th>\n",
              "      <th>plant</th>\n",
              "      <th>happy</th>\n",
              "      <th>glad</th>\n",
              "      <th>mother</th>\n",
              "      <th>daughter</th>\n",
              "    </tr>\n",
              "  </thead>\n",
              "  <tbody>\n",
              "    <tr>\n",
              "      <th>king</th>\n",
              "      <td>0.000000</td>\n",
              "      <td>0.651096</td>\n",
              "      <td>0.086155</td>\n",
              "      <td>0.035606</td>\n",
              "      <td>0.065263</td>\n",
              "      <td>0.109141</td>\n",
              "      <td>0.057788</td>\n",
              "      <td>0.113239</td>\n",
              "      <td>0.063524</td>\n",
              "      <td>0.160052</td>\n",
              "      <td>0.148813</td>\n",
              "    </tr>\n",
              "    <tr>\n",
              "      <th>queen</th>\n",
              "      <td>0.651096</td>\n",
              "      <td>0.000000</td>\n",
              "      <td>0.103566</td>\n",
              "      <td>0.018264</td>\n",
              "      <td>0.099157</td>\n",
              "      <td>0.112222</td>\n",
              "      <td>0.088803</td>\n",
              "      <td>0.121214</td>\n",
              "      <td>0.082538</td>\n",
              "      <td>0.288445</td>\n",
              "      <td>0.305139</td>\n",
              "    </tr>\n",
              "    <tr>\n",
              "      <th>river</th>\n",
              "      <td>0.086155</td>\n",
              "      <td>0.103566</td>\n",
              "      <td>0.000000</td>\n",
              "      <td>0.576898</td>\n",
              "      <td>0.477181</td>\n",
              "      <td>0.230746</td>\n",
              "      <td>0.201330</td>\n",
              "      <td>0.073289</td>\n",
              "      <td>0.071341</td>\n",
              "      <td>0.131063</td>\n",
              "      <td>0.116944</td>\n",
              "    </tr>\n",
              "    <tr>\n",
              "      <th>water</th>\n",
              "      <td>0.035606</td>\n",
              "      <td>0.018264</td>\n",
              "      <td>0.576898</td>\n",
              "      <td>0.000000</td>\n",
              "      <td>0.471691</td>\n",
              "      <td>0.196022</td>\n",
              "      <td>0.271738</td>\n",
              "      <td>0.067675</td>\n",
              "      <td>0.085623</td>\n",
              "      <td>0.110723</td>\n",
              "      <td>0.079457</td>\n",
              "    </tr>\n",
              "    <tr>\n",
              "      <th>ocean</th>\n",
              "      <td>0.065263</td>\n",
              "      <td>0.099157</td>\n",
              "      <td>0.477181</td>\n",
              "      <td>0.471691</td>\n",
              "      <td>0.000000</td>\n",
              "      <td>0.141859</td>\n",
              "      <td>0.067005</td>\n",
              "      <td>-0.000511</td>\n",
              "      <td>0.014122</td>\n",
              "      <td>0.105623</td>\n",
              "      <td>0.081207</td>\n",
              "    </tr>\n",
              "    <tr>\n",
              "      <th>tree</th>\n",
              "      <td>0.109141</td>\n",
              "      <td>0.112222</td>\n",
              "      <td>0.230746</td>\n",
              "      <td>0.196022</td>\n",
              "      <td>0.141859</td>\n",
              "      <td>0.000000</td>\n",
              "      <td>0.265187</td>\n",
              "      <td>0.076933</td>\n",
              "      <td>0.105760</td>\n",
              "      <td>0.188985</td>\n",
              "      <td>0.173518</td>\n",
              "    </tr>\n",
              "    <tr>\n",
              "      <th>plant</th>\n",
              "      <td>0.057788</td>\n",
              "      <td>0.088803</td>\n",
              "      <td>0.201330</td>\n",
              "      <td>0.271738</td>\n",
              "      <td>0.067005</td>\n",
              "      <td>0.265187</td>\n",
              "      <td>0.000000</td>\n",
              "      <td>-0.010519</td>\n",
              "      <td>-0.000679</td>\n",
              "      <td>0.148805</td>\n",
              "      <td>0.092466</td>\n",
              "    </tr>\n",
              "    <tr>\n",
              "      <th>happy</th>\n",
              "      <td>0.113239</td>\n",
              "      <td>0.121214</td>\n",
              "      <td>0.073289</td>\n",
              "      <td>0.067675</td>\n",
              "      <td>-0.000511</td>\n",
              "      <td>0.076933</td>\n",
              "      <td>-0.010519</td>\n",
              "      <td>0.000000</td>\n",
              "      <td>0.740889</td>\n",
              "      <td>0.119672</td>\n",
              "      <td>0.152536</td>\n",
              "    </tr>\n",
              "    <tr>\n",
              "      <th>glad</th>\n",
              "      <td>0.063524</td>\n",
              "      <td>0.082538</td>\n",
              "      <td>0.071341</td>\n",
              "      <td>0.085623</td>\n",
              "      <td>0.014122</td>\n",
              "      <td>0.105760</td>\n",
              "      <td>-0.000679</td>\n",
              "      <td>0.740889</td>\n",
              "      <td>0.000000</td>\n",
              "      <td>0.125566</td>\n",
              "      <td>0.181102</td>\n",
              "    </tr>\n",
              "    <tr>\n",
              "      <th>mother</th>\n",
              "      <td>0.160052</td>\n",
              "      <td>0.288445</td>\n",
              "      <td>0.131063</td>\n",
              "      <td>0.110723</td>\n",
              "      <td>0.105623</td>\n",
              "      <td>0.188985</td>\n",
              "      <td>0.148805</td>\n",
              "      <td>0.119672</td>\n",
              "      <td>0.125566</td>\n",
              "      <td>0.000000</td>\n",
              "      <td>0.870623</td>\n",
              "    </tr>\n",
              "    <tr>\n",
              "      <th>daughter</th>\n",
              "      <td>0.148813</td>\n",
              "      <td>0.305139</td>\n",
              "      <td>0.116944</td>\n",
              "      <td>0.079457</td>\n",
              "      <td>0.081207</td>\n",
              "      <td>0.173518</td>\n",
              "      <td>0.092466</td>\n",
              "      <td>0.152536</td>\n",
              "      <td>0.181102</td>\n",
              "      <td>0.870623</td>\n",
              "      <td>0.000000</td>\n",
              "    </tr>\n",
              "  </tbody>\n",
              "</table>\n",
              "</div>"
            ],
            "text/plain": [
              "              king     queen     river     water     ocean      tree   \n",
              "king      0.000000  0.651096  0.086155  0.035606  0.065263  0.109141  \\\n",
              "queen     0.651096  0.000000  0.103566  0.018264  0.099157  0.112222   \n",
              "river     0.086155  0.103566  0.000000  0.576898  0.477181  0.230746   \n",
              "water     0.035606  0.018264  0.576898  0.000000  0.471691  0.196022   \n",
              "ocean     0.065263  0.099157  0.477181  0.471691  0.000000  0.141859   \n",
              "tree      0.109141  0.112222  0.230746  0.196022  0.141859  0.000000   \n",
              "plant     0.057788  0.088803  0.201330  0.271738  0.067005  0.265187   \n",
              "happy     0.113239  0.121214  0.073289  0.067675 -0.000511  0.076933   \n",
              "glad      0.063524  0.082538  0.071341  0.085623  0.014122  0.105760   \n",
              "mother    0.160052  0.288445  0.131063  0.110723  0.105623  0.188985   \n",
              "daughter  0.148813  0.305139  0.116944  0.079457  0.081207  0.173518   \n",
              "\n",
              "             plant     happy      glad    mother  daughter  \n",
              "king      0.057788  0.113239  0.063524  0.160052  0.148813  \n",
              "queen     0.088803  0.121214  0.082538  0.288445  0.305139  \n",
              "river     0.201330  0.073289  0.071341  0.131063  0.116944  \n",
              "water     0.271738  0.067675  0.085623  0.110723  0.079457  \n",
              "ocean     0.067005 -0.000511  0.014122  0.105623  0.081207  \n",
              "tree      0.265187  0.076933  0.105760  0.188985  0.173518  \n",
              "plant     0.000000 -0.010519 -0.000679  0.148805  0.092466  \n",
              "happy    -0.010519  0.000000  0.740889  0.119672  0.152536  \n",
              "glad     -0.000679  0.740889  0.000000  0.125566  0.181102  \n",
              "mother    0.148805  0.119672  0.125566  0.000000  0.870623  \n",
              "daughter  0.092466  0.152536  0.181102  0.870623  0.000000  "
            ]
          },
          "execution_count": 321,
          "metadata": {},
          "output_type": "execute_result"
        }
      ],
      "source": [
        "pd.DataFrame(w2v_similarity, columns = words, index = words)"
      ]
    },
    {
      "cell_type": "code",
      "execution_count": null,
      "metadata": {
        "id": "koErrEInnjcd",
        "outputId": "1e8f36ec-b676-4721-a389-b9081109198c"
      },
      "outputs": [
        {
          "data": {
            "text/plain": [
              "<Axes: >"
            ]
          },
          "execution_count": 322,
          "metadata": {},
          "output_type": "execute_result"
        },
        {
          "data": {
            "image/png": "[encoded data removed]",
            "text/plain": [
              "<Figure size 640x480 with 2 Axes>"
            ]
          },
          "metadata": {},
          "output_type": "display_data"
        }
      ],
      "source": [
        "sns.heatmap(pd.DataFrame(w2v_similarity, columns = words, index = words))"
      ]
    },
    {
      "cell_type": "markdown",
      "metadata": {
        "id": "ptKTusGJnpLy"
      },
      "source": [
        "The size of the words embedding are reduced to to 2D and displayed as a scatterplot for analysis"
      ]
    },
    {
      "cell_type": "code",
      "execution_count": null,
      "metadata": {
        "id": "ADEMWok8nrX0"
      },
      "outputs": [],
      "source": [
        "#PCA on word2vec embedding\n",
        "pca = PCA(n_components=2)\n",
        "\n",
        "reduced_w2v = pca.fit_transform(word2vec)"
      ]
    },
    {
      "cell_type": "code",
      "execution_count": null,
      "metadata": {
        "id": "la2osFTxntIc",
        "outputId": "49e9e41c-0f60-46f9-de55-663eb7a31d11"
      },
      "outputs": [
        {
          "data": {
            "image/png": "[encoded data removed]",
            "text/plain": [
              "<Figure size 800x500 with 1 Axes>"
            ]
          },
          "metadata": {},
          "output_type": "display_data"
        }
      ],
      "source": [
        "#plotting reduced order embeddings in a 2-D space\n",
        "\n",
        "plt.figure(figsize=(8,5))\n",
        "plt.scatter(reduced_w2v[:,0],reduced_w2v[:,1], s = 12, color = 'red')\n",
        "plt.xlim([-2.5,2.5])\n",
        "plt.ylim([-2.5,2.5])\n",
        "x, y = reduced_w2v[:,0] , reduced_w2v[:,1]\n",
        "for i in range(len(x)):\n",
        "    plt.annotate(words[i],xy=(x[i], y[i]),xytext=(x[i]+0.05,y[i]+0.05))"
      ]
    },
    {
      "cell_type": "code",
      "execution_count": null,
      "metadata": {
        "id": "Whg_kv2QnvXW",
        "outputId": "51fbfc31-fb33-4546-a024-623b2545bd50"
      },
      "outputs": [
        {
          "data": {
            "text/plain": [
              "[('indian', 0.6967040300369263),\n",
              " ('usa', 0.6836211085319519),\n",
              " ('pakistan', 0.681516706943512),\n",
              " ('chennai', 0.6675503253936768),\n",
              " ('america', 0.6589399576187134),\n",
              " ('sri_lanka', 0.6498200297355652),\n",
              " ('canada', 0.6490967273712158),\n",
              " ('australia', 0.6368582248687744),\n",
              " ('mexico', 0.6239138245582581),\n",
              " ('uk', 0.6221641302108765)]"
            ]
          },
          "execution_count": 284,
          "metadata": {},
          "output_type": "execute_result"
        }
      ],
      "source": [
        "model.most_similar('india')"
      ]
    },
    {
      "cell_type": "markdown",
      "metadata": {
        "id": "fIx8JEMynzK5"
      },
      "source": [
        "Analogy test"
      ]
    },
    {
      "cell_type": "code",
      "execution_count": null,
      "metadata": {
        "id": "N41c0AJKnzou"
      },
      "outputs": [],
      "source": [
        "def analogy(x1, x2, y1): #defining analogy function\n",
        "    result = model.most_similar(positive=[y1, x2], negative=[x1], topn = 5)\n",
        "    return result"
      ]
    },
    {
      "cell_type": "code",
      "execution_count": null,
      "metadata": {
        "id": "sbEfS_7An3RF",
        "outputId": "c7d88bac-8b11-495b-dba1-b4ebf50dccbb"
      },
      "outputs": [
        {
          "data": {
            "text/plain": [
              "[('queen', 0.7118191123008728),\n",
              " ('monarch', 0.6189674735069275),\n",
              " ('princess', 0.5902430415153503),\n",
              " ('crown_prince', 0.5499458909034729),\n",
              " ('prince', 0.5377322435379028)]"
            ]
          },
          "execution_count": 326,
          "metadata": {},
          "output_type": "execute_result"
        }
      ],
      "source": [
        "analogy('man', 'king', 'woman')"
      ]
    },
    {
      "cell_type": "code",
      "execution_count": null,
      "metadata": {
        "id": "wbqo3EhNy952",
        "outputId": "57eee029-1df4-43c7-d997-79bc91cf4239"
      },
      "outputs": [
        {
          "name": "stdout",
          "output_type": "stream",
          "text": [
            "EVALUATION: Precision at 5 for the analogy test with Google skip-gram model is 0.8748\n"
          ]
        }
      ],
      "source": [
        "def analogy_score(analogy_dataset):\n",
        "\n",
        "    \"\"\"\n",
        "    The top5 analogous words calculated for each set of words for Google's\n",
        "    word2vec and compared with an existing dataset to calculate if the word\n",
        "    is in the first 5 predictions.\n",
        "\n",
        "    \"\"\"\n",
        "    correct = 0\n",
        "    total = 0\n",
        "\n",
        "    for a, b, c, d in analogy_dataset:\n",
        "        # Convert words to lowercase\n",
        "        a, b, c, d = a.lower(), b.lower(), c.lower(), d.lower()\n",
        "\n",
        "        words_scores = analogy(a,b,c)\n",
        "\n",
        "        predicted_words = [item[0] for item in words_scores]\n",
        "\n",
        "        if d in predicted_words:\n",
        "            correct += 1\n",
        "\n",
        "        total += 1\n",
        "\n",
        "    precision_at_5 = correct / total if total > 0 else 0\n",
        "    return precision_at_5\n",
        "\n",
        "precision_at_5_Google = analogy_score(sampled_analogy_dataset)\n",
        "print(\"EVALUATION: Precision at 5 for the analogy test with Google skip-gram model is\", precision_at_5_Google)"
      ]
    },
    {
      "cell_type": "markdown",
      "metadata": {
        "id": "acp_DOcZn5j2"
      },
      "source": [
        "### Submission Instructions\n",
        "\n",
        "Mentioned at the top of the notebook."
      ]
    },
    {
      "cell_type": "code",
      "execution_count": null,
      "metadata": {
        "id": "03ZCDhnXGge6",
        "outputId": "7711c808-3c54-48c4-a7d2-6a34ee369053"
      },
      "outputs": [
        {
          "data": {
            "text/plain": [
              "3060986"
            ]
          },
          "execution_count": 2,
          "metadata": {},
          "output_type": "execute_result"
        }
      ],
      "source": [
        "import os\n",
        "os.getpid()"
      ]
    }
  ],
  "metadata": {
    "accelerator": "GPU",
    "colab": {
      "collapsed_sections": [
        "M7ztqIifzwud",
        "0DPrrDVmF4qs",
        "w48UudOSjLnh"
      ],
      "gpuType": "T4",
      "provenance": []
    },
    "kernelspec": {
      "display_name": "Python 3 (ipykernel)",
      "language": "python",
      "name": "python3"
    },
    "language_info": {
      "codemirror_mode": {
        "name": "ipython",
        "version": 3
      },
      "file_extension": ".py",
      "mimetype": "text/x-python",
      "name": "python",
      "nbconvert_exporter": "python",
      "pygments_lexer": "ipython3",
      "version": "3.8.10"
    }
  },
  "nbformat": 4,
  "nbformat_minor": 0
}